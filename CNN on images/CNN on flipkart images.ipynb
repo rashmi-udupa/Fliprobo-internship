{
 "cells": [
  {
   "cell_type": "code",
   "execution_count": 2,
   "metadata": {},
   "outputs": [],
   "source": [
    "import tensorflow as tf\n",
    "from tensorflow.keras.preprocessing.image import ImageDataGenerator"
   ]
  },
  {
   "cell_type": "code",
   "execution_count": 3,
   "metadata": {},
   "outputs": [],
   "source": [
    "# Lets do data preprocessing\n",
    "\n",
    "# Preprocessing training dataset\n",
    "train_datagen=ImageDataGenerator(rescale=1./255,\n",
    "                                shear_range=0.2,\n",
    "                                zoom_range=0.2)"
   ]
  },
  {
   "cell_type": "code",
   "execution_count": 4,
   "metadata": {},
   "outputs": [
    {
     "name": "stdout",
     "output_type": "stream",
     "text": [
      "Found 2251 images belonging to 3 classes.\n",
      "Found 150 images belonging to 3 classes.\n"
     ]
    }
   ],
   "source": [
    "training_set=train_datagen.flow_from_directory('E:/Data Science/FlipRobo/Assignments/Deep Learning/Images/Image Scraping and Classification Project/Train',\n",
    "                                              target_size=(64,64),\n",
    "                                               batch_size=32,\n",
    "                                               class_mode='categorical')\n",
    "\n",
    "# Preprocessing the Test set\n",
    "test_datagen=ImageDataGenerator(rescale=1./255)\n",
    "test_set=test_datagen.flow_from_directory('E:/Data Science/FlipRobo/Assignments/Deep Learning/Images/Image Scraping and Classification Project/Test',\n",
    "                                                 target_size=(64,64),\n",
    "                                               batch_size=32,\n",
    "                                               class_mode='categorical') # classmode would be binary for two classes"
   ]
  },
  {
   "cell_type": "code",
   "execution_count": 5,
   "metadata": {},
   "outputs": [],
   "source": [
    "from tensorflow.keras.layers import Conv2D"
   ]
  },
  {
   "cell_type": "code",
   "execution_count": 6,
   "metadata": {},
   "outputs": [],
   "source": [
    "# Part 2 - Building the CNN\n",
    "\n",
    "# Initialising the CNN\n",
    "cnn=tf.keras.models.Sequential()\n",
    "\n",
    "# Step-1 - Convolution\n",
    "cnn.add(tf.keras.layers.Conv2D(filters=32,padding='same',kernel_size=3,activation='relu',input_shape=[64,64,3]))\n",
    "\n",
    "# Step-2 Pooling\n",
    "cnn.add(tf.keras.layers.MaxPool2D(pool_size=2,strides=2))\n",
    "\n",
    "# Adding a second convolutional layer\n",
    "cnn.add(tf.keras.layers.Conv2D(filters=32,padding='same',kernel_size=3, activation='relu'))\n",
    "cnn.add(tf.keras.layers.MaxPool2D(pool_size=2, strides=2))\n",
    "\n",
    "# Step 3 - Flattening\n",
    "cnn.add(tf.keras.layers.Flatten())\n",
    "\n",
    "# Step 4 - Full Connection\n",
    "cnn.add(tf.keras.layers.Dense(units=128, activation='relu'))\n",
    "\n",
    "# Step 5 - Output Layer\n",
    "cnn.add(tf.keras.layers.Dense(units=3, activation='sigmoid'))"
   ]
  },
  {
   "cell_type": "code",
   "execution_count": 7,
   "metadata": {},
   "outputs": [
    {
     "name": "stdout",
     "output_type": "stream",
     "text": [
      "Model: \"sequential\"\n",
      "_________________________________________________________________\n",
      "Layer (type)                 Output Shape              Param #   \n",
      "=================================================================\n",
      "conv2d (Conv2D)              (None, 64, 64, 32)        896       \n",
      "_________________________________________________________________\n",
      "max_pooling2d (MaxPooling2D) (None, 32, 32, 32)        0         \n",
      "_________________________________________________________________\n",
      "conv2d_1 (Conv2D)            (None, 32, 32, 32)        9248      \n",
      "_________________________________________________________________\n",
      "max_pooling2d_1 (MaxPooling2 (None, 16, 16, 32)        0         \n",
      "_________________________________________________________________\n",
      "flatten (Flatten)            (None, 8192)              0         \n",
      "_________________________________________________________________\n",
      "dense (Dense)                (None, 128)               1048704   \n",
      "_________________________________________________________________\n",
      "dense_1 (Dense)              (None, 3)                 387       \n",
      "=================================================================\n",
      "Total params: 1,059,235\n",
      "Trainable params: 1,059,235\n",
      "Non-trainable params: 0\n",
      "_________________________________________________________________\n"
     ]
    }
   ],
   "source": [
    "cnn.summary()"
   ]
  },
  {
   "cell_type": "code",
   "execution_count": 8,
   "metadata": {},
   "outputs": [
    {
     "name": "stdout",
     "output_type": "stream",
     "text": [
      "Epoch 1/10\n",
      "71/71 [==============================] - 22s 316ms/step - loss: 0.5108 - accuracy: 0.7459 - val_loss: 0.3421 - val_accuracy: 0.8467\n",
      "Epoch 2/10\n",
      "71/71 [==============================] - 18s 246ms/step - loss: 0.2474 - accuracy: 0.9032 - val_loss: 0.1491 - val_accuracy: 0.9333\n",
      "Epoch 3/10\n",
      "71/71 [==============================] - 17s 245ms/step - loss: 0.1989 - accuracy: 0.9245 - val_loss: 0.1357 - val_accuracy: 0.9533\n",
      "Epoch 4/10\n",
      "71/71 [==============================] - 18s 248ms/step - loss: 0.1560 - accuracy: 0.9449 - val_loss: 0.1785 - val_accuracy: 0.9400\n",
      "Epoch 5/10\n",
      "71/71 [==============================] - 17s 245ms/step - loss: 0.1437 - accuracy: 0.9462 - val_loss: 0.1076 - val_accuracy: 0.9600\n",
      "Epoch 6/10\n",
      "71/71 [==============================] - 17s 245ms/step - loss: 0.1512 - accuracy: 0.9427 - val_loss: 0.1241 - val_accuracy: 0.9533\n",
      "Epoch 7/10\n",
      "71/71 [==============================] - 18s 258ms/step - loss: 0.1469 - accuracy: 0.9422 - val_loss: 0.1042 - val_accuracy: 0.9600\n",
      "Epoch 8/10\n",
      "71/71 [==============================] - 18s 249ms/step - loss: 0.1152 - accuracy: 0.9538 - val_loss: 0.0841 - val_accuracy: 0.9667\n",
      "Epoch 9/10\n",
      "71/71 [==============================] - 18s 248ms/step - loss: 0.1329 - accuracy: 0.9494 - val_loss: 0.0922 - val_accuracy: 0.9733\n",
      "Epoch 10/10\n",
      "71/71 [==============================] - 17s 246ms/step - loss: 0.1096 - accuracy: 0.9574 - val_loss: 0.0660 - val_accuracy: 0.9733\n"
     ]
    },
    {
     "data": {
      "text/plain": [
       "<tensorflow.python.keras.callbacks.History at 0x2530ae7e520>"
      ]
     },
     "execution_count": 8,
     "metadata": {},
     "output_type": "execute_result"
    }
   ],
   "source": [
    "\n",
    "# Part 3 - Training the CNN\n",
    "\n",
    "# Compiling the CNN\n",
    "cnn.compile(optimizer = 'adam', loss = 'CategoricalCrossentropy', metrics = ['accuracy'])\n",
    "\n",
    "# Training the CNN on the Training set and evaluating it on the Test set\n",
    "cnn.fit(x = training_set, validation_data = test_set, epochs = 10)"
   ]
  },
  {
   "cell_type": "code",
   "execution_count": 9,
   "metadata": {},
   "outputs": [],
   "source": [
    "\n",
    "# save it as a h5 file\n",
    "\n",
    "\n",
    "from tensorflow.keras.models import load_model\n",
    "\n",
    "cnn.save('model_images.h5')"
   ]
  }
 ],
 "metadata": {
  "kernelspec": {
   "display_name": "Python 3",
   "language": "python",
   "name": "python3"
  },
  "language_info": {
   "codemirror_mode": {
    "name": "ipython",
    "version": 3
   },
   "file_extension": ".py",
   "mimetype": "text/x-python",
   "name": "python",
   "nbconvert_exporter": "python",
   "pygments_lexer": "ipython3",
   "version": "3.8.3"
  }
 },
 "nbformat": 4,
 "nbformat_minor": 4
}
