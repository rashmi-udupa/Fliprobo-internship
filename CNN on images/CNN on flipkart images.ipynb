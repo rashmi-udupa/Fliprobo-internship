{
 "cells": [
  {
   "cell_type": "code",
   "execution_count": 41,
   "metadata": {},
   "outputs": [],
   "source": [
    "import tensorflow as tf\n",
    "from tensorflow.keras.preprocessing.image import ImageDataGenerator"
   ]
  },
  {
   "cell_type": "code",
   "execution_count": 42,
   "metadata": {},
   "outputs": [],
   "source": [
    "# Lets do data preprocessing\n",
    "\n",
    "# Preprocessing training dataset\n",
    "train_datagen=ImageDataGenerator(rescale=1./255,\n",
    "                                shear_range=0.2,\n",
    "                                zoom_range=0.2)"
   ]
  },
  {
   "cell_type": "code",
   "execution_count": 43,
   "metadata": {},
   "outputs": [
    {
     "name": "stdout",
     "output_type": "stream",
     "text": [
      "Found 2251 images belonging to 3 classes.\n",
      "Found 150 images belonging to 3 classes.\n"
     ]
    }
   ],
   "source": [
    "training_set=train_datagen.flow_from_directory('E:/Data Science/FlipRobo/Assignments/Deep Learning/Images/Image Scraping and Classification Project/Train',\n",
    "                                              target_size=(64,64),\n",
    "                                               batch_size=32,\n",
    "                                               class_mode='categorical')\n",
    "\n",
    "# Preprocessing the Test set\n",
    "test_datagen=ImageDataGenerator(rescale=1./255)\n",
    "test_set=test_datagen.flow_from_directory('E:/Data Science/FlipRobo/Assignments/Deep Learning/Images/Image Scraping and Classification Project/Test',\n",
    "                                                 target_size=(64,64),\n",
    "                                               batch_size=32,\n",
    "                                               class_mode='categorical') # classmode would be binary for two classes"
   ]
  },
  {
   "cell_type": "code",
   "execution_count": 44,
   "metadata": {},
   "outputs": [],
   "source": [
    "from tensorflow.keras.layers import Conv2D"
   ]
  },
  {
   "cell_type": "code",
   "execution_count": 45,
   "metadata": {},
   "outputs": [],
   "source": [
    "# Part 2 - Building the CNN\n",
    "\n",
    "# Initialising the CNN\n",
    "cnn=tf.keras.models.Sequential()\n",
    "\n",
    "# Step-1 - Convolution\n",
    "cnn.add(tf.keras.layers.Conv2D(filters=32,padding='same',kernel_size=3,activation='relu',input_shape=[64,64,3]))\n",
    "\n",
    "# Step-2 Pooling\n",
    "cnn.add(tf.keras.layers.MaxPool2D(pool_size=2,strides=2))\n",
    "\n",
    "# Adding a second convolutional layer\n",
    "cnn.add(tf.keras.layers.Conv2D(filters=32,padding='same',kernel_size=3, activation='relu'))\n",
    "cnn.add(tf.keras.layers.MaxPool2D(pool_size=2, strides=2))\n",
    "\n",
    "# Step 3 - Flattening\n",
    "cnn.add(tf.keras.layers.Flatten())\n",
    "\n",
    "# Step 4 - Full Connection\n",
    "cnn.add(tf.keras.layers.Dense(units=128, activation='relu'))\n",
    "\n",
    "# Step 5 - Output Layer\n",
    "cnn.add(tf.keras.layers.Dense(units=3, activation='softmax'))"
   ]
  },
  {
   "cell_type": "code",
   "execution_count": 46,
   "metadata": {},
   "outputs": [
    {
     "name": "stdout",
     "output_type": "stream",
     "text": [
      "Model: \"sequential_1\"\n",
      "_________________________________________________________________\n",
      "Layer (type)                 Output Shape              Param #   \n",
      "=================================================================\n",
      "conv2d_2 (Conv2D)            (None, 64, 64, 32)        896       \n",
      "_________________________________________________________________\n",
      "max_pooling2d_2 (MaxPooling2 (None, 32, 32, 32)        0         \n",
      "_________________________________________________________________\n",
      "conv2d_3 (Conv2D)            (None, 32, 32, 32)        9248      \n",
      "_________________________________________________________________\n",
      "max_pooling2d_3 (MaxPooling2 (None, 16, 16, 32)        0         \n",
      "_________________________________________________________________\n",
      "flatten_1 (Flatten)          (None, 8192)              0         \n",
      "_________________________________________________________________\n",
      "dense_2 (Dense)              (None, 128)               1048704   \n",
      "_________________________________________________________________\n",
      "dense_3 (Dense)              (None, 3)                 387       \n",
      "=================================================================\n",
      "Total params: 1,059,235\n",
      "Trainable params: 1,059,235\n",
      "Non-trainable params: 0\n",
      "_________________________________________________________________\n"
     ]
    }
   ],
   "source": [
    "cnn.summary()"
   ]
  },
  {
   "cell_type": "code",
   "execution_count": 47,
   "metadata": {},
   "outputs": [
    {
     "name": "stdout",
     "output_type": "stream",
     "text": [
      "Epoch 1/10\n",
      "71/71 [==============================] - 15s 214ms/step - loss: 0.4991 - accuracy: 0.7757 - val_loss: 0.3524 - val_accuracy: 0.8667\n",
      "Epoch 2/10\n",
      "71/71 [==============================] - 9s 126ms/step - loss: 0.2317 - accuracy: 0.9054 - val_loss: 0.1394 - val_accuracy: 0.9467\n",
      "Epoch 3/10\n",
      "71/71 [==============================] - 9s 121ms/step - loss: 0.1680 - accuracy: 0.9360 - val_loss: 0.1616 - val_accuracy: 0.9533\n",
      "Epoch 4/10\n",
      "71/71 [==============================] - 8s 119ms/step - loss: 0.1466 - accuracy: 0.9405 - val_loss: 0.0820 - val_accuracy: 0.9667\n",
      "Epoch 5/10\n",
      "71/71 [==============================] - 9s 128ms/step - loss: 0.1524 - accuracy: 0.9436 - val_loss: 0.2229 - val_accuracy: 0.9200\n",
      "Epoch 6/10\n",
      "71/71 [==============================] - 9s 133ms/step - loss: 0.1322 - accuracy: 0.9525 - val_loss: 0.1069 - val_accuracy: 0.9667\n",
      "Epoch 7/10\n",
      "71/71 [==============================] - 10s 145ms/step - loss: 0.1218 - accuracy: 0.9582 - val_loss: 0.1245 - val_accuracy: 0.9600\n",
      "Epoch 8/10\n",
      "71/71 [==============================] - 9s 132ms/step - loss: 0.1128 - accuracy: 0.9560 - val_loss: 0.0798 - val_accuracy: 0.9667\n",
      "Epoch 9/10\n",
      "71/71 [==============================] - 14s 197ms/step - loss: 0.1072 - accuracy: 0.9614 - val_loss: 0.1420 - val_accuracy: 0.9533\n",
      "Epoch 10/10\n",
      "71/71 [==============================] - 18s 255ms/step - loss: 0.0938 - accuracy: 0.9627 - val_loss: 0.1184 - val_accuracy: 0.9467\n"
     ]
    },
    {
     "data": {
      "text/plain": [
       "<tensorflow.python.keras.callbacks.History at 0x253172c6a60>"
      ]
     },
     "execution_count": 47,
     "metadata": {},
     "output_type": "execute_result"
    }
   ],
   "source": [
    "\n",
    "# Part 3 - Training the CNN\n",
    "\n",
    "# Compiling the CNN\n",
    "cnn.compile(optimizer = 'adam', loss = 'CategoricalCrossentropy', metrics = ['accuracy'])\n",
    "\n",
    "# Training the CNN on the Training set and evaluating it on the Test set\n",
    "cnn.fit(x = training_set, validation_data = test_set, epochs = 10)"
   ]
  },
  {
   "cell_type": "code",
   "execution_count": 48,
   "metadata": {},
   "outputs": [],
   "source": [
    "\n",
    "# save it as a h5 file\n",
    "\n",
    "\n",
    "from tensorflow.keras.models import load_model\n",
    "\n",
    "cnn.save('model_images.h5')"
   ]
  },
  {
   "cell_type": "code",
   "execution_count": 49,
   "metadata": {},
   "outputs": [],
   "source": [
    "# Part 4 - Making a single prediction\n",
    "\n",
    "import numpy as np\n",
    "from tensorflow.keras.preprocessing import image\n",
    "test_image = image.load_img('E:/Data Science/FlipRobo/Assignments/Deep Learning/Images/Image Scraping and Classification Project/Test/Jeans/Img752.jpeg', target_size = (64,64))\n",
    "test_image = image.img_to_array(test_image)\n",
    "test_image=test_image/255\n",
    "test_image = np.expand_dims(test_image, axis = 0)\n",
    "result = model.predict(test_image)"
   ]
  },
  {
   "cell_type": "code",
   "execution_count": 52,
   "metadata": {},
   "outputs": [
    {
     "data": {
      "text/plain": [
       "'Jeans'"
      ]
     },
     "execution_count": 52,
     "metadata": {},
     "output_type": "execute_result"
    }
   ],
   "source": [
    "class_names=['Jeans','Sarees','Trousers']\n",
    "class_names[np.argmax(result[0])]"
   ]
  },
  {
   "cell_type": "code",
   "execution_count": 53,
   "metadata": {},
   "outputs": [
    {
     "data": {
      "text/plain": [
       "'Sarees'"
      ]
     },
     "execution_count": 53,
     "metadata": {},
     "output_type": "execute_result"
    }
   ],
   "source": [
    "# Check saree image\n",
    "from tensorflow.keras.preprocessing import image\n",
    "test_image = image.load_img('E:/Data Science/FlipRobo/Assignments/Deep Learning/Images/Image Scraping and Classification Project/Test/Sarees/Img_757.jpeg', target_size = (64,64))\n",
    "test_image = image.img_to_array(test_image)\n",
    "test_image=test_image/255\n",
    "test_image = np.expand_dims(test_image, axis = 0)\n",
    "result = model.predict(test_image)\n",
    "class_names[np.argmax(result[0])]"
   ]
  },
  {
   "cell_type": "code",
   "execution_count": 54,
   "metadata": {},
   "outputs": [
    {
     "data": {
      "text/plain": [
       "'Trousers'"
      ]
     },
     "execution_count": 54,
     "metadata": {},
     "output_type": "execute_result"
    }
   ],
   "source": [
    "# Check Trouser image\n",
    "from tensorflow.keras.preprocessing import image\n",
    "test_image=image.load_img('E:/Data Science/FlipRobo/Assignments/Deep Learning/Images/Image Scraping and Classification Project/Test/Trousers/Img762.jpeg', target_size = (64,64))\n",
    "test_image=image.img_to_array(test_image)\n",
    "test_image=test_image/255\n",
    "test_image=np.expand_dims(test_image,axis=0)\n",
    "result=model.predict(test_image)\n",
    "class_names[np.argmax(result[0])]"
   ]
  },
  {
   "cell_type": "code",
   "execution_count": null,
   "metadata": {},
   "outputs": [],
   "source": []
  }
 ],
 "metadata": {
  "kernelspec": {
   "display_name": "Python 3",
   "language": "python",
   "name": "python3"
  },
  "language_info": {
   "codemirror_mode": {
    "name": "ipython",
    "version": 3
   },
   "file_extension": ".py",
   "mimetype": "text/x-python",
   "name": "python",
   "nbconvert_exporter": "python",
   "pygments_lexer": "ipython3",
   "version": "3.8.3"
  }
 },
 "nbformat": 4,
 "nbformat_minor": 4
}
