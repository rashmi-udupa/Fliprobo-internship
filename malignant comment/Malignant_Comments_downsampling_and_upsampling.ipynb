{
  "nbformat": 4,
  "nbformat_minor": 0,
  "metadata": {
    "colab": {
      "name": "Malignant_Comments_downsampling and upsampling.ipynb",
      "provenance": [],
      "collapsed_sections": [],
      "toc_visible": true
    },
    "kernelspec": {
      "display_name": "Python 3",
      "language": "python",
      "name": "python3"
    }
  },
  "cells": [
    {
      "cell_type": "markdown",
      "metadata": {
        "id": "kXRmVvg8JNqU"
      },
      "source": [
        "Let us try the model by downsampling and upsampling the values\n",
        "All other analysis are done in the first notebook. This is continuation to the same \n"
      ]
    },
    {
      "cell_type": "code",
      "metadata": {
        "id": "mFFXKSo7JNqU"
      },
      "source": [
        "import numpy as np\n",
        "import pandas as pd"
      ],
      "execution_count": 1,
      "outputs": []
    },
    {
      "cell_type": "code",
      "metadata": {
        "id": "xMG7ITVuhSdD"
      },
      "source": [
        "import sys"
      ],
      "execution_count": 2,
      "outputs": []
    },
    {
      "cell_type": "code",
      "metadata": {
        "id": "PvQ0XGtHhU24"
      },
      "source": [
        "sys.setrecursionlimit(10**6)"
      ],
      "execution_count": 3,
      "outputs": []
    },
    {
      "cell_type": "code",
      "metadata": {
        "colab": {
          "base_uri": "https://localhost:8080/",
          "height": 195
        },
        "id": "eFcN1VKIJNqV",
        "outputId": "1c5d1f46-5c60-46d2-8efa-b910fc8e1955"
      },
      "source": [
        "df=pd.read_csv(\"train.csv\")\n",
        "df.head()"
      ],
      "execution_count": 4,
      "outputs": [
        {
          "output_type": "execute_result",
          "data": {
            "text/html": [
              "<div>\n",
              "<style scoped>\n",
              "    .dataframe tbody tr th:only-of-type {\n",
              "        vertical-align: middle;\n",
              "    }\n",
              "\n",
              "    .dataframe tbody tr th {\n",
              "        vertical-align: top;\n",
              "    }\n",
              "\n",
              "    .dataframe thead th {\n",
              "        text-align: right;\n",
              "    }\n",
              "</style>\n",
              "<table border=\"1\" class=\"dataframe\">\n",
              "  <thead>\n",
              "    <tr style=\"text-align: right;\">\n",
              "      <th></th>\n",
              "      <th>id</th>\n",
              "      <th>comment_text</th>\n",
              "      <th>malignant</th>\n",
              "      <th>highly_malignant</th>\n",
              "      <th>rude</th>\n",
              "      <th>threat</th>\n",
              "      <th>abuse</th>\n",
              "      <th>loathe</th>\n",
              "    </tr>\n",
              "  </thead>\n",
              "  <tbody>\n",
              "    <tr>\n",
              "      <th>0</th>\n",
              "      <td>0000997932d777bf</td>\n",
              "      <td>Explanation\\nWhy the edits made under my usern...</td>\n",
              "      <td>0</td>\n",
              "      <td>0</td>\n",
              "      <td>0</td>\n",
              "      <td>0</td>\n",
              "      <td>0</td>\n",
              "      <td>0</td>\n",
              "    </tr>\n",
              "    <tr>\n",
              "      <th>1</th>\n",
              "      <td>000103f0d9cfb60f</td>\n",
              "      <td>D'aww! He matches this background colour I'm s...</td>\n",
              "      <td>0</td>\n",
              "      <td>0</td>\n",
              "      <td>0</td>\n",
              "      <td>0</td>\n",
              "      <td>0</td>\n",
              "      <td>0</td>\n",
              "    </tr>\n",
              "    <tr>\n",
              "      <th>2</th>\n",
              "      <td>000113f07ec002fd</td>\n",
              "      <td>Hey man, I'm really not trying to edit war. It...</td>\n",
              "      <td>0</td>\n",
              "      <td>0</td>\n",
              "      <td>0</td>\n",
              "      <td>0</td>\n",
              "      <td>0</td>\n",
              "      <td>0</td>\n",
              "    </tr>\n",
              "    <tr>\n",
              "      <th>3</th>\n",
              "      <td>0001b41b1c6bb37e</td>\n",
              "      <td>\"\\nMore\\nI can't make any real suggestions on ...</td>\n",
              "      <td>0</td>\n",
              "      <td>0</td>\n",
              "      <td>0</td>\n",
              "      <td>0</td>\n",
              "      <td>0</td>\n",
              "      <td>0</td>\n",
              "    </tr>\n",
              "    <tr>\n",
              "      <th>4</th>\n",
              "      <td>0001d958c54c6e35</td>\n",
              "      <td>You, sir, are my hero. Any chance you remember...</td>\n",
              "      <td>0</td>\n",
              "      <td>0</td>\n",
              "      <td>0</td>\n",
              "      <td>0</td>\n",
              "      <td>0</td>\n",
              "      <td>0</td>\n",
              "    </tr>\n",
              "  </tbody>\n",
              "</table>\n",
              "</div>"
            ],
            "text/plain": [
              "                 id  ... loathe\n",
              "0  0000997932d777bf  ...      0\n",
              "1  000103f0d9cfb60f  ...      0\n",
              "2  000113f07ec002fd  ...      0\n",
              "3  0001b41b1c6bb37e  ...      0\n",
              "4  0001d958c54c6e35  ...      0\n",
              "\n",
              "[5 rows x 8 columns]"
            ]
          },
          "metadata": {
            "tags": []
          },
          "execution_count": 4
        }
      ]
    },
    {
      "cell_type": "code",
      "metadata": {
        "colab": {
          "base_uri": "https://localhost:8080/"
        },
        "id": "SLshxjTXJNqV",
        "outputId": "d0445da6-9722-455f-f498-f51c47973c8a"
      },
      "source": [
        "# Shape of the dataset\n",
        "df.shape\n",
        "# There are 159571 rows and eight columns in the dataset"
      ],
      "execution_count": 5,
      "outputs": [
        {
          "output_type": "execute_result",
          "data": {
            "text/plain": [
              "(159571, 8)"
            ]
          },
          "metadata": {
            "tags": []
          },
          "execution_count": 5
        }
      ]
    },
    {
      "cell_type": "code",
      "metadata": {
        "colab": {
          "base_uri": "https://localhost:8080/"
        },
        "id": "UKuGQr3UJNqW",
        "outputId": "6de93852-4a73-44e6-8df8-9df616e7e580"
      },
      "source": [
        "df['malignant'].value_counts()"
      ],
      "execution_count": 6,
      "outputs": [
        {
          "output_type": "execute_result",
          "data": {
            "text/plain": [
              "0    144277\n",
              "1     15294\n",
              "Name: malignant, dtype: int64"
            ]
          },
          "metadata": {
            "tags": []
          },
          "execution_count": 6
        }
      ]
    },
    {
      "cell_type": "code",
      "metadata": {
        "colab": {
          "base_uri": "https://localhost:8080/"
        },
        "id": "6xr0BiB2JNqW",
        "outputId": "e6d5f136-6553-461b-8de0-79cb67041f8a"
      },
      "source": [
        "df['highly_malignant'].value_counts()"
      ],
      "execution_count": 7,
      "outputs": [
        {
          "output_type": "execute_result",
          "data": {
            "text/plain": [
              "0    157976\n",
              "1      1595\n",
              "Name: highly_malignant, dtype: int64"
            ]
          },
          "metadata": {
            "tags": []
          },
          "execution_count": 7
        }
      ]
    },
    {
      "cell_type": "code",
      "metadata": {
        "colab": {
          "base_uri": "https://localhost:8080/"
        },
        "id": "rp8n3IgrJNqW",
        "outputId": "d0272efd-821a-4bc0-d80e-06567915a06d"
      },
      "source": [
        "df['rude'].value_counts()"
      ],
      "execution_count": 8,
      "outputs": [
        {
          "output_type": "execute_result",
          "data": {
            "text/plain": [
              "0    151122\n",
              "1      8449\n",
              "Name: rude, dtype: int64"
            ]
          },
          "metadata": {
            "tags": []
          },
          "execution_count": 8
        }
      ]
    },
    {
      "cell_type": "code",
      "metadata": {
        "colab": {
          "base_uri": "https://localhost:8080/"
        },
        "id": "wfR_m11MJNqW",
        "outputId": "2cce96ad-eddf-4902-8116-96cfc65b5acd"
      },
      "source": [
        "df['threat'].value_counts()"
      ],
      "execution_count": 9,
      "outputs": [
        {
          "output_type": "execute_result",
          "data": {
            "text/plain": [
              "0    159093\n",
              "1       478\n",
              "Name: threat, dtype: int64"
            ]
          },
          "metadata": {
            "tags": []
          },
          "execution_count": 9
        }
      ]
    },
    {
      "cell_type": "code",
      "metadata": {
        "colab": {
          "base_uri": "https://localhost:8080/"
        },
        "id": "_4jnzpUoJNqW",
        "outputId": "4dfcefd4-a4ad-44d8-c2a8-d58bf0d2628a"
      },
      "source": [
        "df['abuse'].value_counts()"
      ],
      "execution_count": 10,
      "outputs": [
        {
          "output_type": "execute_result",
          "data": {
            "text/plain": [
              "0    151694\n",
              "1      7877\n",
              "Name: abuse, dtype: int64"
            ]
          },
          "metadata": {
            "tags": []
          },
          "execution_count": 10
        }
      ]
    },
    {
      "cell_type": "code",
      "metadata": {
        "colab": {
          "base_uri": "https://localhost:8080/"
        },
        "id": "N83l0DUAJNqW",
        "outputId": "415a8bbd-950b-4b1e-b9f2-2be31235b220"
      },
      "source": [
        "df['loathe'].value_counts()"
      ],
      "execution_count": 11,
      "outputs": [
        {
          "output_type": "execute_result",
          "data": {
            "text/plain": [
              "0    158166\n",
              "1      1405\n",
              "Name: loathe, dtype: int64"
            ]
          },
          "metadata": {
            "tags": []
          },
          "execution_count": 11
        }
      ]
    },
    {
      "cell_type": "code",
      "metadata": {
        "id": "tLkJNFnFJNqW"
      },
      "source": [
        "df_normal=df[(df['abuse']== 0) & (df['threat']== 0) & (df['malignant']== 0) & (df['highly_malignant']== 0) & (df['rude'] == 0) & (df['loathe'] == 0)]\n"
      ],
      "execution_count": 12,
      "outputs": []
    },
    {
      "cell_type": "code",
      "metadata": {
        "id": "5LX1ucJx47Gi"
      },
      "source": [
        "df_new=df_normal.sample(frac=1)"
      ],
      "execution_count": 13,
      "outputs": []
    },
    {
      "cell_type": "code",
      "metadata": {
        "id": "t3UdC5Zz5QQu"
      },
      "source": [
        "df_few_normal=df_new.iloc[0:50000,:]"
      ],
      "execution_count": 14,
      "outputs": []
    },
    {
      "cell_type": "code",
      "metadata": {
        "colab": {
          "base_uri": "https://localhost:8080/",
          "height": 402
        },
        "id": "foBCpiz15lKh",
        "outputId": "b061ff56-398f-4e2a-de03-b9262f32262a"
      },
      "source": [
        "df_few_normal"
      ],
      "execution_count": 15,
      "outputs": [
        {
          "output_type": "execute_result",
          "data": {
            "text/html": [
              "<div>\n",
              "<style scoped>\n",
              "    .dataframe tbody tr th:only-of-type {\n",
              "        vertical-align: middle;\n",
              "    }\n",
              "\n",
              "    .dataframe tbody tr th {\n",
              "        vertical-align: top;\n",
              "    }\n",
              "\n",
              "    .dataframe thead th {\n",
              "        text-align: right;\n",
              "    }\n",
              "</style>\n",
              "<table border=\"1\" class=\"dataframe\">\n",
              "  <thead>\n",
              "    <tr style=\"text-align: right;\">\n",
              "      <th></th>\n",
              "      <th>id</th>\n",
              "      <th>comment_text</th>\n",
              "      <th>malignant</th>\n",
              "      <th>highly_malignant</th>\n",
              "      <th>rude</th>\n",
              "      <th>threat</th>\n",
              "      <th>abuse</th>\n",
              "      <th>loathe</th>\n",
              "    </tr>\n",
              "  </thead>\n",
              "  <tbody>\n",
              "    <tr>\n",
              "      <th>72799</th>\n",
              "      <td>c2c3e01c11aa9524</td>\n",
              "      <td>If you're interested in the Administration pos...</td>\n",
              "      <td>0</td>\n",
              "      <td>0</td>\n",
              "      <td>0</td>\n",
              "      <td>0</td>\n",
              "      <td>0</td>\n",
              "      <td>0</td>\n",
              "    </tr>\n",
              "    <tr>\n",
              "      <th>121304</th>\n",
              "      <td>890cf8a350ea2d92</td>\n",
              "      <td>\"\\n\\nConflation of the two \"\"brook\"\" homonyms\\...</td>\n",
              "      <td>0</td>\n",
              "      <td>0</td>\n",
              "      <td>0</td>\n",
              "      <td>0</td>\n",
              "      <td>0</td>\n",
              "      <td>0</td>\n",
              "    </tr>\n",
              "    <tr>\n",
              "      <th>125123</th>\n",
              "      <td>9d3dd53844fb20dc</td>\n",
              "      <td>The more neutral, less subjective term used by...</td>\n",
              "      <td>0</td>\n",
              "      <td>0</td>\n",
              "      <td>0</td>\n",
              "      <td>0</td>\n",
              "      <td>0</td>\n",
              "      <td>0</td>\n",
              "    </tr>\n",
              "    <tr>\n",
              "      <th>111106</th>\n",
              "      <td>525dab606c392339</td>\n",
              "      <td>\"\\n\\n WP:AWB \\n\\nYou already seem to be approv...</td>\n",
              "      <td>0</td>\n",
              "      <td>0</td>\n",
              "      <td>0</td>\n",
              "      <td>0</td>\n",
              "      <td>0</td>\n",
              "      <td>0</td>\n",
              "    </tr>\n",
              "    <tr>\n",
              "      <th>128987</th>\n",
              "      <td>b1ca628a1aa1c94f</td>\n",
              "      <td>\"\\n\\n Hiatus? \\n\\nEminem is finally done with ...</td>\n",
              "      <td>0</td>\n",
              "      <td>0</td>\n",
              "      <td>0</td>\n",
              "      <td>0</td>\n",
              "      <td>0</td>\n",
              "      <td>0</td>\n",
              "    </tr>\n",
              "    <tr>\n",
              "      <th>...</th>\n",
              "      <td>...</td>\n",
              "      <td>...</td>\n",
              "      <td>...</td>\n",
              "      <td>...</td>\n",
              "      <td>...</td>\n",
              "      <td>...</td>\n",
              "      <td>...</td>\n",
              "      <td>...</td>\n",
              "    </tr>\n",
              "    <tr>\n",
              "      <th>102831</th>\n",
              "      <td>264ff10733df8a4f</td>\n",
              "      <td>nobody knows if its true they just did a thing...</td>\n",
              "      <td>0</td>\n",
              "      <td>0</td>\n",
              "      <td>0</td>\n",
              "      <td>0</td>\n",
              "      <td>0</td>\n",
              "      <td>0</td>\n",
              "    </tr>\n",
              "    <tr>\n",
              "      <th>55040</th>\n",
              "      <td>9314b1cc4f1ce95e</td>\n",
              "      <td>Trace PRO from Lambda Research is best tool fo...</td>\n",
              "      <td>0</td>\n",
              "      <td>0</td>\n",
              "      <td>0</td>\n",
              "      <td>0</td>\n",
              "      <td>0</td>\n",
              "      <td>0</td>\n",
              "    </tr>\n",
              "    <tr>\n",
              "      <th>62513</th>\n",
              "      <td>a740dc2cc59cb9b8</td>\n",
              "      <td>\"\\n\\nApocalypse Tapestry\\nWhy on earth has thi...</td>\n",
              "      <td>0</td>\n",
              "      <td>0</td>\n",
              "      <td>0</td>\n",
              "      <td>0</td>\n",
              "      <td>0</td>\n",
              "      <td>0</td>\n",
              "    </tr>\n",
              "    <tr>\n",
              "      <th>33580</th>\n",
              "      <td>59824497c665fb07</td>\n",
              "      <td>\":::::::That's an incorrect reading of WP:CON,...</td>\n",
              "      <td>0</td>\n",
              "      <td>0</td>\n",
              "      <td>0</td>\n",
              "      <td>0</td>\n",
              "      <td>0</td>\n",
              "      <td>0</td>\n",
              "    </tr>\n",
              "    <tr>\n",
              "      <th>146348</th>\n",
              "      <td>2ae40203963fc5ec</td>\n",
              "      <td>The way this page is worded make's it sound li...</td>\n",
              "      <td>0</td>\n",
              "      <td>0</td>\n",
              "      <td>0</td>\n",
              "      <td>0</td>\n",
              "      <td>0</td>\n",
              "      <td>0</td>\n",
              "    </tr>\n",
              "  </tbody>\n",
              "</table>\n",
              "<p>50000 rows × 8 columns</p>\n",
              "</div>"
            ],
            "text/plain": [
              "                      id  ... loathe\n",
              "72799   c2c3e01c11aa9524  ...      0\n",
              "121304  890cf8a350ea2d92  ...      0\n",
              "125123  9d3dd53844fb20dc  ...      0\n",
              "111106  525dab606c392339  ...      0\n",
              "128987  b1ca628a1aa1c94f  ...      0\n",
              "...                  ...  ...    ...\n",
              "102831  264ff10733df8a4f  ...      0\n",
              "55040   9314b1cc4f1ce95e  ...      0\n",
              "62513   a740dc2cc59cb9b8  ...      0\n",
              "33580   59824497c665fb07  ...      0\n",
              "146348  2ae40203963fc5ec  ...      0\n",
              "\n",
              "[50000 rows x 8 columns]"
            ]
          },
          "metadata": {
            "tags": []
          },
          "execution_count": 15
        }
      ]
    },
    {
      "cell_type": "code",
      "metadata": {
        "id": "BVOIA4L25lVJ"
      },
      "source": [
        "df_comments=df[(df['abuse']== 1) | (df['threat']== 1) | (df['malignant']== 1) | (df['highly_malignant']== 1) | (df['rude'] == 1) | (df['loathe'] == 1)]\n"
      ],
      "execution_count": 16,
      "outputs": []
    },
    {
      "cell_type": "code",
      "metadata": {
        "colab": {
          "base_uri": "https://localhost:8080/",
          "height": 402
        },
        "id": "IIc74a1U5lhl",
        "outputId": "411e944b-4fcf-4f3a-bebf-d104ba570e46"
      },
      "source": [
        "df_comments"
      ],
      "execution_count": 17,
      "outputs": [
        {
          "output_type": "execute_result",
          "data": {
            "text/html": [
              "<div>\n",
              "<style scoped>\n",
              "    .dataframe tbody tr th:only-of-type {\n",
              "        vertical-align: middle;\n",
              "    }\n",
              "\n",
              "    .dataframe tbody tr th {\n",
              "        vertical-align: top;\n",
              "    }\n",
              "\n",
              "    .dataframe thead th {\n",
              "        text-align: right;\n",
              "    }\n",
              "</style>\n",
              "<table border=\"1\" class=\"dataframe\">\n",
              "  <thead>\n",
              "    <tr style=\"text-align: right;\">\n",
              "      <th></th>\n",
              "      <th>id</th>\n",
              "      <th>comment_text</th>\n",
              "      <th>malignant</th>\n",
              "      <th>highly_malignant</th>\n",
              "      <th>rude</th>\n",
              "      <th>threat</th>\n",
              "      <th>abuse</th>\n",
              "      <th>loathe</th>\n",
              "    </tr>\n",
              "  </thead>\n",
              "  <tbody>\n",
              "    <tr>\n",
              "      <th>6</th>\n",
              "      <td>0002bcb3da6cb337</td>\n",
              "      <td>COCKSUCKER BEFORE YOU PISS AROUND ON MY WORK</td>\n",
              "      <td>1</td>\n",
              "      <td>1</td>\n",
              "      <td>1</td>\n",
              "      <td>0</td>\n",
              "      <td>1</td>\n",
              "      <td>0</td>\n",
              "    </tr>\n",
              "    <tr>\n",
              "      <th>12</th>\n",
              "      <td>0005c987bdfc9d4b</td>\n",
              "      <td>Hey... what is it..\\n@ | talk .\\nWhat is it......</td>\n",
              "      <td>1</td>\n",
              "      <td>0</td>\n",
              "      <td>0</td>\n",
              "      <td>0</td>\n",
              "      <td>0</td>\n",
              "      <td>0</td>\n",
              "    </tr>\n",
              "    <tr>\n",
              "      <th>16</th>\n",
              "      <td>0007e25b2121310b</td>\n",
              "      <td>Bye! \\n\\nDon't look, come or think of comming ...</td>\n",
              "      <td>1</td>\n",
              "      <td>0</td>\n",
              "      <td>0</td>\n",
              "      <td>0</td>\n",
              "      <td>0</td>\n",
              "      <td>0</td>\n",
              "    </tr>\n",
              "    <tr>\n",
              "      <th>42</th>\n",
              "      <td>001810bf8c45bf5f</td>\n",
              "      <td>You are gay or antisemmitian? \\n\\nArchangel WH...</td>\n",
              "      <td>1</td>\n",
              "      <td>0</td>\n",
              "      <td>1</td>\n",
              "      <td>0</td>\n",
              "      <td>1</td>\n",
              "      <td>1</td>\n",
              "    </tr>\n",
              "    <tr>\n",
              "      <th>43</th>\n",
              "      <td>00190820581d90ce</td>\n",
              "      <td>FUCK YOUR FILTHY MOTHER IN THE ASS, DRY!</td>\n",
              "      <td>1</td>\n",
              "      <td>0</td>\n",
              "      <td>1</td>\n",
              "      <td>0</td>\n",
              "      <td>1</td>\n",
              "      <td>0</td>\n",
              "    </tr>\n",
              "    <tr>\n",
              "      <th>...</th>\n",
              "      <td>...</td>\n",
              "      <td>...</td>\n",
              "      <td>...</td>\n",
              "      <td>...</td>\n",
              "      <td>...</td>\n",
              "      <td>...</td>\n",
              "      <td>...</td>\n",
              "      <td>...</td>\n",
              "    </tr>\n",
              "    <tr>\n",
              "      <th>159494</th>\n",
              "      <td>fef4cf7ba0012866</td>\n",
              "      <td>\"\\n\\n our previous conversation \\n\\nyou fuckin...</td>\n",
              "      <td>1</td>\n",
              "      <td>0</td>\n",
              "      <td>1</td>\n",
              "      <td>0</td>\n",
              "      <td>1</td>\n",
              "      <td>1</td>\n",
              "    </tr>\n",
              "    <tr>\n",
              "      <th>159514</th>\n",
              "      <td>ff39a2895fc3b40e</td>\n",
              "      <td>YOU ARE A MISCHIEVIOUS PUBIC HAIR</td>\n",
              "      <td>1</td>\n",
              "      <td>0</td>\n",
              "      <td>0</td>\n",
              "      <td>0</td>\n",
              "      <td>1</td>\n",
              "      <td>0</td>\n",
              "    </tr>\n",
              "    <tr>\n",
              "      <th>159541</th>\n",
              "      <td>ffa33d3122b599d6</td>\n",
              "      <td>Your absurd edits \\n\\nYour absurd edits on gre...</td>\n",
              "      <td>1</td>\n",
              "      <td>0</td>\n",
              "      <td>1</td>\n",
              "      <td>0</td>\n",
              "      <td>1</td>\n",
              "      <td>0</td>\n",
              "    </tr>\n",
              "    <tr>\n",
              "      <th>159546</th>\n",
              "      <td>ffb47123b2d82762</td>\n",
              "      <td>\"\\n\\nHey listen don't you ever!!!! Delete my e...</td>\n",
              "      <td>1</td>\n",
              "      <td>0</td>\n",
              "      <td>0</td>\n",
              "      <td>0</td>\n",
              "      <td>1</td>\n",
              "      <td>0</td>\n",
              "    </tr>\n",
              "    <tr>\n",
              "      <th>159554</th>\n",
              "      <td>ffbdbb0483ed0841</td>\n",
              "      <td>and i'm going to keep posting the stuff u dele...</td>\n",
              "      <td>1</td>\n",
              "      <td>0</td>\n",
              "      <td>1</td>\n",
              "      <td>0</td>\n",
              "      <td>1</td>\n",
              "      <td>0</td>\n",
              "    </tr>\n",
              "  </tbody>\n",
              "</table>\n",
              "<p>16225 rows × 8 columns</p>\n",
              "</div>"
            ],
            "text/plain": [
              "                      id  ... loathe\n",
              "6       0002bcb3da6cb337  ...      0\n",
              "12      0005c987bdfc9d4b  ...      0\n",
              "16      0007e25b2121310b  ...      0\n",
              "42      001810bf8c45bf5f  ...      1\n",
              "43      00190820581d90ce  ...      0\n",
              "...                  ...  ...    ...\n",
              "159494  fef4cf7ba0012866  ...      1\n",
              "159514  ff39a2895fc3b40e  ...      0\n",
              "159541  ffa33d3122b599d6  ...      0\n",
              "159546  ffb47123b2d82762  ...      0\n",
              "159554  ffbdbb0483ed0841  ...      0\n",
              "\n",
              "[16225 rows x 8 columns]"
            ]
          },
          "metadata": {
            "tags": []
          },
          "execution_count": 17
        }
      ]
    },
    {
      "cell_type": "code",
      "metadata": {
        "colab": {
          "base_uri": "https://localhost:8080/",
          "height": 402
        },
        "id": "4W8NDadk6yR8",
        "outputId": "0104935e-6c4b-446d-93dd-d7a6de4e26ac"
      },
      "source": [
        "df_merge=pd.concat([df_few_normal,df_comments],join='inner')\n",
        "df_merge"
      ],
      "execution_count": 18,
      "outputs": [
        {
          "output_type": "execute_result",
          "data": {
            "text/html": [
              "<div>\n",
              "<style scoped>\n",
              "    .dataframe tbody tr th:only-of-type {\n",
              "        vertical-align: middle;\n",
              "    }\n",
              "\n",
              "    .dataframe tbody tr th {\n",
              "        vertical-align: top;\n",
              "    }\n",
              "\n",
              "    .dataframe thead th {\n",
              "        text-align: right;\n",
              "    }\n",
              "</style>\n",
              "<table border=\"1\" class=\"dataframe\">\n",
              "  <thead>\n",
              "    <tr style=\"text-align: right;\">\n",
              "      <th></th>\n",
              "      <th>id</th>\n",
              "      <th>comment_text</th>\n",
              "      <th>malignant</th>\n",
              "      <th>highly_malignant</th>\n",
              "      <th>rude</th>\n",
              "      <th>threat</th>\n",
              "      <th>abuse</th>\n",
              "      <th>loathe</th>\n",
              "    </tr>\n",
              "  </thead>\n",
              "  <tbody>\n",
              "    <tr>\n",
              "      <th>72799</th>\n",
              "      <td>c2c3e01c11aa9524</td>\n",
              "      <td>If you're interested in the Administration pos...</td>\n",
              "      <td>0</td>\n",
              "      <td>0</td>\n",
              "      <td>0</td>\n",
              "      <td>0</td>\n",
              "      <td>0</td>\n",
              "      <td>0</td>\n",
              "    </tr>\n",
              "    <tr>\n",
              "      <th>121304</th>\n",
              "      <td>890cf8a350ea2d92</td>\n",
              "      <td>\"\\n\\nConflation of the two \"\"brook\"\" homonyms\\...</td>\n",
              "      <td>0</td>\n",
              "      <td>0</td>\n",
              "      <td>0</td>\n",
              "      <td>0</td>\n",
              "      <td>0</td>\n",
              "      <td>0</td>\n",
              "    </tr>\n",
              "    <tr>\n",
              "      <th>125123</th>\n",
              "      <td>9d3dd53844fb20dc</td>\n",
              "      <td>The more neutral, less subjective term used by...</td>\n",
              "      <td>0</td>\n",
              "      <td>0</td>\n",
              "      <td>0</td>\n",
              "      <td>0</td>\n",
              "      <td>0</td>\n",
              "      <td>0</td>\n",
              "    </tr>\n",
              "    <tr>\n",
              "      <th>111106</th>\n",
              "      <td>525dab606c392339</td>\n",
              "      <td>\"\\n\\n WP:AWB \\n\\nYou already seem to be approv...</td>\n",
              "      <td>0</td>\n",
              "      <td>0</td>\n",
              "      <td>0</td>\n",
              "      <td>0</td>\n",
              "      <td>0</td>\n",
              "      <td>0</td>\n",
              "    </tr>\n",
              "    <tr>\n",
              "      <th>128987</th>\n",
              "      <td>b1ca628a1aa1c94f</td>\n",
              "      <td>\"\\n\\n Hiatus? \\n\\nEminem is finally done with ...</td>\n",
              "      <td>0</td>\n",
              "      <td>0</td>\n",
              "      <td>0</td>\n",
              "      <td>0</td>\n",
              "      <td>0</td>\n",
              "      <td>0</td>\n",
              "    </tr>\n",
              "    <tr>\n",
              "      <th>...</th>\n",
              "      <td>...</td>\n",
              "      <td>...</td>\n",
              "      <td>...</td>\n",
              "      <td>...</td>\n",
              "      <td>...</td>\n",
              "      <td>...</td>\n",
              "      <td>...</td>\n",
              "      <td>...</td>\n",
              "    </tr>\n",
              "    <tr>\n",
              "      <th>159494</th>\n",
              "      <td>fef4cf7ba0012866</td>\n",
              "      <td>\"\\n\\n our previous conversation \\n\\nyou fuckin...</td>\n",
              "      <td>1</td>\n",
              "      <td>0</td>\n",
              "      <td>1</td>\n",
              "      <td>0</td>\n",
              "      <td>1</td>\n",
              "      <td>1</td>\n",
              "    </tr>\n",
              "    <tr>\n",
              "      <th>159514</th>\n",
              "      <td>ff39a2895fc3b40e</td>\n",
              "      <td>YOU ARE A MISCHIEVIOUS PUBIC HAIR</td>\n",
              "      <td>1</td>\n",
              "      <td>0</td>\n",
              "      <td>0</td>\n",
              "      <td>0</td>\n",
              "      <td>1</td>\n",
              "      <td>0</td>\n",
              "    </tr>\n",
              "    <tr>\n",
              "      <th>159541</th>\n",
              "      <td>ffa33d3122b599d6</td>\n",
              "      <td>Your absurd edits \\n\\nYour absurd edits on gre...</td>\n",
              "      <td>1</td>\n",
              "      <td>0</td>\n",
              "      <td>1</td>\n",
              "      <td>0</td>\n",
              "      <td>1</td>\n",
              "      <td>0</td>\n",
              "    </tr>\n",
              "    <tr>\n",
              "      <th>159546</th>\n",
              "      <td>ffb47123b2d82762</td>\n",
              "      <td>\"\\n\\nHey listen don't you ever!!!! Delete my e...</td>\n",
              "      <td>1</td>\n",
              "      <td>0</td>\n",
              "      <td>0</td>\n",
              "      <td>0</td>\n",
              "      <td>1</td>\n",
              "      <td>0</td>\n",
              "    </tr>\n",
              "    <tr>\n",
              "      <th>159554</th>\n",
              "      <td>ffbdbb0483ed0841</td>\n",
              "      <td>and i'm going to keep posting the stuff u dele...</td>\n",
              "      <td>1</td>\n",
              "      <td>0</td>\n",
              "      <td>1</td>\n",
              "      <td>0</td>\n",
              "      <td>1</td>\n",
              "      <td>0</td>\n",
              "    </tr>\n",
              "  </tbody>\n",
              "</table>\n",
              "<p>66225 rows × 8 columns</p>\n",
              "</div>"
            ],
            "text/plain": [
              "                      id  ... loathe\n",
              "72799   c2c3e01c11aa9524  ...      0\n",
              "121304  890cf8a350ea2d92  ...      0\n",
              "125123  9d3dd53844fb20dc  ...      0\n",
              "111106  525dab606c392339  ...      0\n",
              "128987  b1ca628a1aa1c94f  ...      0\n",
              "...                  ...  ...    ...\n",
              "159494  fef4cf7ba0012866  ...      1\n",
              "159514  ff39a2895fc3b40e  ...      0\n",
              "159541  ffa33d3122b599d6  ...      0\n",
              "159546  ffb47123b2d82762  ...      0\n",
              "159554  ffbdbb0483ed0841  ...      0\n",
              "\n",
              "[66225 rows x 8 columns]"
            ]
          },
          "metadata": {
            "tags": []
          },
          "execution_count": 18
        }
      ]
    },
    {
      "cell_type": "code",
      "metadata": {
        "colab": {
          "base_uri": "https://localhost:8080/"
        },
        "id": "aHsgRgn1SKac",
        "outputId": "a811b36b-e3fe-4d6a-b671-f0d3822f80b2"
      },
      "source": [
        "import nltk\n",
        "nltk.download('all')"
      ],
      "execution_count": 19,
      "outputs": [
        {
          "output_type": "stream",
          "text": [
            "[nltk_data] Downloading collection 'all'\n",
            "[nltk_data]    | \n",
            "[nltk_data]    | Downloading package abc to /root/nltk_data...\n",
            "[nltk_data]    |   Package abc is already up-to-date!\n",
            "[nltk_data]    | Downloading package alpino to /root/nltk_data...\n",
            "[nltk_data]    |   Package alpino is already up-to-date!\n",
            "[nltk_data]    | Downloading package biocreative_ppi to\n",
            "[nltk_data]    |     /root/nltk_data...\n",
            "[nltk_data]    |   Package biocreative_ppi is already up-to-date!\n",
            "[nltk_data]    | Downloading package brown to /root/nltk_data...\n",
            "[nltk_data]    |   Package brown is already up-to-date!\n",
            "[nltk_data]    | Downloading package brown_tei to /root/nltk_data...\n",
            "[nltk_data]    |   Package brown_tei is already up-to-date!\n",
            "[nltk_data]    | Downloading package cess_cat to /root/nltk_data...\n",
            "[nltk_data]    |   Package cess_cat is already up-to-date!\n",
            "[nltk_data]    | Downloading package cess_esp to /root/nltk_data...\n",
            "[nltk_data]    |   Package cess_esp is already up-to-date!\n",
            "[nltk_data]    | Downloading package chat80 to /root/nltk_data...\n",
            "[nltk_data]    |   Package chat80 is already up-to-date!\n",
            "[nltk_data]    | Downloading package city_database to\n",
            "[nltk_data]    |     /root/nltk_data...\n",
            "[nltk_data]    |   Package city_database is already up-to-date!\n",
            "[nltk_data]    | Downloading package cmudict to /root/nltk_data...\n",
            "[nltk_data]    |   Package cmudict is already up-to-date!\n",
            "[nltk_data]    | Downloading package comparative_sentences to\n",
            "[nltk_data]    |     /root/nltk_data...\n",
            "[nltk_data]    |   Package comparative_sentences is already up-to-\n",
            "[nltk_data]    |       date!\n",
            "[nltk_data]    | Downloading package comtrans to /root/nltk_data...\n",
            "[nltk_data]    |   Package comtrans is already up-to-date!\n",
            "[nltk_data]    | Downloading package conll2000 to /root/nltk_data...\n",
            "[nltk_data]    |   Package conll2000 is already up-to-date!\n",
            "[nltk_data]    | Downloading package conll2002 to /root/nltk_data...\n",
            "[nltk_data]    |   Package conll2002 is already up-to-date!\n",
            "[nltk_data]    | Downloading package conll2007 to /root/nltk_data...\n",
            "[nltk_data]    |   Package conll2007 is already up-to-date!\n",
            "[nltk_data]    | Downloading package crubadan to /root/nltk_data...\n",
            "[nltk_data]    |   Package crubadan is already up-to-date!\n",
            "[nltk_data]    | Downloading package dependency_treebank to\n",
            "[nltk_data]    |     /root/nltk_data...\n",
            "[nltk_data]    |   Package dependency_treebank is already up-to-date!\n",
            "[nltk_data]    | Downloading package dolch to /root/nltk_data...\n",
            "[nltk_data]    |   Package dolch is already up-to-date!\n",
            "[nltk_data]    | Downloading package europarl_raw to\n",
            "[nltk_data]    |     /root/nltk_data...\n",
            "[nltk_data]    |   Package europarl_raw is already up-to-date!\n",
            "[nltk_data]    | Downloading package floresta to /root/nltk_data...\n",
            "[nltk_data]    |   Package floresta is already up-to-date!\n",
            "[nltk_data]    | Downloading package framenet_v15 to\n",
            "[nltk_data]    |     /root/nltk_data...\n",
            "[nltk_data]    |   Package framenet_v15 is already up-to-date!\n",
            "[nltk_data]    | Downloading package framenet_v17 to\n",
            "[nltk_data]    |     /root/nltk_data...\n",
            "[nltk_data]    |   Package framenet_v17 is already up-to-date!\n",
            "[nltk_data]    | Downloading package gazetteers to /root/nltk_data...\n",
            "[nltk_data]    |   Package gazetteers is already up-to-date!\n",
            "[nltk_data]    | Downloading package genesis to /root/nltk_data...\n",
            "[nltk_data]    |   Package genesis is already up-to-date!\n",
            "[nltk_data]    | Downloading package gutenberg to /root/nltk_data...\n",
            "[nltk_data]    |   Package gutenberg is already up-to-date!\n",
            "[nltk_data]    | Downloading package ieer to /root/nltk_data...\n",
            "[nltk_data]    |   Package ieer is already up-to-date!\n",
            "[nltk_data]    | Downloading package inaugural to /root/nltk_data...\n",
            "[nltk_data]    |   Package inaugural is already up-to-date!\n",
            "[nltk_data]    | Downloading package indian to /root/nltk_data...\n",
            "[nltk_data]    |   Package indian is already up-to-date!\n",
            "[nltk_data]    | Downloading package jeita to /root/nltk_data...\n",
            "[nltk_data]    |   Package jeita is already up-to-date!\n",
            "[nltk_data]    | Downloading package kimmo to /root/nltk_data...\n",
            "[nltk_data]    |   Package kimmo is already up-to-date!\n",
            "[nltk_data]    | Downloading package knbc to /root/nltk_data...\n",
            "[nltk_data]    |   Package knbc is already up-to-date!\n",
            "[nltk_data]    | Downloading package lin_thesaurus to\n",
            "[nltk_data]    |     /root/nltk_data...\n",
            "[nltk_data]    |   Package lin_thesaurus is already up-to-date!\n",
            "[nltk_data]    | Downloading package mac_morpho to /root/nltk_data...\n",
            "[nltk_data]    |   Package mac_morpho is already up-to-date!\n",
            "[nltk_data]    | Downloading package machado to /root/nltk_data...\n",
            "[nltk_data]    |   Package machado is already up-to-date!\n",
            "[nltk_data]    | Downloading package masc_tagged to /root/nltk_data...\n",
            "[nltk_data]    |   Package masc_tagged is already up-to-date!\n",
            "[nltk_data]    | Downloading package moses_sample to\n",
            "[nltk_data]    |     /root/nltk_data...\n",
            "[nltk_data]    |   Package moses_sample is already up-to-date!\n",
            "[nltk_data]    | Downloading package movie_reviews to\n",
            "[nltk_data]    |     /root/nltk_data...\n",
            "[nltk_data]    |   Package movie_reviews is already up-to-date!\n",
            "[nltk_data]    | Downloading package names to /root/nltk_data...\n",
            "[nltk_data]    |   Package names is already up-to-date!\n",
            "[nltk_data]    | Downloading package nombank.1.0 to /root/nltk_data...\n",
            "[nltk_data]    |   Package nombank.1.0 is already up-to-date!\n",
            "[nltk_data]    | Downloading package nps_chat to /root/nltk_data...\n",
            "[nltk_data]    |   Package nps_chat is already up-to-date!\n",
            "[nltk_data]    | Downloading package omw to /root/nltk_data...\n",
            "[nltk_data]    |   Package omw is already up-to-date!\n",
            "[nltk_data]    | Downloading package opinion_lexicon to\n",
            "[nltk_data]    |     /root/nltk_data...\n",
            "[nltk_data]    |   Package opinion_lexicon is already up-to-date!\n",
            "[nltk_data]    | Downloading package paradigms to /root/nltk_data...\n",
            "[nltk_data]    |   Package paradigms is already up-to-date!\n",
            "[nltk_data]    | Downloading package pil to /root/nltk_data...\n",
            "[nltk_data]    |   Package pil is already up-to-date!\n",
            "[nltk_data]    | Downloading package pl196x to /root/nltk_data...\n",
            "[nltk_data]    |   Package pl196x is already up-to-date!\n",
            "[nltk_data]    | Downloading package ppattach to /root/nltk_data...\n",
            "[nltk_data]    |   Package ppattach is already up-to-date!\n",
            "[nltk_data]    | Downloading package problem_reports to\n",
            "[nltk_data]    |     /root/nltk_data...\n",
            "[nltk_data]    |   Package problem_reports is already up-to-date!\n",
            "[nltk_data]    | Downloading package propbank to /root/nltk_data...\n",
            "[nltk_data]    |   Package propbank is already up-to-date!\n",
            "[nltk_data]    | Downloading package ptb to /root/nltk_data...\n",
            "[nltk_data]    |   Package ptb is already up-to-date!\n",
            "[nltk_data]    | Downloading package product_reviews_1 to\n",
            "[nltk_data]    |     /root/nltk_data...\n",
            "[nltk_data]    |   Package product_reviews_1 is already up-to-date!\n",
            "[nltk_data]    | Downloading package product_reviews_2 to\n",
            "[nltk_data]    |     /root/nltk_data...\n",
            "[nltk_data]    |   Package product_reviews_2 is already up-to-date!\n",
            "[nltk_data]    | Downloading package pros_cons to /root/nltk_data...\n",
            "[nltk_data]    |   Package pros_cons is already up-to-date!\n",
            "[nltk_data]    | Downloading package qc to /root/nltk_data...\n",
            "[nltk_data]    |   Package qc is already up-to-date!\n",
            "[nltk_data]    | Downloading package reuters to /root/nltk_data...\n",
            "[nltk_data]    |   Package reuters is already up-to-date!\n",
            "[nltk_data]    | Downloading package rte to /root/nltk_data...\n",
            "[nltk_data]    |   Package rte is already up-to-date!\n",
            "[nltk_data]    | Downloading package semcor to /root/nltk_data...\n",
            "[nltk_data]    |   Package semcor is already up-to-date!\n",
            "[nltk_data]    | Downloading package senseval to /root/nltk_data...\n",
            "[nltk_data]    |   Package senseval is already up-to-date!\n",
            "[nltk_data]    | Downloading package sentiwordnet to\n",
            "[nltk_data]    |     /root/nltk_data...\n",
            "[nltk_data]    |   Package sentiwordnet is already up-to-date!\n",
            "[nltk_data]    | Downloading package sentence_polarity to\n",
            "[nltk_data]    |     /root/nltk_data...\n",
            "[nltk_data]    |   Package sentence_polarity is already up-to-date!\n",
            "[nltk_data]    | Downloading package shakespeare to /root/nltk_data...\n",
            "[nltk_data]    |   Package shakespeare is already up-to-date!\n",
            "[nltk_data]    | Downloading package sinica_treebank to\n",
            "[nltk_data]    |     /root/nltk_data...\n",
            "[nltk_data]    |   Package sinica_treebank is already up-to-date!\n",
            "[nltk_data]    | Downloading package smultron to /root/nltk_data...\n",
            "[nltk_data]    |   Package smultron is already up-to-date!\n",
            "[nltk_data]    | Downloading package state_union to /root/nltk_data...\n",
            "[nltk_data]    |   Package state_union is already up-to-date!\n",
            "[nltk_data]    | Downloading package stopwords to /root/nltk_data...\n",
            "[nltk_data]    |   Package stopwords is already up-to-date!\n",
            "[nltk_data]    | Downloading package subjectivity to\n",
            "[nltk_data]    |     /root/nltk_data...\n",
            "[nltk_data]    |   Package subjectivity is already up-to-date!\n",
            "[nltk_data]    | Downloading package swadesh to /root/nltk_data...\n",
            "[nltk_data]    |   Package swadesh is already up-to-date!\n",
            "[nltk_data]    | Downloading package switchboard to /root/nltk_data...\n",
            "[nltk_data]    |   Package switchboard is already up-to-date!\n",
            "[nltk_data]    | Downloading package timit to /root/nltk_data...\n",
            "[nltk_data]    |   Package timit is already up-to-date!\n",
            "[nltk_data]    | Downloading package toolbox to /root/nltk_data...\n",
            "[nltk_data]    |   Package toolbox is already up-to-date!\n",
            "[nltk_data]    | Downloading package treebank to /root/nltk_data...\n",
            "[nltk_data]    |   Package treebank is already up-to-date!\n",
            "[nltk_data]    | Downloading package twitter_samples to\n",
            "[nltk_data]    |     /root/nltk_data...\n",
            "[nltk_data]    |   Package twitter_samples is already up-to-date!\n",
            "[nltk_data]    | Downloading package udhr to /root/nltk_data...\n",
            "[nltk_data]    |   Package udhr is already up-to-date!\n",
            "[nltk_data]    | Downloading package udhr2 to /root/nltk_data...\n",
            "[nltk_data]    |   Package udhr2 is already up-to-date!\n",
            "[nltk_data]    | Downloading package unicode_samples to\n",
            "[nltk_data]    |     /root/nltk_data...\n",
            "[nltk_data]    |   Package unicode_samples is already up-to-date!\n",
            "[nltk_data]    | Downloading package universal_treebanks_v20 to\n",
            "[nltk_data]    |     /root/nltk_data...\n",
            "[nltk_data]    |   Package universal_treebanks_v20 is already up-to-\n",
            "[nltk_data]    |       date!\n",
            "[nltk_data]    | Downloading package verbnet to /root/nltk_data...\n",
            "[nltk_data]    |   Package verbnet is already up-to-date!\n",
            "[nltk_data]    | Downloading package verbnet3 to /root/nltk_data...\n",
            "[nltk_data]    |   Package verbnet3 is already up-to-date!\n",
            "[nltk_data]    | Downloading package webtext to /root/nltk_data...\n",
            "[nltk_data]    |   Package webtext is already up-to-date!\n",
            "[nltk_data]    | Downloading package wordnet to /root/nltk_data...\n",
            "[nltk_data]    |   Package wordnet is already up-to-date!\n",
            "[nltk_data]    | Downloading package wordnet_ic to /root/nltk_data...\n",
            "[nltk_data]    |   Package wordnet_ic is already up-to-date!\n",
            "[nltk_data]    | Downloading package words to /root/nltk_data...\n",
            "[nltk_data]    |   Package words is already up-to-date!\n",
            "[nltk_data]    | Downloading package ycoe to /root/nltk_data...\n",
            "[nltk_data]    |   Package ycoe is already up-to-date!\n",
            "[nltk_data]    | Downloading package rslp to /root/nltk_data...\n",
            "[nltk_data]    |   Package rslp is already up-to-date!\n",
            "[nltk_data]    | Downloading package maxent_treebank_pos_tagger to\n",
            "[nltk_data]    |     /root/nltk_data...\n",
            "[nltk_data]    |   Package maxent_treebank_pos_tagger is already up-\n",
            "[nltk_data]    |       to-date!\n",
            "[nltk_data]    | Downloading package universal_tagset to\n",
            "[nltk_data]    |     /root/nltk_data...\n",
            "[nltk_data]    |   Package universal_tagset is already up-to-date!\n",
            "[nltk_data]    | Downloading package maxent_ne_chunker to\n",
            "[nltk_data]    |     /root/nltk_data...\n",
            "[nltk_data]    |   Package maxent_ne_chunker is already up-to-date!\n",
            "[nltk_data]    | Downloading package punkt to /root/nltk_data...\n",
            "[nltk_data]    |   Package punkt is already up-to-date!\n",
            "[nltk_data]    | Downloading package book_grammars to\n",
            "[nltk_data]    |     /root/nltk_data...\n",
            "[nltk_data]    |   Package book_grammars is already up-to-date!\n",
            "[nltk_data]    | Downloading package sample_grammars to\n",
            "[nltk_data]    |     /root/nltk_data...\n",
            "[nltk_data]    |   Package sample_grammars is already up-to-date!\n",
            "[nltk_data]    | Downloading package spanish_grammars to\n",
            "[nltk_data]    |     /root/nltk_data...\n",
            "[nltk_data]    |   Package spanish_grammars is already up-to-date!\n",
            "[nltk_data]    | Downloading package basque_grammars to\n",
            "[nltk_data]    |     /root/nltk_data...\n",
            "[nltk_data]    |   Package basque_grammars is already up-to-date!\n",
            "[nltk_data]    | Downloading package large_grammars to\n",
            "[nltk_data]    |     /root/nltk_data...\n",
            "[nltk_data]    |   Package large_grammars is already up-to-date!\n",
            "[nltk_data]    | Downloading package tagsets to /root/nltk_data...\n",
            "[nltk_data]    |   Package tagsets is already up-to-date!\n",
            "[nltk_data]    | Downloading package snowball_data to\n",
            "[nltk_data]    |     /root/nltk_data...\n",
            "[nltk_data]    |   Package snowball_data is already up-to-date!\n",
            "[nltk_data]    | Downloading package bllip_wsj_no_aux to\n",
            "[nltk_data]    |     /root/nltk_data...\n",
            "[nltk_data]    |   Package bllip_wsj_no_aux is already up-to-date!\n",
            "[nltk_data]    | Downloading package word2vec_sample to\n",
            "[nltk_data]    |     /root/nltk_data...\n",
            "[nltk_data]    |   Package word2vec_sample is already up-to-date!\n",
            "[nltk_data]    | Downloading package panlex_swadesh to\n",
            "[nltk_data]    |     /root/nltk_data...\n",
            "[nltk_data]    |   Package panlex_swadesh is already up-to-date!\n",
            "[nltk_data]    | Downloading package mte_teip5 to /root/nltk_data...\n",
            "[nltk_data]    |   Package mte_teip5 is already up-to-date!\n",
            "[nltk_data]    | Downloading package averaged_perceptron_tagger to\n",
            "[nltk_data]    |     /root/nltk_data...\n",
            "[nltk_data]    |   Package averaged_perceptron_tagger is already up-\n",
            "[nltk_data]    |       to-date!\n",
            "[nltk_data]    | Downloading package averaged_perceptron_tagger_ru to\n",
            "[nltk_data]    |     /root/nltk_data...\n",
            "[nltk_data]    |   Package averaged_perceptron_tagger_ru is already\n",
            "[nltk_data]    |       up-to-date!\n",
            "[nltk_data]    | Downloading package perluniprops to\n",
            "[nltk_data]    |     /root/nltk_data...\n",
            "[nltk_data]    |   Package perluniprops is already up-to-date!\n",
            "[nltk_data]    | Downloading package nonbreaking_prefixes to\n",
            "[nltk_data]    |     /root/nltk_data...\n",
            "[nltk_data]    |   Package nonbreaking_prefixes is already up-to-date!\n",
            "[nltk_data]    | Downloading package vader_lexicon to\n",
            "[nltk_data]    |     /root/nltk_data...\n",
            "[nltk_data]    |   Package vader_lexicon is already up-to-date!\n",
            "[nltk_data]    | Downloading package porter_test to /root/nltk_data...\n",
            "[nltk_data]    |   Package porter_test is already up-to-date!\n",
            "[nltk_data]    | Downloading package wmt15_eval to /root/nltk_data...\n",
            "[nltk_data]    |   Package wmt15_eval is already up-to-date!\n",
            "[nltk_data]    | Downloading package mwa_ppdb to /root/nltk_data...\n",
            "[nltk_data]    |   Package mwa_ppdb is already up-to-date!\n",
            "[nltk_data]    | \n",
            "[nltk_data]  Done downloading collection all\n"
          ],
          "name": "stdout"
        },
        {
          "output_type": "execute_result",
          "data": {
            "text/plain": [
              "True"
            ]
          },
          "metadata": {
            "tags": []
          },
          "execution_count": 19
        }
      ]
    },
    {
      "cell_type": "code",
      "metadata": {
        "id": "qIq8ZOMsJNqX"
      },
      "source": [
        "#! pip install wordcloud"
      ],
      "execution_count": 20,
      "outputs": []
    },
    {
      "cell_type": "code",
      "metadata": {
        "id": "Bm5IcF8EJNqX"
      },
      "source": [
        "from wordcloud import STOPWORDS, WordCloud"
      ],
      "execution_count": 21,
      "outputs": []
    },
    {
      "cell_type": "code",
      "metadata": {
        "id": "mJpL42bNJNqX"
      },
      "source": [
        "import string"
      ],
      "execution_count": 22,
      "outputs": []
    },
    {
      "cell_type": "code",
      "metadata": {
        "id": "3v5XdbdhJNqX"
      },
      "source": [
        "import re\n",
        "import nltk\n",
        "from nltk.corpus import stopwords\n",
        "from nltk.stem import PorterStemmer\n",
        "ps=PorterStemmer()"
      ],
      "execution_count": 23,
      "outputs": []
    },
    {
      "cell_type": "code",
      "metadata": {
        "id": "LAg4Ln5QJNqX",
        "scrolled": true
      },
      "source": [
        "# We need to clean the dataset\n",
        "cleaned_dataset=[]\n",
        "for i in df_merge['comment_text']:\n",
        "    cleaned_text=i.split()\n",
        "    cleaned_text=[i.lower() for i in cleaned_text]\n",
        "    cleaned_text=[re.sub(r'[\\n]','',i)for i in cleaned_text]\n",
        "    cleaned_text=[re.sub(r'[^a-zA-Z]','',i)for i in cleaned_text]\n",
        "    cleaned_text=[j for j in cleaned_text if j not in stopwords.words('english')]\n",
        "    cleaned_text=[ps.stem(k) for k in cleaned_text]\n",
        "    cleaned_text=(' ').join(cleaned_text)\n",
        "    cleaned_dataset.append(cleaned_text)\n",
        "    \n",
        "    "
      ],
      "execution_count": 24,
      "outputs": []
    },
    {
      "cell_type": "code",
      "metadata": {
        "colab": {
          "base_uri": "https://localhost:8080/"
        },
        "id": "tn1pmH98JNqX",
        "outputId": "06ced4e6-9420-4799-a7b9-7a821c6798ec"
      },
      "source": [
        "cleaned_dataset"
      ],
      "execution_count": 25,
      "outputs": [
        {
          "output_type": "execute_result",
          "data": {
            "text/plain": [
              "['your interest administr posit respect here excerpt doj white paper even ambigu whether fisa read togeth aumf permit presid author nsa activ canon constitut avoid requir read statut harmoni overcom restrict fisa titl iii least might otherwis appli congression author arm conflict al qaeda inde fisa titl iii interpret imped presid abil use tradit tool electron surveil detect prevent futur attack declar enemi alreadi struck homeland engag ongo oper unit state constitution fisa appli situat would call seriou doubt fact difficult constitut question address fisa would unconstitut appli narrow context importantli fisa court review recogn three year ago presid retain constitut author conduct foreign surveil apart fisa framework presid certainli entitl minimum reli judici interpret constitut fisa',\n",
              " ' conflat two brook homonym cross two bodi water may us usag certainli uk thu brook stream brook deriv anglosaxon broc accept verb deriv brucan seem littl connect also scottish term creek particularli scottish creek us usag    jun  utc rjp correct two brook homonym conflat ahd say brook transit verb put toler come middl english brouken old english brcan use enjoy btw that interest today german verb brauchen mean use clearli cognat meanwhil brook noun stream homonym word come differ root via middl english old english brc section miss part articl miss last section empti thalweg say see noth alex chang articl propos type water stream section chang unabl corrobor brook definit given definit found often stream smaller size creek also use water sourc spring seep stream use gener sens ive found variou definit smallest river guess continu give gener definit better imag want feel first imag run stream accur given see water still enough duckwe accumul larg amount dont doubt could flow system hardli pictur close eye think run stream nitpicki ye look current version articl appear fix categori suggest suggest make categori daylight stream neighborhood plese see articl alsoth list alreadi get long section  neighborhood daylight project  place child articl someth eventu need spun sinc daylight stream exist intim compon neighborhood watersh link stream neighborhood categori could use variou daylight project exist world though far seattl san francisco berkeley exist similar project restor natur area urban set distinct park one union bay natur area anoth marsh north san francisco northern california eureka also provid habitat tertiari sewag treatment rather drain mostrecogn level convent secondari treatment suggest make categori natur area urban set tangenti relat georgia basin ecosystem initi salish sea comment discuss tie exist relev articl daylight stream articl could use divers exampl stream limit southern england im sorri quot stream limit southern england refer word stream total nonsenseonli broadest yorkshiremen exampl use word beck advers word like mention stream articl peopl pleas tri avoid make sweep statement beck one use london toot bec near wandsworth burn scotland also officali known streem brook  actual bec toot bec noth name stream name abbey bec franc ',\n",
              " 'neutral less subject term use nonprotest christian church deuterocanon chang ',\n",
              " ' wpawb alreadi seem approv would done anyhow andemu ',\n",
              " ' hiatu eminem final done hiatu say releas album sinc  relaps write hiatu end  came back  talk',\n",
              " ' look like paper correspond conf ab  doesnt actual mention lia anoth paper special section mention lia sever time say southernhemispher equival littl ice age abstract waffl ensu much stronger ad  wet period associ onset european littl ice age lia interpret local signatur work support fact lia global event restrict northern hemispher  ',\n",
              " ' like truco said still havnt updat site  ',\n",
              " 'choos name mention somewher name chosen pick random word dictionari think either bellew solomon',\n",
              " ' hi alison includ ad messag stuff earlierit took centuri figur add comment pagehahafor hardcopi never realli great hand realli appreci alison opinion good describ case briefli sentenc would enougha provid clearer pictur peopl visit page tell us whenev need help workload heavi hey viviani tri best nialeung',\n",
              " '  someon edit import info walker grandfath two bush us presid walker ancestor chief narragansett wampanoag indian tribe  follow two grandson becam presid usa  georg herbert walker bush st us presid name grandfath son georg walker bush rd us presid also name grandfath earli american ancestor georg herbert walker american indian ancestor two descend two bush presid usa georg herbert walker bush son georg walker bush two american indian descend us presid us histori american indian ancestor includ sachem chief narragansett tribe rhode island wampanoag tribe massachussett sourc walker bush american indian ancestor bush famili  isbn  languag english  page give line today follow  tashtassuck  sachem narragansett tribe b ab  aft   wessonsuoum narragansett tribe b bef   keneschoo narragansett tribe b ab   canonicu  sachem narragansett tribe b   jun   poshpw  narragansett tribe b   daughter canonicu  princess narragansett tribe b   iyannough  sachem wampanoag tribe b    iyannough  sachem wampanoag tribe b    mari noep  princess wampanoag tribe b abt   mari hyanno wampanoag tribe b ab    augustin immigr  confid bears b  aft   sarah presid bush ancestor bears b  mar   mar   john presid bush ancestor hamlin b  jun    ebenez hamlin b  may    thank hamlin b  aug   jan   thank hamblin b  aug  aft   joseph bang b  jan  abt   lemuel bang b  dec   may   rebecca keeler b  apr   feb   elijah keeler bang b  jun   sep   esther stackhous b  oct   sep   mari ann bang b  jun  aft   joseph ambros beaki b  jun   jan   martha adela beaki b  jun   jul   david davi walker b  jan   oct   georg herbert walker b  jun   jun   lucretia louli wear b  sep   aug   dorothi walker b  jul   nov   sen prescott sheldon bush b  may   oct   presid georg herbert walker bush b  jun  live  first ladi barbara pierc b  jun  live  presid georg walker dubya bush b  jul  live  first ladi laura lane welch b  live  live twin bush  live twin bush  gov john elli jeb bush b  feb  live  live gallo',\n",
              " 'respons laundri list',\n",
              " 'contest delet articl speedili delet lack assert import hi frenzi use wiki account pictur upload thu articl show edit account reason still stand though page meet criteria inclus follow categori  subject multipl nontrivi publish work appear sourc reliabl selfpublish independ musician ensembl band two song rock band   video game  perform music work media notabl eg theme network televis show perform televis show notabl film inclus notabl compil album etc band theme song cfrb conspiraci show sever year cancel  perform music work media notabl eg theme network televis show perform televis show notabl film inclus notabl compil album etc see  thank',\n",
              " ' use navig templat navig templat link seri articl link present link articl question part link templat question articl also contain two navig templat conceptu physic form link link articl question articl ',\n",
              " ' let help ur littl sock puppet investig useryournam usertrol lol ur go stop got im tell u stop wast ur time  preced unsign comment ad  ill evern log use ip checkus  ',\n",
              " ' ortiz wrote taken wwwexiwporg site social therapi absolut noth cure properli treat peopl mental ill ive sinc diagnos bipolar lower spectrum mean mood swing rare includ fun euphor aspect manic depress anoth former patient said social therapi encourag engend mania obsess impuls agre certainli felt raptur therapi session presenc fred newmanfor problem ortiz post site mayb shouldnt includ link ',\n",
              " 'regard loss materi omnibu song articl place cover song subject context provid repres survey relev cover song literatur result impart bia wikipedia coverag cover song film articl limit wikipedia coverag film remak film polici guidelin enforc film remak ',\n",
              " ' strong object substanti solid argument dont see let move forward text weve got continu discuss improv   ',\n",
              " ' would new tmeplat terror templat could either new templat link insid new templat agre either fact islamist terror relat entri branch one simpli relat one  muhammad templat articl relat muhammad also branch islam correct go talkcontrib ',\n",
              " '  width stylebackgroundtranspar  width stylebackgroundcolor stylewidth  borderpx solid  backgroundcolor verticalaligntop hello chaser welcom wikipedia pleas rememb sign name talk page click use four tild  automat produc usernam date also pleas best alway fill edit summari field use link facilit involv happi edit talk  width stylebackgroundcolor stylewidth  border backgroundcolor verticalaligntop get start introduct five pillar wikipedia edit page find way around tabl content depart directori edit articl develop articl manual style stylewidth  border backgroundcolor verticalaligntop  width cellpad styleverticalaligntop backgroundcolor  get help  stylecolor frequent ask question cheatsheet ask question help page new contributor help page  ',\n",
              " 'delet comment talk page sitush pleas delet comment editor done talk jogendra nath bhattacharya page',\n",
              " 'ukrainian architectur hi start new articl  would like help particularli mani odessa construct',\n",
              " ' perseu missil  descript characterist lack english comprehens appal edit summari read section describ missil list characterist standard way name section similar articl also would happi compar gre score make oh easi benefit simplifi thing hypothet replac missil person describ person  perhap polic report  would entail height weight hair eye colour age ye may also go describ person observ behavior action tone voic etc best abil fairli standard exampl would fit descript articl origin sub head  characterist  encompass divers flexibl approach subject exampl distinct featur distinguish qualiti uniqu particular missil person goe indepth wider represent subject howev defin characterist descript natur easi common day make mistak clearli made mistak get muddl correct use descript characterist repres edit summari differ descript characterist descript tall ft  characterist height ft  distinguish non nativ english speaker difficult brush english skill make fool self edit wikipedia languag ping ',\n",
              " 'temporarili block edit vandal wikipedia wish make use contribut welcom come back block expir  ',\n",
              " 'pack remov item talk page includ comment soon end badli appear need take long break stop late',\n",
              " 'russia new countri aberr aberr would ussr stat lump russia would appear russia medal number year exist countri',\n",
              " ' like ive say guy disagre  talk ',\n",
              " ' hey dont want cancel ego trip mean disrupt editinggo im hope due process oper vandal accus amend  ',\n",
              " 'thankyou grant request feel block appropri action matter circumst learnt lesson',\n",
              " 'explan given incred weak desper im tire wast time noth club ill edit outrag aspect hsetn chang leav desper chang statist leagu tabl etc ill also refer userus wikipediasock puppetri',\n",
              " ' wikiproject world heritag site',\n",
              " '  april  utc oh also what particularli funni ani discuss gene pool say elonka ask look edit opinion edit wikgnomerplatz besid hypocrit elonka known histori sockpuppet use tri prevail conflictsvot post tri claim someth new came base upon evid fact fals accus came nowher last fall part elonka fail attempt becom admin directli lead sockpuppet out made charg time found multipl admin complet groundless he tri deceiv peopl present tire old harass someth new fail mention one actual use tactic ',\n",
              " ' seminari train predictor child abus make sens sentenc ad clutter debat caus section provid sourc back evid written word talk page make sens argu clergi seminari background rate sexual abus deviant sexual behavior see jj report rivera fella cant cake eat cant quot jj report splice togeth part sentenc chang mean also ignor say true caus see homosexu gay priest pedophilia deviant behavior ',\n",
              " 'pleas read follow articl care order understand real worldwid recognis histori  somebodi els said nation transylvania exist pure romania romanian therefor tell real histori within chronicl herodotu  one may find describ daciansgeta nation live within present romanian moldavian territori includ part call transylvania today mean beyond forest latin definit given roman consist carpathian mountain pannonian plain account map found httpuploadwikimediaorgwikipediacommonsdaciabcpng  therefor nation live consist dacian known geton plural geta greek write dacu plural daci geta roman document dacian conquer great effort roman dacia transform roman provinc follow period roman period main romanian peopl rose answer magyar origin histori say start point within actual hungari relat invas mongol rule genghi han hun rule attila within european territori settlement within pannonian plain hungarian peopl emerg mix local popul clear conclus one may say nobodi contradict written past great historian term origin dacian territori within live call today transilvaniatransylvania truth admit daciansgeta nation hungarian peopl came rose nation moreov neither mongol hun actual hungarian roman dacian therefor present emerg stage romanian peopl intern histori admit hungarian appear within today hungari territori around th centuri ac accord britannica immigr peopl come actual tibet regionmongolia settlement conquer transilvania nowaday fabric first live land bear mind romanian never stop claim intern admit origin date dacoroman time never stop view trasilvania home hungarian want live without conflict stop claim belong transylvania land peac ',\n",
              " 'list us librari congress',\n",
              " '  stylebackgroundcolor ffffa pad  cellpad   stylebord px solid  backgroundcolor ffffa verticalalign top color  hello donneyong evan welcom wikipedia thank contribut free encyclopedia decid need help check get help ask talk page place talk page ask question pleas rememb sign name talk page use four tild  click shown automat produc usernam date also pleas best alway fill edit summari field edit use link facilit involv happi edit  width stylebackgroundcolorffffa stylewidth  borderpx solid ffffff backgroundcolorffffa verticalaligntop get start tutori  five pillar  get mentor edit page  upload use imag  creat first articl intuit guid wikipedia  articl creation wizard get help frequent ask question  tip ask question make comment request administr attent help desk wiki style page ask question help directori comprehens liststyl help content page polici guidelin neutral point view  origin research verifi  reliabl sourc  cite sourc wikipedia  biographi live person list polici  threerevert rule  sock puppetri copyright  polici nonfre content  imag use polici extern link  spam  vandal  list guidelin delet polici  conflict interest  notabl classmainpagebg stylewidth  borderpx solid ffffff backgroundcolorffffa verticalaligntop  width cellpad cellspac styleverticalaligntop backgroundcolorffffa ',\n",
              " 'ok here problem symptom pregnanc recent scare death also iud mirena insert year ago dont know symptom could mirena either bloat recent eat quit bit mood swing pinkish spot occur past day around time period also boyfriend sex quit often alway use protect unless anal last time sex jan  anyon pleas help scare dont know symptom mirena pregnant',\n",
              " ' pornographi remov pornographi exampl hyperr though certainli understand author think everyth consid pornograph everyon standard necessarili hyperr without delv differ definit pornographi there specif exampl think illustr argument let say someon make amateur video intercours let postul person decid sell said video whatev reason sinc depict sex act distribut video would consid pornograph definit noth howev inher hyperr someon might interest purchas purpos sexual arous acknowledg arous digit represent clearli hyperr act doesnt make piec pornographi hyperr might odd exampl think serv illustr pornographi vagu subject concept consid inher hyperr perhap im total wrong',\n",
              " ' comma mani comma titl doesnt need one instanc ill move object move back  ',\n",
              " 'budgiekil panzi',\n",
              " 'movi bluetongu boy xmen ii realli arti maddick what sourc said inform',\n",
              " 'im pretend ignor im genuin bit confus dont know your say point your tri make ',\n",
              " 'ph practic recent day ive touch articl mangog surtur ymir charact appear number time paragraph cover everyth cours possibl major charact appear mani time last decad instanc provid best exampl give gist',\n",
              " 'tri say ordu armenian citi turk kill armenian correct sourc armenian poet jm winter quot armenian directli correct well',\n",
              " ' sunk well usa water fair use claim good imag coalfir steam trawler action avail author life   year seem sensibl given imag old ',\n",
              " ' nice reward barnstar good humor lol block messag saw made day made wall funni thing bedroom yo ',\n",
              " 'behavior id say hinstaman probabl hinstamana similar favorit articl topic like lil lez hinstamana like creat lessthanus redirect sometitl spent  minut clean cutnpast pagemov im sanitylimit deal crap tonight neither one edit late guess waitandse mode',\n",
              " 'repli unjust revert',\n",
              " ' simpson refer tard keep reach rainbow sarcast statement base old episod tv show use internet ten year noth homosexu awar saw fit bring hunt around profil page tri find sexual procliv sort autist obsess miss tone everyth constru thing person attack clearli exact sort bullshit make wikipedia useless morass drama way person attack nonsens nac page atroci fuck thing gut exwif person page attempt fix obvious coi censorship block page remain advertis fifteen warn box top tangenti involv nac past trump fact expert field peopl actual leader quizbowl commun worthwhil opinion fact add articl',\n",
              " ' august   utc seem metroid prime actionbas game classifi firstperson adventur howev adventur game player refer first person adventur game first person adventur sinc forev see talkpag peopl say metroid prime like fp think ill add erronausli ',\n",
              " 'charl mccarthi charl mccarthi stuff vaniti materi promot',\n",
              " 'could clarifi mean what charg handl',\n",
              " 'respect request union crown understand wish voic say articl scottish relat pleas discuss disagr plung edit war point disagr first work kink idiosyncrasi unbecom attribut im will hear talk page discuss',\n",
              " 'thank see repli know googolog wiki ',\n",
              " ' mean mean way unclear went wpirc could find mention matter notifi discuss provid link post id like read ',\n",
              " 'admin hi email would prefer current internet access phone base hope back end month though ive got email enabl feel free ping messag way tc',\n",
              " 'revert previou edit insert  kill wound kill also put back old report number dead possibl case line didnt put previou sourc hrw said  kill even begon investig  number base inform leak hospit case hrw one said possibl case russian prosecutor offic russian talk number  month',\n",
              " ' want tell planetstar ad categori love song sever articl sinc redlink add unauthor categori articl sinc act disrupt edit report administr possibl block edit ',\n",
              " 'pleas refrain ad nonsens wikipedia fece consid vandal would like experi use sandbox link edit revert found link believ edit revert pleas contact nd ',\n",
              " 'would deni holocaust',\n",
              " 'agre spui also feel much list remov unnecessarili long realli read tomf  apr   utc ',\n",
              " ' better idea take suit eye read userraysonho admonish rr violat tamper rogersrel articl made baseless claim sure fuck assum your sock puppet readd advert tag roger commun feel free take higher author worthless sack monkey filth absenc swear flippant repli remot akin civil rather polit violenc ps consensu thing wikipedia bold especi come section head like go beyond wireless clearli nonnpov adverspeak get stuf ',\n",
              " 'smile mean  look vicar gener fanci titl   what demut english that stand one  sing farewel servic',\n",
              " 'comment one request move would like point belong wilco fan base bore silli suggest move back appear arrang greatest util overwhelm major user seem  user land page call wilco fact want inform band use includ radio voic procedur handl disambigu page sought rel arrangementsend everi searcher dab pagei good solut clear primari topic case arrang unnecessarili inconveni  margin benefit  one thing could certainli though band articl return plain titl recogn origin term ad voic procedur hatnot talk ',\n",
              " 'redirect talkalexandra provinci elector district',\n",
              " ' hi wayn let know document say paramet work templat  thu misleadingd yield result plain old  odd though sinc virtual cleanup templat take date paramet hope help  toronto ',\n",
              " 'harass jancejgwlaw janc revert edit sake revert edit',\n",
              " 'tag place uploadwiz request speedili delet wikipedia done criteria speedi delet articl seem blatant advertis promot compani product group servic would need fundament rewritten order becom encyclopedia articl pleas read gener criteria speedi delet particularli item  well guidelin spam indic subject articl blatant advertis may contest tag pleas add top page leav note articl talk page explain posit pleas remov speedi delet tag dont hesit add inform articl would help make encycloped well ad citat reliabl sourc ensur articl verifi feel free leav note talk page question',\n",
              " 'talk',\n",
              " 'snow globe remov refer snow globe phobia sgp known addict shown mani news show includ dark master colbert report pleas silenc sgp tommi lee jone us marshal deserv better treatment long live colbert wikitruth',\n",
              " 'smart man smart man ask rude believ god knowledg believ someth scientif backink',\n",
              " 'read articl one get impress footbal team club includ number sport mostli team sport also individu nonbal sport like figur skate',\n",
              " ' ye possibl line    domestcup prevseason ',\n",
              " 'way dont think macdonald qualifi anthropologist might want examin sort ph ds professorship anthropologist usual macdonald quit impress curriculum vita httpwwwcsulbedukmacdvitapdf',\n",
              " ' problem one decid resign someth grow scandal word scandal mcgreevey clear want write scandal creat new articl histor context simpli pov citat doesnt mean arent use wpsyn pov read wpsyn inclus multipl sourc scandal lead articl someon wasnt involv portray effect resign wpsyndavid  ',\n",
              " 'feel must comment pleas use talk page thank',\n",
              " 'reason enough even though sigma absmag probabl also error',\n",
              " ' actual right take suggest wait grammi adel surefir winner night much content ad believ  talkm ',\n",
              " 'yep im definit get heavenli creatur vibe episod',\n",
              " 'that fine wont checkus go even nice day',\n",
              " ' ad text kanmaw hard find texti spent four hour find sourc sever combin great tenasserim river doabl tenasserim provinc town may rosiestep could also help time talk  ',\n",
              " 'unit state',\n",
              " 'bonjour kana got fix talk archiv archiv talk page wait comput crash  job merci davanc',\n",
              " '  draw entrant order elimin timecactu jackchainsaw charliechainsaw charliemankindtom brandicactu jack chainsaw charlieth rockaustinmoshkurrganphinea godwinnhenryballaustinblackjack bradshawdud love owen hart tripl h chynastev blackmankurrgandlo brownfaarooqkurrganbal phinnea godwinn bradshaw shamrockmarc meroaustinken shamrockrockthrasheraustinmankindtafkag artist formerli known goldustchainzjeff jarretthartvad ahm johnsonhenri brownmark henryfaarooqskullno show unabl competekama mustafaaustinstev austinwinnerhenri godwinnsavio vegaaustinfaarooqrockdud lovefaarooqchainzaustinvadertafkag tripl h chyna entrant royal rumbl match',\n",
              " 'respond think thing settl soon realli much import issu around best regard talk',\n",
              " ' palestin riot pleas check happen guy name ed came turn incid cours deir yassin incid massacr help need  talk',\n",
              " 'cg wiki ive start cg wiki cgwikielwikicom itll becom seper websit get  articl free would like join becom bureaucrat sysop though need extreeeeeem heeeeeeeeelp written montenegrin languag intend think ye come join help bye',\n",
              " ' recent page move see also unresolv discuss regard issu ok dont understand issu unless figur articl deserv sortof special except wikipedia rule articl name preced inclin click french jew german jew russian jew forth perpetu name redirect histori jew countri articl ie special articl topic even though whatev reason page jew judaism unit state inde separ entiti histori jew unit state page mention separ list american jew also wrong titl differ categori name separ categoryjewish american correct categori name see complet utter mess made jew judaism relat american articl categori wayward entir unneed articlecategori move countermov renam counterrenam mere seek fix standard noth pleas help pleas stop engag senselesschildish edit war continu revert andor disregard good move valid inform mani articlecategori name irregular still found judaism countri mayb start italian jew im fix need stick one name scheme jewish articl far categori name scheme jew judaism countri oppos histori jew countri widespread use thu regard preced one use categori one actual articl confus part like hint case histori jew countri page along jew judaism countri page plu ton categori name userizak standard extent along list articl like list german jew list british jew forth mayb need start discuss approv polici articl name standard preced follow futur relat dispar yet relat page jewsjuda countri histori jew countri list nation jew relat standard categori name scheme jew judaism countri per userizak recent move involv swiss norwegian jew articl thought accept normpreced revert move articl similar name yet cours one object izak move someth wrong mean pleas let know howev tri improv overal name organiz scheme articl inde categoryjew judaism countri judaism countri articlescategori whole alsojayjg keep revert list jewish american list american jew even though actual list found master list still name list jewish american profess holdov olden day articlecategori name werent state disorgan disarray let figur ',\n",
              " ' jamaica trolley vincent seyfri  april  independ subway whose line oper bronx church ave sinc octob  open fulton street line give access new rockaway ave station resid cypress hill woodhaven  manag extend jamaica ave trolley servic broadway old termin westward along fulton st newli construct loop hopkinson ave new servic open morn subway april th oper weekday sunday day fulton st trolley extend along fulton st beyond broadway old termin crescent st jamaica ave new line independ subway immens popular time novelti gave unusu fast direct servic new york jamaica avenu servic hopkinson loop continu right  end  middl late wit gradual isol jamaica ave line decemb  jamaica central ry motor line end  year oint oper old villag jamaica leav avenu east th st citi line without trolley ne ',\n",
              " 'keep look content havent alreadi exhaust option ill check back hour still havent found anyth suffic ill endors articl anyway',\n",
              " 'pronunci english matter irish ',\n",
              " 'think list quit good might bias sinc practic mall list california alreadi meet criteria everyon els think',\n",
              " 'get ban fun',\n",
              " 'gibraltar histori gibraltar long histori fail spanish attempt reclaim territori form small part modern histori anyon doubt gibraltarian reject claim propos joint sovereignti read section  referendum regard claim terrorist murder gibraltar constitut defin murder inquiri held gibraltar determin law kill visitor intend travel bomb note part constitut still place',\n",
              " 'e septemb winvest best statu nrl  kt  mb winvest first appear  z  n ',\n",
              " ' last day nom le frgate ',\n",
              " '  utc idea improv articl great articl took liberti replac  ue modifi letter small l articl  uc modifi letter vertic line use indic stress syllabl former charact incorrect sinc although appear vertic line sansserif font actual appear like superscript lowercas l superscript  serif font like chari sil doulo sil notic css hack appli use ipa templat forc differ font im take phonolog u hawaii mnoa ill sure add anyth interest hawaiian come  oh crap didnt even catch hope havent done elsewher well like said notic css hack place wish rest world sil ipa font instal  glad like articl replac symbol use look alright origin symbol stretch claim former charact incorrect basi appear font  user peopl never heard summer institut linguist charact use mark syllabl stress one wikipedia present use ipa list symbol edit box feel better symbol contact wikipedian posit consid implement suggest might tri brion vibber learn someth new hawaiian phonolog uh let us know rememb wikipedia want anyth alreadi publish new might unpublish therefor undesir wikipedia polici font use display charact unimport charact encod specif basi two unicod name argu ue modifi letter small l inappropri stress marker ipa check appropri unicod chart websit find uc modifi letter vertic line list section miscellan phonet modifi comment primari stress downstep preced letter syllabl modifi hand ue modifi letter small l given section addit base  ipa ue modifi letter small gamma comment modifi letter occasion use transcript affric fairli clear unicod standard make distinct intend purpos note bottom edit box two given sequenc uc immedi follow ue easili possibl press first two accident bring mhelp talkspeci charact ask someon reorder clariti  explan argument sound good dont know layout insert box charact user screen edit ipa charact display two line first line end tini lowercas superscript h w jlike charact gamma lefti glottal n second line begin charact use stress mark follow stress mark length mark someth obscur make midheight black squar appar use mark end seri relat symbol line end doublecurlybracket ipa base explan appear first line ipa charact broken way misl think last member seri superscript first member seri stress mark bad line break midheight black squar signific white space separ superscript seri stress mark seri see previous use first mark look second darker cours also happen tini superscript sansserif l look nearli ident tini superscript vertic line motiv mayb suggest reorder commun special charact peopl addit separ charact seri superscript seri stress mark help here best suggest offer matter  persuad special charact folk implement appropri new text ho',\n",
              " ' copyedit juli  hi opyedit thing came light may need attent concept didnt know ask collinson commentari para   commentari refer film link region may necessari feel free revert necessari broadcast preair media blackout ad explan fear factor well fear factor websit fear rate per begin sentenc describ allow see hope satisfactori contenti edit feel free remov ',\n",
              " ' paul coupl appt today  quit feel snuff get get back   ',\n",
              " 'promis link spine  articl examin neck pain associ disord httpwwwspinejournalcomptrespinefulltexthtmjsessionidhsqhcpmskxntntkyrptzcklhhryqklfyzlhlhvvbxnfbfindexdatabaseppvovftnavrefer particular import follow passag vertebrobasilar stroke studi find associ chiropract servic subsequ vertebrobasilar arteri stroke person  year age similar associ also observ among patient receiv gener practition servic like explain patient vertebrobasilar arteri dissectionrel neck pain headach seek care stroke henc differ associ stroke dc md visit suggest vb stroke necessarili caus smt visit dc alreadi progress prior visit also note  md involv studi case argument bia come interest cynrn stroke fear monger say evid disput belief',\n",
              " 'regret offend recent discuss use word croni sorri notic repli much later regret cannot work wikipedia anymor due difficulti jza face difficulti accus offens howev judg juri block issu threat question integr person believ type editor bulli call bulli mean block gone beyond bit care look enhanc liverpool page add other unfortun everi jza play game scrub edit problem suppos work conjunct regret offenc howev bad mouth time recent week call administr bit wari deal withdraw edit fella manchest judg know liverpool',\n",
              " 'made ultranationalist editor well blind support',\n",
              " 'puff piec use support liter entir edific articl',\n",
              " ' livingbot hi agre point l head make unfortun discuss underway villag pump  bot alreadi approv brfa see wikipediabotsrequest approvallivingbot  zach ',\n",
              " 'welcom wikipedia free encyclopedia dont log read edit articl wikipedia creat account quick free nonintrus requir person inform give mani benefit includ use usernam choic provid appropri use person watchlist add articl interest abil start new page abil renam page abil edit semiprotect page abil upload imag abil custom appear behavior websit elig becom administr ip address longer visibl user hope enjoy time wikipedia choos becom wikipedian  creat account feel free ask question may talk page way sign name post comment  talk ',\n",
              " '  septemb  utc prove point ad n improv grammar ',\n",
              " 'that case section rosenberg viewpoint add section end worldapocalyps cite zahn show directli',\n",
              " ' quit remov statu unclear tabl pleas domest complet cut dri definit anim domest standardsdefinit other least one anim tabl keep remov opinion pretti clearli domest anim consid mani morph leopard gecko bred anim tabl may belong kind copypast bunch delet first tabl least possibl probabl domest depend definit use leav page statu unclear tabl peopl presum stop ad main tabl get rid truli frustrat hey isnt foo tabl hey foo tabl hey isnt foo tabl adddelet cycl',\n",
              " 'well cant provid sourc english find militari document hvo armija bih prove ho absorb hvo armija bih escal conflict bosnian croat bosniak al capon',\n",
              " 'whack problem solv',\n",
              " 'septemb  utc nevermind took care  ',\n",
              " ' gener problem name convent wp page address link httpenwikipediaorgwikiprogressiveretinalatrophi link siames embed httpenwikipediaorgwikisiamesecat link copypast mac mail new email exampl link convert mail httpenwikipediaorgwikisiamesecat invalid mail replac percent charact hex equival pleas advis editor avoid use special charact least avoid use escap code link anywher els copypast could result convers case solut simpl name page shoud httpenwikipediaorgwikisiamesecat link page progressiveretinalatrophi code violat httpenwikipediaorgwikiwikipediahowtoeditapagelinksandurl paragraph begin url symbol must among  paragraph follow',\n",
              " 'percept number editor drop direct proport number new articl think wale far optimist dont agre bell request block other dont think control articl rather knowledg editor',\n",
              " 'dont believ check whoi live chichest use virgin',\n",
              " ' skyhook misnom seem skyhook alia space elev might bit misnom skyhook often use refer apparatu seen recent batman movi  refer skyhook term space elev  ',\n",
              " 'hello peter welcom wikipedia might find link help edit page write great articl name convent manual style read polici point question see help page add question villag pump ask talk page hope enjoy edit wikipedian introduc new user page find lot inform includ open task daili tip commun portal sign name use three tild like  use four add datestamp well save page good idea use show preview button review edit also consid write summari edit welcom   apr  utc',\n",
              " 'kansa histor societi inform use refer wikipedia see httpwwwkshsorgsearchindexquerygrantcounti',\n",
              " 'good point think cult exampl surviv sinc decept never admit proven ive remov also updat crop circl exampl improv  talk',\n",
              " ' ef  major contentkil edit revers see talk comment page link section header ok wait see thing fix tackl anyth   wikiproject commun brilliant individu dont join wikiproject commun hunt make life live hell  oh crap type think bit much rum apolog want say ive sinc wikipedia notion sens commun thought commun write commun would popular idea catch look project page histori even talk page youll see im one look wikiproject like wikipediawikiproject michigan like beehiv wikipediawikiproject beatl probabl innov product organ group wikipedia silli commun builder task forc realli one guy feel like delet whole thing sometim usersj interest encourag first start he wikimania mani thing anyway commun articl come along well ive creat list sourc bottom list commun topic im list find follow copi cq talk page ah rum thought wow somebodi final recogn uniqu brillianc oh well dont think two make commun either ive mean sign ive involv commun variou kind mani year commun ephemer thing realli oxygen breath us dont stop think guess that isnt stamped like way peopl avoid talk process let see michigan  commun place beatl  commun interest hummm someth topic well interest intent commun kind cours ecovillag mayb angl begin anyway im your talkin sunray  two head better one think other see progress commun articl qualiti may rejoin effort im head virtual commun start shake thing attract topic articl nearli big mess commun hope recruit member tool place approach list seri base upon import public interest feel free drop wikiproject commun tag mani articl like know tool track hit count wikipedia articl suppos talk page activ pretti good indic would nice tool quantifi talkvirtu commun onlinesourc tag think good next focu im threaten bump articl stubclass stick rewrit tag mayb furrow brow im also think bump commun aclass would like find anoth articl get quickli bclass take look vital articl idea  ps meant brillianc comment  brillianc comment certainli got attent seem next step know individu uniqu brillianc henc begin get motiv posit feedback would reinforc motiv im learn watch peopl contribut contibut sometim might tell saw made say lot action virtual commun relat page trick distinguish seriou contribut drive by wikipedian browser grazer keep move link watchlist grow grow',\n",
              " 'go sigh read articl constitu countri suggest pertin discuss verifi sourc contain within feel need refer sourc articl feel free copi refer articl articl england scotland wale also',\n",
              " 'second major rewrit definit need would quit admir time would strongli suggest look german wikipedia page raytrac link top articl well put togeth think correctli focus raytrac aspect oppos gener physicallybas render cours reli nearli exclusivli ray trace certainli broader term',\n",
              " ' continu shown pl jimsch  interest slightest balanc nostradamu subject continu banter serv reinforc abil anyth relat nostradamu true histori bring shame alon fals claim attempt rewrit histori wikipedia ridicul claim nostradamu astrolog pl  jim pl continu slight censor author  nostradamu statement comment archiv talk page see wonder ridcul giancarlo rossi  nostradamu scholar well suggest pl jim actual learn astrolog cover clear ignor scienc art astrolog especi come michel nostradamu cynic rude comment flow pl jim like sad tag team obvious lack astrolog knowledg disqualifi even approach subject  clear comment littl understand astrolog gener practic renaiss europ particular rather honest  smirk rude other show knowledg prove neg pointofview pl jim clearli demonstr inabl taken serious pick whine constantli like spoil children accomplish noth edit subject proof ',\n",
              " 'gibraltarpedia could anoth languag well pictur',\n",
              " ' sort proper english wpsort read part sort key use exclud prefix consid unimport beatl sort beatl roll stone sort roll stone etc compel reason ignor convent case even band alway insist upon use nonstandard style style guid trump prefer inclus categori wikipedia tcm ',\n",
              " 'got hospit got hospit overnight stay realli dont need page delet far import issu deal deal someon delet page feel import still need complain go nobodi pleas dont complain consid ive work  featur articl ive complet  featur list think know make wiki page april    edit englishlanguag wikipedia that lot import thing time deal selfappoint wikicop im busi pointlessli tri convinc peopl action anyon els action get troubl get troubl thier action fake wikiland sherriff dont make happi fake pretend wikitroubl actual troubl anyon care fake pretend wikitroubl wikitroubl wors real troubl real life get wikitroubl raincoat beaver dragon come get thank gener aldo rc monkeyjunk ',\n",
              " ' welcom michael price talk page wikipedia free encyclopedia ',\n",
              " 'admin think busi antic  get away anythingit seem wherea suffer medic colleagu even ban usual spuriou reason wish could ban call mental insanejohn write close similar one may ide fix without mad even lay sens one law one wiki way medic matter see medic colleagu ban link doesnt like dont wish practic medicin didnt requir much work medic polit',\n",
              " 'your suppos go compromis your suppos find consensu consensu someth broader christian made sens sinc ive never even edit faithreligion articl broader ',\n",
              " 'safavi hi wonder think safavid iranian dynasti azerbaijani origin rule   intro safavi articl version put end disput think better turkic speak special intro think thank',\n",
              " 'stop edit articl stop edit articl serious goe wiki rule get troubl there reason peopl want make suggest that fine there talk page dont vandal peopl articl consid vandal get troubl',\n",
              " ' nationalist first place pro terrorist nazi separatist propaganda kosovan dont never exist mean serbian southern serbia kosovo ye anyway articl claim guard form nationalist serbian nationalist serbian nationalist parti togeth serbian nationalist organ absolut dont support organ claim militari action made serbian armi unlik guard  member  member includ volunt serbian pvo saf paramilitari profession reserv serbian nationalist organ like          etc also support action south serbia kosovo done serbian armi dont think put nationalist still wont remov ',\n",
              " 'delet comment dude funni xd',\n",
              " 'ill extend hold time',\n",
              " ' enjoy smile smile promot wikilov hope one made day better spread wikilov smile someon els whether someon disagr past good friend happi edit smile other ad talk page friendli messag ',\n",
              " 'actual consid seem issu might brought wikipediawikiprojectcounteringsystemicbia search talk archiv notic one solid editor retir year back alreadi india vs westernanglo bia issu gener tri uninvolv issu anyway link present racism charg context relev even specif case  wrong hmmm think great romant script bollywood movi wikipedia enough must write treatment quick talkietalki',\n",
              " 'az fusion anoth club alkmaar guess',\n",
              " ' valid cant write daisuk kawasaki person note reader want check author bare inform apart blog even japanes written hidekazu yoshida someon like paulin kael note still lead achiev articl doesnt make accept differ situat one assum teenag fan enter stuff articl watch ensur remov fancruft nonsens usaustralian magazin etc make sort stuff easi money anoth major point made dont speak japanes read magazin referenc websit hasnt done research call reliabl simpli repost neojaponism said interestingli exactli inform list come neojaponism reliabl sourc blog site could chang part made entir put want list call bias publish roll stone distanc even write  cover list written someon note written selfpublish defunct fanzin owner amus fancruft list written fanzin writer pitch idea magazin get publish convinc good sale also explan album select numer list easili fabric ',\n",
              " 'pleas stop continu vandal page block edit wikipedia account',\n",
              " 'marvel sing danc bishapodofloveli thank kind post invit im sure would fit univers stopact danc sequenc extinct unfortun cannot sing worth diddli howev celebr wonder ',\n",
              " 'know use wikipedia pleas dont talk im sorri inform consensu reach date regard matter question playstat vita limit backward compat playstat portabl download game regard system consensu yet',\n",
              " 'agre sourc need cite talk  contrib',\n",
              " 'bison hair bigfoot research made big deal sinc hair yet test question suhc thing ask beckjord best hair analysi done three scientist need done httpwwwbeckjordcombigfootbloodandhairhtml current hair analysi wast tiom imho done dr henner fahrenbach light statement dr michio kaku ccni physic cuni say ufo may come via wormhol idea sent year ago said tv  abc would seem hairi humanoid could temporari visitor dna prove humanoid time dna obtain la state research sever year back claim  jame lansdal newspap make big deal possibl hair bf later buffalo mean need make big deal verifi sourc mean truth sourc lie beckjord ',\n",
              " 'materialscientist nope wrong tri',\n",
              " 'place hangon post yet still delet',\n",
              " 'utc use bce ce appal like arbitrarili call jewish calendar pce precurr era uc unus calendar   march ',\n",
              " 'question wikipediavillag pump miscellan recent pose question wikipediavillag pump miscellaneousquestion use wikipedia content concern question use wikipedia content httpwwwrecipelandcom ask notifi answer talk page well bottom page written copyright  metroisp inc  sean wenzel right reserv wikipedia text licens gnu free document licens origin articl found wwwwikipediaorg talk',\n",
              " 'result chang made talk',\n",
              " ' submiss afc shayan modarr accept shayan modarr submit articl creation creat articl assess stubclass record articl talk page may like take look grade scheme see improv articl welcom continu make qualiti contribut wikipedia  question welcom ask help desk would like help us improv process pleas consid  thank help improv wikipedia ',\n",
              " 'ok mani thank taught trick anti vandal trade learn',\n",
              " 'second thought articl need clarifi state',\n",
              " 'dont think mayb confus ip insult easi show diff ',\n",
              " 'solut suggest  ask thirdparti opinion goe longrun discuss make think thing gener michael newbi wiki polici dont bite newbi seem relev look like part stick apart person comment michael english relat fact sometim hard figur someon point may kwami tri say michael think line say someon english nonn someon knowledg arab similarli less desir point one stick point leav person comment sometim discuss articl edit get pretti heat even without person comment cant handl take wikibreak work divid topic discuss  make much easier peopl comment without read lot lot stuff arent interest exampl want comment el baal long discuss would want put comment think one best thing done articl divid put meat wadi alhol articl protosinait script inform page remain middl bronz age alphabet gener summari two thought relat plu thumbnail sketch content two articl appropri main articl type link think focu discuss exampl colliss written one refut support collisss argument guid right discuss page topic one mani scholar scream way summar oppos argument allow casual reader understand controversi without get inform overload relat script articl suffer dearth citat appropri otherwis variou assert interest serv steppingoff point find actual sourc would oppos delet everi singl unsupport citat year ago wikipedian start insist citat  whole lot origin research still persist without proper citat one would like know mani exampl inscript found current state articl seem like one protosinait found two locat cant right two wadi alhol inscript see illustr provid also citabl refer nation geograph websit semit antisnak inscript part unass tomb giza mayb page appropri link dont buy busi arab irrelev remind much european research dismiss arab scholarship arab languag howev refer arab articl topic middl bronz age keep mind huge time differ exampl hamza much later develop shed much light wadi alhol develop letter j v w dont accept tabl  articl intermedi step repres tabl tabl repres conjectur connect two known endpoint hieroglyph semit alphabet lack better term besid hypothesi protosinait script evolv hierat write script repres tabl dont accept busi name letter unless evid show symbol even name time use name anachronist name fact attest differ time differ script person promot use name big burden term wikipedia say particular citabl scholar made connect connect disput point citat say editori discret say portray disput exampl say x other disagre exampl b clear whether x true claim whether true claim b scholar disagre whether x tr',\n",
              " 'shameless didnt add incorrect inform articl ad anoth refer interview movi lead actress jeon doyeon ',\n",
              " 'im surpris he last long without perman block provok peopl reason stir troubl attract attent imo he never usa adopt psuedopersonacomplet lingo base launch attack irish mere seek attent',\n",
              " ' didnt say noth leav dont see verifi anyth yap',\n",
              " 'categorycompani arab leagu categorycompani arab leagu creat nomin possibl delet merg renam would like particip discuss invit add comment categori entri categori discuss page thank',\n",
              " 'sourcepen fyi  one ip seem  what doc carrot',\n",
              " ' never heard term greater minnesota outstat heard greater minnesota believ correct greater  usual refer someth outsid x exampl mani peopl say go chicago may actual set foot chicago instead go greater chicago ',\n",
              " ' per usual point quotat baseless fals sever repeat block amount two second rubbish done person first simpli alreadi block saw name he also probabl friend illegitim use one comput simpli fact use one day one even im two differ place oh ye im sorri dont bow dictat croni refus use comput oper well anoth comput edit gee block one feel oblig refus edit theyv said okay get son dont wield kind moral author especi bogu edit revert put continu use threat namedroppingw know work plan worksoooooooo dont fli',\n",
              " 'haha dont know lol',\n",
              " 'keep chin darwin accept overnight appear sens aat origin sortcut hypothesi ancestor went swing tree prairi eon later take sedentari life style could edit wikipedia face book etc day one watch littl kid beach first time wave throw bottomoverelbow may well cri  time cant wait get water home seaedg environ hardwir gene unfortun rise sea level sinc time mean evid coastal commun may never found keep plug away old hypothesi fade away',\n",
              " 'trot known falsehood smear someon attempt contribut articl might indic admit conflict interest respect thuggish slimi weasel that subject articl ',\n",
              " 'unsign question left   march ',\n",
              " 'appar short stori formerli mention articl recent delet',\n",
              " 'abus threaten  anoth user came nowher start crisi make abus person attack defend everi person refus ignor threaten state seriou wrong would commit wikipedia claim even even theori discretionari choic take entir side victim situat situat offenc organis decid take offenc told discretionari choic bulli corrupt admin take person bulli decis without defenc process go judg first pass admin act whim nobodi lose right without defenc process said add legal put wikipedia public record blame victim prevent mob rule public warn',\n",
              " 'theyll see attempt articl povwar ',\n",
              " ' australiaitali  dont worri sure complain also italian speak easi target overlord silvio berlusconi give check nice guy umberto bossi elector around live northern itali brr chill disgust even piedmont turin tradit leftish total northern leagu jerk governor put fun side mayb im especi angri commonwealth guy sinc australia wash us yesterday rugbi polit groceri man wait till well beat australia new zealand joke serious realli admir anglophon nordic civil honestli think australia particular far better us  life thing  remain come past honestli matter got disappoint sinc alway big pictur time british journalist gener  italian one renown serf payer understood journalist made big mess studi depth matter ciaoooo hug attilio nona realli want know word desktop use materi murray past talk page autotransl almost sure wasnt translat arrog italian poor english qualiti paint gener fundament stylist characterist indefinit desktop earth mean could possibl find italian version im sure could translat accur think guy meant background fit ',\n",
              " 'ref httpwwwiteorgmembersonlyitejournalpdfjkaapdf',\n",
              " 'redirect user talksahanxwhen vandalth horribl past',\n",
              " 'problem altenman look like problem altenman want trade note',\n",
              " 'greet hi cirt  hope consid stop accus bad faith edit qualm particular edit id love hear wrong approach improv id like direct attent two quot user page first jimmi wale  edit page  realli would like pleas feel free make edit  even sever wikipedia second neelix user page wikipedia thoroughli inher collabor human divis academia still hold ideal lone geniu expect human scholar sole author journal articl scienc social scienc expect two three author journal articl wikipedia everi welldevelop articl mani three author result everincreasingli accur approxim object object pseudoobject result ignor bias author rather result divers perspect cover proport discuss peopl divers perspect write better write togeth think principl pretti neat certain edit adher youd like contact site let know  id happi share way get touch',\n",
              " 'extrem strongli disaggre call appeer reason',\n",
              " ' email virtual carrier pigeon way inbox dear  talk ',\n",
              " ' wong mckeen citat greet ad refer section question remov citat need alert thank ',\n",
              " ' extern link  shahid user talkshshshsh u repli earlier question  u cant show exact ref  prof wikipedia recongnis photo gallari  fan site spam revert ur edit preiti zinta acticl u may senier editor u cant thing without show proof ref  wikipedia ur site hav thing collabor  u cant delet work tell wikipedia rule show proof ref link wikipediaspam u send  ther nowher said photo galleri consid spam per wpspam  u ignor without answar  show rule book wher say photo galleri consid spam per wpspam  immideatli remov link contact',\n",
              " 'thank encourag work expand soon canmelca',\n",
              " ' sock puppet polici procedur tag page sock puppet explicitli state tag place user page user say dont make chang page doesnt chang procedur assum imdak one els would revert sock puppet tag quickli ',\n",
              " 'let list interpret follow topic specif term whether new power autonomi transfer britain feder govern',\n",
              " 'floor need scoundrel everyth roll back silent rag complain your insol',\n",
              " 'person wikipedia ',\n",
              " 'may wrong ever come back request unblock explain convincingli share account id will reconsid',\n",
              " 'hoboken termin hey could doubl check diagram hoboken termin need fix',\n",
              " 'proterrorist agenda fill person seem go make sure abl corrupt wikipedia tandem crimin colleagu sudoghost wish dont good day ahead ',\n",
              " 'altitud lake whaler ran small hydro gener small build near shore lake gather lake use water sourc visit ship moor grytviken',\n",
              " ' need quot part said edit user user talk page violat wpcivil wpnpa okay delet talk page talknorthpark center case dont know delet talk page put archiv folder revert action think need take read class ',\n",
              " 'dog nicknam king charl cavali follw everywher went also still allow public place cavali  hors mount soldier true mean word dont ride alon jame feb ',\n",
              " 'errr  guy realli isnt head toward encyclopedia articl present   sep  utc',\n",
              " 'also also version slightli ambigu sinc clear whether froderick speak twin earthenglish english speak english happen twin earth ie frederick ident earth twin transport unbeknown context enough may enough  believ debat point chang mean word word may mean frederick point made explicitli last version',\n",
              " ' sinc seem blown spectacularli face might well explain edit  came across blp hadnt edit sinc last year notic paragraph sign creation petit seem disjoint tangenti  sign petit unquestion notabl seem jar go straight discuss research februari  new york time report petit twosent statement without state sign petit anyth essay sort articl problem  wpcoatrack check person webpag notic quit open religion googl rosalind picard christian found atlant monthli articl discuss length creationist ad sentenc make articl flow smoothli sign petit also remov second sentenc explain petit thought stray offtop discuss raul see merit leav last sentenc  think articl stand accept what greatli troubl instead discuss work compromis certain folk refus invit discuss instantli jump start canvass revert war minut discuss would cheer resolv situat instead im person agnost anticreationist get god im work name wpblp realli isnt way wikipedia work  assum everyon pov pusher default thing around  ',\n",
              " 'circumcis care think',\n",
              " 'get pregnant',\n",
              " 'utc still say  year later nonmed person want know plain lay languag neonat jaundic caus simpli put health result jaundic short long term basic treat articl complex layperson none type inform simpli explain mention studi could summar better yet left    januari ',\n",
              " 'filemoulin de maintenay  jpg userbulwersatorechoimagesriv watermil authi see deauthi fluss',\n",
              " 'got usertalk lopezlopez contrib',\n",
              " 'counti counti  former counti south pyongan merg nampo  administ part citi chollimaguyok  kangsoguyok  ryonggang counti  taeanguyokgun  look weird former counti formerli name  merg wit nampo renam  parenthet hangul name former name editori choic roman name either new former either ryongganggun ryonggangguyok accord actual name either taeanguyok taeangun could guyokgun ',\n",
              " 'also saw starscream new look chin jet base su berkut',\n",
              " 'world cup squad check templat delet world cup squad templat propos delet disagre place vote',\n",
              " 'project much talk respect blp discuss topic denegr public figur articl talk page throw low blow chuck todd mean realli project what dinner bit andpiec',\n",
              " 'ben best fix link never mind thank',\n",
              " ' might interest lock articl prorao vandal note talk page talkrecentafricanoriginofmodernhuman remov cn request tag etca note remov tag vandal problem also multiregion articl well possibl pov reason updat reflect sourc show chri stringer doubt rao plu tonight ad anthropologist book use lede use say rao mainstream hypothesi book withdrew claim say multiregion gain support formerlydomin rao hypothesi lock articl cant edit guess there waitingperiod id need edit     articl get permiss new user edit lock articl thank  ',\n",
              " 'simpli restor ad know user michaeldsuarez',\n",
              " 'ps also indic stupid averag vandal didnt leav call card user page everi time went dechina spree probabl wouldnt notic ',\n",
              " ' first archiv may better go origin archiv item  item link',\n",
              " '  juli  utc well spot went school london necessarili typic gibraltarian  speak much better english hear voic live radio gibraltar stream net daili news bulletin wwwgbcgi send recept report webmast ',\n",
              " 'page updat shortli explain full signific merit full wikipedia entri primarili merit base client request presenc wikipedia',\n",
              " ' hello sorri lateish repli tag insuffici context articl tell someon doesnt know anyth compani devic manufactur produc  objectsdevicesetc mention draft brief histori compani advertis compani last line section wti wti logo regist trademark western telemat inc doesnt give inform look like disclaim anyth chyte ',\n",
              " ' confus descript backward uturn descript seem confus uturn vehicl direct chang manoeuvr seem describ chang vehicl orient direct travel  talk ',\n",
              " 'redirect talkinfant afonso lord portalegr',\n",
              " 'get your say happi legend section includ open theyr put forth he look member roster part show basic theyr say hey look rock raw guy techinc he number  contend wwe titl sinc john cena champion know there guarante cena champ mania rocki got championship match ppv thu part roster alon mainli sinc he featur open show wwe push part raw  day pass wo rock sight get reactiv come back ',\n",
              " ' mathemat descript physic law didnt get round say thank sort articl year later learn physic math realiz atroci incorrect effort articl im happi merg law scienc edit articl definit improv support merg scientif law law scienc number law naturesciencephys articl could unif  mean leav physic law alon though also thank least decent enough improv list physic equat articl process merg even though iron dislik articl dont worri much length  maxwel equat  kb lot repetit best ',\n",
              " 'jordan hall butler univers name local businessman arthur jordannot david starr jordan misemici',\n",
              " ' insert pew poll quran vers muslim terrorist  truli secular  terrorist muslim secular system social organ religion allow play part whatsoev islam total antithesi main obstacl secular islam problem realiz vers quransubjectchapt number vers numberapostaci liter promot terror   deal unbeliev       ',\n",
              " 'kuban kozak use terminolog import histor part could understand time name peopl import part time cant ignor would like explain welcom littl russian doesnt mean littl ukrainian peopl littl number relet russian peopl mvei',\n",
              " 'peter borodanski ad prod templat articl peter borodanski suggest delet accord propos delet process contribut appreci dont believ satisfi wikipedia criteria inclus ive explain delet notic see also wikipedia wikipedia delet polici may contest propos delet remov date prod notic pleas explain disagre propos delet edit summari talk page also pleas consid improv articl address issu rais even though remov delet notic prevent delet propos delet process articl may still delet match speedi delet criteria sent articl delet may delet consensu delet reach ',\n",
              " 'disrupt editsdelet member appear person wikipedia uncomfort truth differ person viewpoint wish throttl truth post absolut truth referenc appar like much akin book burn hurt valid wikipedia',\n",
              " 'citabl sourc translat use wikipedia cant check sinc dont speak albanian',\n",
              " 'thank thank attent assur intent use wikipedia caus troubl want correct mistak like good user',\n",
              " 'download download ppv report read say edg tj spyke back januari u post want know u download cu cant find download',\n",
              " 'subject sister wrote letter editor post gazett complain coverag could referenc rebutt',\n",
              " 'angerstein railway line refer date   recent consid matter',\n",
              " 'thank  assum good faith talk page block would glad return would assum good faith wpown case rais especi  rfc constantli ignor  month post initi warn possibl wpown case  septembr   consid rude recept escal decid bring ani  septembr   would pleas would explain exactli behaviour could consist wpharass case simpli clue faith',\n",
              " 'aachen hello im wonder relic frankish empir architectur museumlevel piec remain understand charlemagn tomb lie cathedr palac',\n",
              " 'cool thank look dont disagre like may better idea see thing go pick townsvil thuringowa page felt bit way know help get higher rate look like bit attack edit ask everi line ref ref end piec cover whole bitoh well ill let go tri ask think sport part ref thank',\n",
              " ' oxford meetup  im sorri unabl attend fifth oxford meetup intend send messag monday ive bit busi sorri sever us would like continu monthli plan sinc tri make twomonthli cycl fit univers term doesnt work well occur first sunday  juli would clash coventri  perhap one could second sunday  juli probabl clash london  date yet set report oxford  think  london attend page creat sixth oxford meetup pleas sign think abl attend  date venu unsuit pleas comment discuss page pleas spread word anybodi els think might interest next uk meetup london  june manchest  june coventri  juli ',\n",
              " 'one mani book variou band thought cult rocker check supertramp isnt seek sourc quot ',\n",
              " 'vandal page vandal someon revert',\n",
              " ' dont make laugh talk ',\n",
              " 'challeng mate',\n",
              " 'civil war releas gnr releas song first benefit album use illus ii singl made song releas  singl pleas help thank',\n",
              " 'revert page',\n",
              " 'regard allianc mdmk aiadmk finalis seat alloc number new allianc partnerswithout finalis seat alloc longstand alli mdmk seniormost new alliesienadalum makkal katchi led actor karthika one hail southern tamilnadui opinion two parti consider pocket influenc part statefurthermorevaigo consider influenc tamilnadumor coimbatoreerodetiruppurtheni districtsin addit partiespuratchi bharatham partywhich alli dmkfor last five yearsha come allianceth parti consider pocket influenc tiruvallorekanchipuramvellor districtsithereforesuggest three parti allow go alon join allianc form new alliancethey may provid seat allianc led aiadmk follow mdmk   seat nadalum makkal katchi seat puratchi bharatham  seat parti immens help captur power aiadmk',\n",
              " ' wikipedia fake sever dozenth time wikipedia faker warn sanchez launch person attack wish articl truth fact peopl issu warn sanchez promot protector one elonka recent reward lie wikipedia administratorship wikipedia think fool ',\n",
              " 'know place guy never touch girl leav parent attic gather fun place phd go quot guy least honesti make attempt use word use use',\n",
              " 'word personali deni montenegrin right separ ethnic groupwow serb might want montenegrin way around noon want serb elja e te bit',\n",
              " 'thank want thank answer question technic aspect renam process eventu realiz chang continu made task would eventu complet provid help answer',\n",
              " 'note futur block admin ip made vandal edit vandalis tandem ',\n",
              " 'nba project tag nba project tag keep get remov channel exclus local tv right holder detroit piston think project benefici',\n",
              " 'work critic section hi edit critic section today critic section possibl import section properli cite particular critic section rife uncit opinion origin research accept wikipedia make claim like someon add anyth critic section pleas ensur citat notabl person research organ studi matter cite back sentenc use cite link show statist alon support critic section mere statist mere list state',\n",
              " ' case sourc quot would dsmiii dsmiv suppli quot  talk ',\n",
              " ' bu servicedestinationfrequencyjourney timetimt  hampstead heath pimlico  minut  minut  hour  chalk farm turnham green  minut  minut  hour  trafalgar squar wood green  minut  minut   shepherd bush green  minut  minut   farringdon street lancast gate  minut  minut   clapham common  minut  minut  hour  north finchley tottenham court road  minut  minut  hour  hampstead heath old kent road  highgat villag liverpool street  minut  minut  hour  euston hackney central  minut  minut   islington lancast gate  minut  minut  hour c oxford circu parliament hill field  minut  minut  hour cash taken rout  pay board',\n",
              " 'basic user johnuniq follow user jag everi singl articl edit johnuniq islamophob continu blindli argu sourc must wrong introduc jag score  bia',\n",
              " ' citat problem citat problem first sourc sentenc state everyth relat rosenburg twin mother cant seem spot one think would need one citat number  raw url would fix load properli cant fill correctli kind unrel articl aki ross final fantasi charact templat justdrama ',\n",
              " 'poland popul found someth bit strang poland popul figur go demograph poland see poland popul doubt increas take look countri profil see low decreas       someon give answer poland popul realli increas thank arthur  august ',\n",
              " 'benjwong pleas look variou news sourc taint milk pass protein test sanlu becam awar melamin earli august one week olymp reason anyon know china assum want suppress news time sourc ive seen report sanlu recal product effort public govern week ahead news break today news claim last straw suppress news nz govern directli talk prc govern last week',\n",
              " 'philippin wikicon invit rd philippin wiki confer wikicon may   ampm colabexchang pasig citi pleas fill form signifi interest',\n",
              " 'skag river queen blatantli violat rr yet consensu ask articl protect main articl wikipediabiographi live person write controversi lead biographi live person notabl materi neither suppress allow overwhelm blockquot overwhelm articlesrq made unilater decis chang two quot instead one discuss brb',\n",
              " ' cotw award cotw award wpor thank lead way last week collabor week thank take o ',\n",
              " 'combin offici request clemenc section call releas section still need tidi possibl reorder',\n",
              " ' appear withdrawn endors request chat ',\n",
              " 'look delet inform talk page youll ban wikipedia youll cri life warn ',\n",
              " 'moot point sinc youv read thought didnt offer much pictur dust bowl town',\n",
              " ' speedi delet mastercheesu tag place mastercheesu request speedili delet wikipedia per speedi delet criterion g criteria speedi delet articl meet basic wikipedia criteria may delet time pleas see guidelin gener accept appropri articl indic subject articl appropri may contest tag add top articl leav note articl talk page explain posit pleas remov speedi delet tag dont hesit add inform articl would confirm subject notabl guidelin think notic place error may contest delet ad top page exist speedi delet db tag coupl ad note articl talk page explain posit awar tag speedi delet articl meet criterion may delet without delay pleas remov speedi delet tag dont hesit add inform articl would would render conform wikipedia polici guidelin talk  contrib ',\n",
              " 'redirect talklist station use radio data system new zealand',\n",
              " 'auckland meetup meetup central auckland next saturday  feel free come along see wpauck',\n",
              " ' opinion afd lean toward merg that irrelev consensu afd redirect page littl soft delet clearli polici that bold game system whether articl stay goe littl concern person fact watchlist mean cant turn blind eye effect delet without commun agreement speak ',\n",
              " ' titl titl use articl la ',\n",
              " 'eye notic list charact eye also believ typo descript last episod claim fitz skillet see fitz rostr polic man golden joe probabl eye fitz',\n",
              " 'complet unencycloped content remov',\n",
              " 'afd notif hello nomin dj skitz delet thank',\n",
              " 'someon point link could tri read revert spazz',\n",
              " ' hilo your somewher victoria notic hundr club chang name soccer club footbal club south melbourn fc notic organis bodi sport chang name footbal feder victoria also notic nation media surprisingli lot refer game footbal  sydney base repres whole australia see media complet differ someon melbourn see ye agre let use neutral term associ footbal term sport wikipedia ',\n",
              " 'recent vandal look page histori guy keep write linkin park rulz he chang first section repeatedli matter mani time revert ',\n",
              " ' that question question sinc odd first post claim first two post delet review page becom awar delet review  new editor show articl first like privat info your suppos link privat info   talk  ',\n",
              " 'well rm flaw altern wors id thought notifi need revot come back make effort right thing believ alway come good cheer',\n",
              " 'could possibl read entir thing went second put clear attack  small biograhpi bulli  permiss tom runciman enourag creation articl  integr articl allow completeit school time school facil would thank lave alon read seek block first',\n",
              " 'propos delet   hello zafirovna want let know im propos articl start   delet biographi live person lack refer dont want   delet pleas add refer articl dont understand messag leav note talk page thank',\n",
              " 'remov theyr reliabl could say reput sourc author articl recogn anyon els author vet peer first publish reput public would complet differ matter simpli selfpublish sourc diatrib',\n",
              " 'thank interest categori page mention templat one way add categori dont see anyth say categori cant use directli articl there need hidden categori meant talk articl page userpigsonthew andi talk andi edit',\n",
              " 'agre come verifi inform put back think section work pretti well  thank chancemichael',\n",
              " 'hello name eric aka mouthlessbobcat recent creat francesca hogian articl properli sourc give good refer suitabl wpbio yet surviv two delet nomin reason think subject televis person audienc doesnt feel subject notabl isnt case decid merg articl made upset even consid opinion realli need help feel articl suitabl dont want hidden brush away',\n",
              " ' thank thought  mayb updat seri women painter one project time women histori month ill see identifi group smarthistori  smalltalk ',\n",
              " 'pleas note prohibit editor sockpuppet mere prohibit use sockpuppet either evad ban block b gener fals appear consensu lack thereof time sockpuppet edit revert sight sockpuppet creat ban user quit clearli case',\n",
              " ' that ok tri find refer two statement thing found blog refer agre isnt quit substanti enough talk page ',\n",
              " 'welcom hello  welcom wikipedia thank contribut hope like place decid stay good link newcom five pillar wikipedia edit page help page tutori write great articl manual style hope enjoy edit wikipedian pleas sign name talk page use four tild  automat produc name date question check wikipediawher ask question ask talk page welcom ',\n",
              " ' wasnt confus tri polit statement critic point fact one year church receiv revel polygami prohibit utah appli statehood request accept factual see post enabl bill wasnt pass congress four year manifesto statement could least clarifi meant request accept im sure hawaii look alaska enabl bill pass  eisenhow sign offici declar earli januari  seem like lot statehood elev drawnout polit battl eisenhow didnt want democratlean alaska wipe slim republican major ',\n",
              " 'queri delet hello delet articl slurpe capit world claim advertis could pleas explain advertis',\n",
              " 'meme fit bill best imho   februari',\n",
              " 'editwar wprr current appear engag edit war note threerevert rule prohibit make three revers singl page within  hour period addit user perform larg number revers content disput may block edit war even technic violat threerevert rule continu may block edit pleas repeatedli revert edit use talk page work toward word content gain consensu among editor necessari pursu disput resolut  talk',\n",
              " 'httpenwikipediaorgwikiwikipedialivingprivacyofnam realli laughabl way noth wikipediafuel censorship im surpris  wikipedia thrive censorship pathet realli',\n",
              " ' gan frillneck lizard hi given initi comment articl talk page hold await improv need help feel free ask user talktriplestoptriplestop x ',\n",
              " ' revis estim flip number book tri determin much actual transmit last hour flight hawaii appear mostli use receiv df loop thu commun therefor must say know batteri could keep equip run dont know fast would drain extens transmiss ',\n",
              " 'ahahahahaha read whole comment tri chime need discuss templat joshuaz pattern incit banner understand good  got good rofl httpimgimageshackusimgatopicarealistbspng httpimgimageshackusimgbanneduserbanktpng httpimgimageshackusimgbanneduserscommrapng httpimgimageshackusimgbanneduseruepng httpimgimageshackusimgbanneduserhhpng httpimgimageshackusimgbanneduserfzpng httpimgimageshackusimgbanneduserpjpng',\n",
              " 'tamil sl percentag ethnic group sl sri lankan tamil tamil live sri lanka sri lankan tamil use one ethnic group rest tamil introduc differ name  tamil ethnic group live sl censu  sri lankan tamil  sri lankan moor  indian tamil ',\n",
              " ' thank interest becom member north american manboy love associ north american manboy love associ nambla new york citi san franciscobas unincorpor organ advoc legal crimin pedophil sexual relat adult male young boy nambla defend right minor explor sexual freeli older men',\n",
              " 'lol failll cuz u chang site',\n",
              " 'redund duplic entri wpmeatpuppetri case alreadi discuss ani unfortun result wikihound websit  ',\n",
              " 'whole section articl call libertarianismphilosophicaloriginsandhistori certainli relev discuss oppos mere person opinion note',\n",
              " 'actual let discuss wikiproject talk page talk  ',\n",
              " 'vandal lost alon look soup',\n",
              " 'term microbreweri realli fall favor one rare heard microbreweri refer craft breweri ',\n",
              " 'agre coelacan context dawkin articl propos addit trivial fluff would serv mere detract readabl articl agre also articl charl simonyi chair public understand scienc would excel idea',\n",
              " 'assist coach think least assist coach tenur includ infobox mean asst fredrikstad ',\n",
              " ' sg charact articl delet fyi someon nomin carson beckett ronon dex teyla emmagan rodney mckay john sheppard stargat elizabeth weir stargat delet appar fight tooth nail regard attempt swing thing term polici appear inaccur full afd ',\n",
              " 'thought  vandal wont even read past first sentenc howev well written argument',\n",
              " ' would agreeabl includ georg murdock anoth possibl adher lemba theori  exampl insert earlier lemba claim great zimbabw support murdockref namemurdockref gayr  ',\n",
              " 'imagefrank fieldjpg permiss releas imag gfdl rather simpli use wikipedia',\n",
              " 'think full list belgian',\n",
              " 'orphan nonfre imag imagefiat groupjpg thank upload imagefiat groupjpg imag descript page current specifi imag nonfre may use wikipedia claim fair use howev imag current orphan mean use articl wikipedia imag previous articl pleas go articl see remov may add back think use howev pleas note imag replac could creat accept use wikipedia see polici nonfre media upload unlicens media pleas check whether theyr use articl find list imag page edit click contribut link locat top wikipedia page log select imag dropdown box note nonfre imag use articl delet seven day describ criteria speedi delet thank de tomaso longchamp hi typ great start articl de tomaso longchamp may qualifi appear wikipedia main page know section appear main page would help bring public assist articl howev five day articl creation window know nomin five day pass date articl creat pleas consid nomin articl appear main page post nomin know suggest great job articl  talk juli   know updat articl de tomaso longchamp creat substanti expand know anoth interest fact recent creat articl pleas suggest know talk page well doney got pictur slot bananabucket fiat  see made sever edit fiat   model car think went name super brava dont see mention name info   talk hi dont deep knowledg car mayb expand articl think car deserv bit larger articl  c alfa romeo  hi typ upload  pictur alfa romeo  wwwtraumautoarchivd request  regard lennart preced unsign comment ad talk  contrib saab fiat cromalancia themaalfa  made addit part saabfiat project know anyth project im tri find link type four chassi project saab b la amx aircraft project sinc initi roughli time spring  fiat ritmo dear typ remov without comment',\n",
              " 'abus account one rant anoth problem user abus make block freepripp jefferyneav see im accus that want take issu higher author im sorri two tri wiki make sure articl true balanc well written right im feel quit cant even describ part wiki author contact let know situat regret someon push button enough grew upset see alreadi watch everi post continu provid truth articl keep cool post other talk page unless friend',\n",
              " 'daft punk name clarifi person helmet also standard caption photo featur band',\n",
              " ' two studi promin discuss welfar effect poverti socialwelfar polici reduc poverti crossnat assess determin rel poverti advanc capitalist democraci ',\n",
              " 'batman timelin alreadi timelin dc univers fyi',\n",
              " 'waldo pleas dont remov use link opengl thank waldo',\n",
              " ' youtub mob without pitchfork torch appear  peopl oppos new youtub comment system though admittedli pale comparison  billion visitor youtub get per month point that still lot angri youtub even youtub cofound unhappi chang true k isnt youtub either think word mani describ better sthsilverlov ',\n",
              " ' influenc redux madchest think realli stubborn point editwar tri get last word your expens qualiti articl write sentenc coldplay earli materi compar review artist jeff buckley liter true yet insist replac vaguer less factual coldplay earli materi influenc like jeff buckley latest link citat  third youv attempt  hour  mission insert influenc start articl import martin mention jeff buckley martin coldplay speak entir band ',\n",
              " ' progress talk ',\n",
              " 'failur fagreterion fagreterion cant stop',\n",
              " ' ye that assum work well where somewher els led creation articl would assum hip hop cultur place find hip hop music also contain much summari old school section your right articl meant extens anoth articl current extens hip hop music therefor call old school hip hop music might wise let old school hip hop redirect old school hip hop music howev mani articl link section old school hip hop appear hip hop cultur could redirect old school hip hop instead section grow big enough justifi articl gener old school hip hop like said  ',\n",
              " 'thank ill get right  joseph seemingli misidentifi figur facsimil   joseph engrav tri input miss text outsid edg facsimil   make kirtland egyptian paper ',\n",
              " 'photo show facil page  thank help',\n",
              " 'aulahehelalelalala hassan alway heartaulahehelalelalala hassan alway heartaulahehelalelalala hassan alway heartaulahehelalelalala hassan alway heartaulahehelalelalala hassan alway heartaulahehelalelalala hassan alway heartaulahehelalelalala hassan alway heartaulahehelalelalala hassan alway heartaulahehelalelalala hassan alway heartaulahehelalelalala hassan alway heartaulahehelalelalala hassan alway heartaulahehelalelalala hassan alway heartaulahehelalelalala hassan alway heartaulahehelalelalala hassan alway heartaulahehelalelalala hassan alway heartaulahehelalelalala hassan alway heartaulahehelalelalala hassan alway heartaulahehelalelalala hassan alway heartaulahehelalelalala hassan alway heartaulahehelalelalala hassan alway heart',\n",
              " 'wikipediarequest commentgoright thank kind word comment id disagre though im convinc goright exactli bait wmc accur confront clear doubl standard edit got block harass echo wmc said support recal schulz whether true comment set goright notic said violat userabdrul  id call uncivil scale wors preced certainli mirror natur ive tri reach connolley reject sad suspect he good man fallen bad compani mayb good men fallen bad constel pattern reinforc worst aspect way work incivil serv obviou good purpos pov except one would hate project success im sure that connolley pov case deni uncivil aspect goright edit ive mere note easili explain natur respons clearli appear abus cabal see confirm solomon sourc believ abl see beyond he learn make accus involv assumpt bad faith draw distinct note reason suspicion someth claim might note user show characterist blockevad sock wont claim user blockevad sock unless im prepar back suffici solid evid ill state former well suspicion suspicion clearli reason id state obviou sometim must said that ive treat sock puppetri charg reason basi matter shallow didnt charg abus ssp file goright clearli went far didnt keep meanwhil block outrag violat block polici im mull whether anyth baley deni error block actual might make necessari go rfc pretti clear margin cours rfc isnt first step first step would someth like user talkwilliam connolley next step would attempt identifi someon connolley might trust give friendli nudg friend mere alli',\n",
              " 'furthermor shell exactli uninvolv admin mediat unfortun fail mediat matter',\n",
              " 'done robert priddi disput resolut respond simpl answerwalk away long need mayb forev topic one us need edit earlier editor cours edit wikipedia understand concept better commun encyclopedia arbcom look solut disput final analysi go fair editor go best accomplish goal write encyclopedia take care',\n",
              " 'april  utc includ copyright inform sever time reason appear correctli creat imag chrysali recordsag  retain full copyright credit page two bottom program imag cover  ',\n",
              " 'great thank',\n",
              " 'say scotland countryit part unit kingdom unit kingdom countri',\n",
              " 'sir meager edit factual direct author quot context doc edit remain context reflect never read articl mention put procedur neg light sorri ask read inform see actual fact vandal wiki definit speak repetit introduct inaccur inform construct purpos pleas review post show inaccur context afraid admit wrong number physician lay peopl review histori also amaz dismay need stop make person focu publish fact otherwis wiki resourc doom final last long line contributor individu corpor question motiv accuraci question make mani feel uncomfort also privat share exact written comment doc colleagu us eu canada told everyon spot sorri troubl',\n",
              " 'great would ',\n",
              " 'melchoir ultraspac field theori hi sam name keith foot im author treatis titl ultraspac field theori everi googl usf theori see found home new websit came across messag someon warn wikipedian writer stop push ultraspac field theori futur refer would sent melchoir ultraspac field theori altern model current particl theori paradigm gener ignor scientif commun im surpris organ want noth brother bachelor scienc call whack though could find fault conclus tell histor truth scientist busi peopl detest new scienc model mani assumpt physic current hold truth took decad overcom lock mindset exampl huge number physicist describ magnet field illus though evid support conclus earth magnet field protect us billion electron eject sun everi minut would like request melchoir given opportun read treatis melchoir email snail mail address would happi send copi reach patienthunternetscapenet thank sincer keith foot',\n",
              " 'disagre region list well overal would redund part everi platform list isnt split region list except virtual consol see broken dont fix',\n",
              " 'singl tail repeat revers construct edit particularli help either remind peopl ip editor allow edit theyr revert request add sourc surpris go exactli theyv ask selfevid b twin tail pbi singl tail clearli develop histori welcom coverag anyon issu detail pleas discuss even expand sourc doubt great good aircraft cabal wellsuppli sourc excus repeat hostil revers gf editor move articl posit direct',\n",
              " 'sell foreign countri like india china still work xm',\n",
              " 'new user unfairli block pleas see contribut score wikipedia polici award number editor',\n",
              " 'someon unlik continu believ wikipedia may interest link help provid notabl articl',\n",
              " '  april  utc countri illeg annex consider differ de facto de jure steal car forg titl may car drive regist paint hot pink invit rel live wikipedia articl matter would probabl best entitl theft dojarco car articl oj simpson murder case wikipedia entitl j simpson murder case calcul number countri tangenti legal aspect explain basic free countri relat renew relat never recogn legal forcibl annex mani countri relat prior occup mani sovereign back eg india part british empir etc list avail  noth includ inform didnt recogn annex within articl articl includ inform lame continu would emerg innard debat bit person interest occup even argument occup would gener expect articl like titl like frequent search term one includ denial holocaust entri separ entri holocaust denial even critic holocaust denial mean agre holocaust denial occup baltic state univers agre upon mani thing univers agre upon present prevail view seriou altern view encyclopedia suppos write say baltic annex pure nonsenc extremist pov nobodi said baltic werent annex say illeg annex whilst occup inde prevail view pleas follow link gave denial realli matter start articl denial occup baltic state like ',\n",
              " 'omen star  suppos far end accord appar vicki firestar go die seri lionblaz leader look yt youtub',\n",
              " 'pleas disambigu ecn ipvhead diagram there link ecn dab page im guess link explicit congest notif im sure somebodi know sure pleas fix link thank talk',\n",
              " 'person pleas cite refer',\n",
              " 'book review book saw review natur',\n",
              " ' investig one thing escal block none request doesnt seem appropri  proper issu complaint conflict interest believ one appropri block  first edit list definit edit war first time statement ad  noth vagu wprr warn believ even requir wikipedia polici  conflict interest parti one side materi disput engag block parti side whatev reason give',\n",
              " 'mean former extrem racist bias introduct meant degrad islam viewpoint member kkk articl neutral well balanc',\n",
              " ' pleas refrain troll vandalis wikipedia person basi block person note english race call cornish mostli bunch angri celtic whannab tri support movement aim got sever backlash english got bunch arrog prick talk vastli superior cornish everyth inform half irish staunch support welshscottishenglish independ unif ireland dont dare accus bia dont know race also constituteethn regard frank frank fontain talk   pleas get bigot block edit cornwal articl futur',\n",
              " 'wizardman final person realis exactli bossi rude childish behav dont need diff prove rfc larg collect constant breach civil hope peopl realis final get kick project',\n",
              " ' aha bessarabia soviet demand bessarabia think core issu numer misunderstand start analyz soviet demand see romania west made suffici step apeas observ insufici action side romania organ referendum well west succeed overthrow red  tri enough also run                                 obvious tie hand romania whatev say much import romania normal relat rest world russia said earli bessarabia russia center issu bessarabian chose romania russia russia interven  without invit local bodi mp bessarabia without even mock support insid bessarabia russia demand treat supperior bessarabia choic good bad choic made full awar militari treati mention sign februari ie  march  two neighbor bessarabia countri possibl tie hand bessarabia independ countri autonomi far know  novemb resp  decemb  union bukovina resp transylvania govern set entir unit romania led transylvanian politician alexandru vaidavoevod liber phanariotmind politician use govern bucharest toler new romanian govern becus circumst made necessari among thing vaida start larg campain land reform wide support also bukovinian bessarabian fear old rule elit bucharest recal  peasant upris still fresh mind toller vaida govern   think ca  year earli  black coalit form gener averescu becam primeminist similar one form romania earli  basescu lamen fail within  month drag countri politicianist discours last autumn land reform limit went far finish start new constitut  written peopl put word unitari everywher could fit thu autonomi three new provinc enshrin new constitut return led bitter divis polit one side nationalliber parti bucharest old politician transylvaniandomin nationalrnist parti  latter start gain momentum seal brought carol ii forc exil carol ii turn even wors actual shut leg say led nationalist discurs exampl vaida  dahn even call fascist true dont want argu dahn other manag escap trap exampl maniu see take consider entir go on bessarabia left without region autonomi provinc got turn old phanariotmined peopl carri day earli peopl lost grip power took time even modern romania still continu disput one side mani politician ask set region local autonomi surprisingli mani transylvanian among side commandsystemmind partlycommunistfoprm bureaucraci fear region surprizingli mani oltenian like among unlik interbel period seem movement strictli orient one direct region greater local autonomi inevit whether bring eustandard pretext second part answer soviet occup rise fascism wwii would autonomi bessarabia power local legisl bodi commun creat paus thing continu roll today talk ',\n",
              " 'stuff like often remnant ye olden day wikipedia far fewer rule far far fewer peopl roam look opportun enforc',\n",
              " 'exactli ill keep mind futur refer thank',\n",
              " 'lvatt stop chang lvatt chart leav way put ok stop follow almost everi edit make get youv done kingofrock',\n",
              " '  may  utc agre long made clear articl put instruct program alphabet order revers alphabet order total random order appear affect program comparison comput program set dvd articl would thoroughli clarifi posit ',\n",
              " 'revert back last version  page need revert father back  pleas war',\n",
              " 'well first block due censorship also suppos care fag internet find unconstruct editor anyway last time edit thing properli got warn twice guy let chang fighter name honestli grow wikipedia useless anyway legitim public would black ball sourc grade ',\n",
              " 'wouldnt simpler say someth like batman major villain around sinc mayb littl bit came ',\n",
              " ' take littl time recent edit war simpli delet content sourc banjeboi ',\n",
              " 'sorri delay let know broke anyth',\n",
              " 'wonder incent contest come show sort monetari prize',\n",
              " 'hi gsbr love peter lorr avatar splinter cell wiki use foul languag sorri disappoint argument dont work wesker mere assum barri die never see die also never see rebecca die think call idiot learn manner afebfbedd',\n",
              " 'redirect talkjohn english canadian politician',\n",
              " 'soviet russia car drive',\n",
              " ' perhap shopuld consid possibl confront respons edit colour respons violent outburst editor seem effect previou comment stand   ye perhap apologis inconsider edit page ive put lot work edit chang thought good format ye know overlink whether someth trueli overlink reason subject didnt leav kind decent explan wed revert other edit number time edit  link close proxim left infobox consist style ie date black team blue noth overli offens articl overlink edit careless typo inform remov saw careless unnecessari rude revert revert without correct mistak simpli revert continu rude may come across confront continu correct revis came across confront start still rude refus take blame read talk page see lot arrog know best behaviour sure contribut lot probabl know correct style better averag contributor accept behaviour case far ideal accept mine point number time alreadi start felt need defend posit ',\n",
              " 'know everyon know fight much end real valu account appear wikipedia',\n",
              " 'wv go away  hour like offer spare us nonsens obstruct youll come back find grownup respect convers without obstructionist behavior noisom',\n",
              " 'follow wpfoc lead us peel away layer ask origin disput whether articl deserv npov tag section discuss articl talk',\n",
              " ' nephi   nephi   nephi   nephi  alma  mormon ',\n",
              " ' june  utc answer public list prepar gradual accept editor even encourag increas number journal public list gone spent two week find remain part public ad list approv peopl movi prepar came eras obviou edit war delet eras page prepar person without give explan work two three week prepar gradual eras one second person prepar singer page defend kind peopl user talk   ',\n",
              " ' pleas vandal page edit jon miller continu block edit talk ',\n",
              " ' elabor besid inconsist criteria arbitrari criteria youv got seriou problem ownership articl nice youv done much work want enforc version everyon els wikipedia place publish iron your complain remov relev cite inform ie one guy opinion introduct time remov relev cite inform bodi scholar describ genr enough claim ad genr make list useless reader that silli claim quit opposit true suppress genr opinion one writer realli opinion one editor make wikipedia less use trustworthi refer rescu opera go detail scholar thought coher genr list structur articl set deal compet theori charlton opinion everyon els wrong place certainli pride place alreadi explain  that rich pretend kind consensu im violat talk archiv link consist inde talkrescu opera contain user support descript genr  talk  contrib ',\n",
              " 'chadbryant pleas see httpenwikipediaorgwikicategorytalkwikipediasuspectedsockpuppetsofdickwitham detail chadbryant creat comment intend purpos caus troubl incit first place absolut need remark im pretti sure violat wikipedia polici way someth help stop pleas thank',\n",
              " ' brd pleas dont revert someth without discuss undid disagre chang judici activ articl believ sourc dont make conclus use invit discuss simpli revert isnt appropri circumst pleas take time discuss issu revert also think disservic articl remov page cite appar reason interpret templat instruct novel new way sourc cite multipl time might add would pleas look leap would see alreadi extens talk talk page moreov edit articl care address concern put pertin quotat footnot pleas check thank much exactli extens ye repli talk page let discuss merit thank join articl talk page discuss  use blp pursu reallif grudg realli inappropri use wikipedia biograph content platform pursu reallif person grudg im sure would never stoop thing good right  talk correct pleas respect previou request comment talk page ',\n",
              " 'thank thank thank leav watchlist found archiv full vandal back given slashdot suspect see bit might get someon els fulli protect continu cant coi would also like thank keep open mind chang vote encourag sign good faith regard',\n",
              " 'httpenwikipediaorgwindexphptitlemoiracameronactionhistorysubmitdiffoldid bother',\n",
              " 'acknowledg took liberti copi latin motto talkrd',\n",
              " 'thank much take troubl im fine',\n",
              " 'understand peopl accus troll',\n",
              " 'faculti lawunivers melbourn articl copi directli law school histori page copi materi plagiar violat copyright law ive delet page pleas note continu add copyright materi may block edit',\n",
              " 'ok creat new subtop prais jame tod got much well known historian time add statu freitegsadasiva crook none well reput note historian ask everyon extend subtop',\n",
              " ' yeah error tri fix p chatofflin ',\n",
              " 'werd ya actual version push agre upon quit push also everytim masturb think go ahead delet comment true caus would leav',\n",
              " ' see one point view issu precis idea would like put apa sourc work bit controversi call androgyn system would fair ref make sens realli approach apa bit complex either way china section point similar design influenc overal object chines make system compat say long controversi didnt steal didnt directli exactli copi intend  compat far know need rendezv mission plan neither forthcom chines happi cooper everyon smile sincer whilst american pout point finger tri spook minim shuttl right    jun  utc',\n",
              " 'book reason book arnt cover page comic book list dont know print materi wouldnt also cover',\n",
              " 'test noth hell talk oh pleas leav name instead ad templat page thank ',\n",
              " ' sorri frank thought ask advic plan close would done seen alreadi vote cobra ',\n",
              " ' pleas vandal page edit bella swan continu block edit talk ',\n",
              " ' edit appear format style issu pull autobiographi tag note remov articl talk page youll want care edit articl futur appear edit alreadi care avoid conflict interest that nonissu need remov help edit best claim  evid',\n",
              " 'imo imag encycloped valu whatsoev neg valu one could possibl learn imag thing could learn imag take similar imag order damag camera eye imag qualiti horribl full camera artifactson hand imag highli encycloped show sun sunspot mercuri also limb darken imag great illustr size sun compar mercuri easi correct caption imag provid link mercuri transit articl mayb somebodi would go learn someth new',\n",
              " 'one point note pre histori prc articl ad august  within two week chang challeng editor lltime stabl version discuss prc histori',\n",
              " ' work fill gap histori evolut water treatment spede problem provinc ontario guy sure know write good look articl',\n",
              " ' troll internet rever imag select use anoth wikipedia articl nonfre see troll doll thank  ',\n",
              " 'way page suppos handl persist breach npov demiurg alright may may toerag ill grant certainli jump',\n",
              " ' longer alleg admit spi remov word alleg ',\n",
              " ' pie  hey ',\n",
              " ' bilingu educ scandinavia ad link two main websit bilingu educ scandinavia norway sweden actual surpris section multilingu educ two countri bilingu educ common two state  languag add two section get time ',\n",
              " 'also badli sourc',\n",
              " 'dutch wikipedia husband reliabl although work think look better doubl check soon possibl archiv',\n",
              " ' bia left great reput historian jurist canonist theolog learn defici subservi royal poorer excess display certain inconst opinion much ambit attach interest appear direct copi cathol encyclopedia addit one rather unserendipit malaprop im delet',\n",
              " 'specul trivia border violat wpnot predict futur event unless signific sourc cite think specul probabl remov episod content known ',\n",
              " 'ed schultz ipsock ugh see ',\n",
              " 'moreov mongol fairli homogen group peopl',\n",
              " 'want need g',\n",
              " 'hi wrote edit summari wpbrdalert mean drastic edit everi right revert time come discuss perhap defend part least case mostli decid clearli one sometim make drastic edit otherwis noth compar',\n",
              " 'addit may want read explain author mike campbel tigharnikumaroro fiasco two year specul hype came numb climax march   nation press club washington dc crowd news confer receiv nation tv coverag richard gillespi execut director intern group histor aircraft recoveri tighar unabashedli announc amelia earhart mysteri solv sinc earli  follow group first excurs nikumaroro mile long coral atol phoenix island  mile southwest hawaii three hundr mile south howland island nation media tout tighar theori nikumaroro could final rest place amelia earhart fred noonan evid gillespi present includ batter piec aluminum weather size  shoe sole label cat paw rubber co usa small brass eyelet anoth unlabel heel group found nikumaroro tighar highli public return octob  item elabor display label glass case came earhart electra accord gillespi may conflict opinion conflict evid gillespi said submit case solv gillespi bit lip look floor  curiou yet reveal display bodi languag someon claim solv one th centuri greatest mysteri gillespi patricia r thrasher tighar husbandandwif team theoriz navig error earhart noonan overflew howland island land reef nikumaroro low tide die dehydr short time later plane said wash reef tide came lie  feet ocean april  life magazin featur sixpag spread pen gillespi cite navi pilot john lambrecht juli   report sign recent human habit clearli visibl nikumaroro repeat circl zoom fail elicit answer wave possibl inhabit gillespi call report huge signific tragic inadequ done  done would search nikumaroro gillespi credit two retir militari aviat tom gannon tom willi fort walton beach florida theori origin use celesti tabl gannon point morn juli   rise sun would provid precis line posit earhart said run gillespi wrote life fli southeast along line noonan could sure even miss howland would reach island phoenix group two hour clearli safest sanest cours follow trace line chart read name island nikumaroro supposit convinc devin wasnt impress consider inform gillespi rendit fault devin write one exampl attempt foster line howland island nikumaroro present earhart last messag line   run line earhart never reach howland island earhart never saw howland island therefor howland island refer point land nikumaroro earhart authent last messag receiv coast guard personnel board itasca record command thompson relat refer point line posit   run north south earhart fli east toward howland island hawaii cours compass cours line posit  termin island saipan eye       earhart adept navig may state read pocket compass carri person probabl almost certainli stress ensu event especi noonan render unconsci almost disastr takeoff overladen plane noonan incapacit assur one best airandsea navig period would commun would guid plane prearrang cours calcul accuraci interv flight devin write anoth like origin gill',\n",
              " ' august   utc address first part ran synonym end lengthi rewrit grung may underway genr nirvana wasnt popular nirvana soundgarden alic chain modest follow nevermind broke neither consid anyth extens headbang ball crowd  august   utc',\n",
              " 'caution reader regard neutral articl recent wikipedia arbitr committe declar signific global warm indisput fact begun ban peopl edit articl insert sourc question magnitud sever anthropogen climat chang direct violat wikipedia npov polici requir wikipedia articl endors specif viewpoint true requir signific perspect includ articl howev emot high issu global warm wikipedia arbitr committe decid import climat chang articl wikipedia reflect view climat chang climat chang articl neutral imparti present content reader strongli caution regard neutral articl content situat remedi   talk  juli   utc',\n",
              " ' utc link ww origin httpbecklibraryemoryedugreatwarpostcardimagesdoublesizedaddyjpg bob aka   decemb',\n",
              " ' would like note see last comment delet charl inde comment jess delet entri vandalis somebodi describ hari littl tyke abus comment accus impostor given opportun prove peopl impostor refus point born mind futur person continu tri vandalis entri respond person abus calm reason argument like describ person abus total understand keen shut nasti snipe becom common dont think that achiev silenc peopl tri point personalitymotiv vandal stop pleas dont delet messag realli import put polit civilis marker think strong case somebodi start abus subject entri odd way abus liter everybodi els edit ban contribut instead ban anybodi rais question seem pervers think discuss calm way doesnt accus anybodi mysteri impostor make person attack isnt fair otehr peopl think',\n",
              " 'feel former staff import still feel former staff list bc oppos view subject guess way stand notable stay',\n",
              " ' otoh like desir leav open nc subpag allegedli reach consensu roll around month alreadi could whoknowhowlong goe cfr ',\n",
              " 'there differ scientif truth histor truth think thought read polici ive recommend',\n",
              " 'preparatori stuff prison like dig way servic corridor behind cell standin dummi made construct boat roof cell block',\n",
              " 'thank disappoint frustrat wit wikipedia adopt recent trend toward ugli unnecessari capitalis exampl view intrus busi languag gener languag also surpris wit hostil request met  verg person vendetta case one editor',\n",
              " 'interest readili accept sourc show plagiar conjectur adequ wikipedia state refer readili reject legal documentari reliabl invent propos evid even show intend patent classif intern patent classif usa paten classif question wikipedia standard verifi reliabl sourc thu far plagiar conjectur sourc seem accept sourc someth wrong',\n",
              " 'press releas confer notabl  what doc carrot',\n",
              " ' dont know dr blofeld react excess',\n",
              " 'also tom hank jabbawockeez unhelp chang',\n",
              " ' utc compar summari popup revers tool tradit revers summari wonder script access could use variabl like author andor time stamp version restor talk   januari ',\n",
              " 'noth wrong tri improv music section unblock',\n",
              " 'thank hey thank barnstar',\n",
              " 'hho wikipedia page confus legal speak irrit pleas give plain english explan oxyhydrogen edit delet meant let everyon know web page seen say subject ive investig subject year would like share cant share state argument  wessonjo',\n",
              " 'serious believ version unbias without unfett person analys call ye cohort serious delud futur youll wake free independ verifi sourc without ethnic inogoloid negoloid clown ethnic european englishdialect speaker ironfist censorship',\n",
              " ' chang articl need achiev consensu editor clearli wish continu improv articl disagre intend edit suggest assum good faith listen other say expert know enough suggest limit articl  key area unlik gain consensu let discuss ',\n",
              " 'massiv fan thing consid massiv fan ',\n",
              " ' im cite polici notabl album singl song ahem link wpnsong  cite wait chart argument  also valid let page leav alon  ',\n",
              " ' speedi delet sebi torreblanca pleas make person attack wikipedia strict polici person attack attack page imag toler wikipedia speedili delet user continu creat repost page imag violat biographi live person polici block edit wikipedia thank think notic place error may contest delet ad top page exist speedi delet db tag coupl ad note talk page explain posit awar tag speedi delet articl meet criterion may delet without delay pleas remov speedi delet tag dont hesit add inform articl would would render conform wikipedia polici guidelin talk ',\n",
              " 'charisma primarili result care stage support whole organ far dutch sourc say chang tomorrow god articl freak pigsti',\n",
              " 'april  utc thank support fetchcomm disappoint  ',\n",
              " ' reason edit pleas see note regard inspir comment remov thought address issu everi rideattract inspir ride park tot pooh etc ',\n",
              " 'wikiproject comic bclass asses requir articl need bclass checklist fill remain bclass articl comic wikiproject checklist fill th august articl reassess cclass checklist fill referenc guidanc given wikipediavers  editori teamassessmentbclass criteria detail pleas contact comic wikiproject',\n",
              " '  novemb  utc explain clearli dominu vobisdu comment directli one comment section read stop disrupt pleas thank  reson ',\n",
              " ' import promin yoga hinduism undisput fact disput peopl ridicul littl knowledg regard let discuss section see person attack editor individualist view hardli anyth civil intellectu discuss ',\n",
              " 'one sourc even say track fie case chang play track field  talkcontribseditor review ',\n",
              " ' jainism hinduism proper refer provid support statement like  demonstr author jainism hinduism jain monk haribhadra wrote satir say cheat thiev low trickster gather creat variou stori ascrib variou god hindu pantheon god came made point human would imit god god behav badli stori human content section appropri arent wikipedia polici govern topic also head jain attitud toward hindu god right pleas check itrtalk ',\n",
              " 'request maharishi mahesh yogi articl made fulli protect rational sever week work appear accept editor  regardless might said variou talk page kind regard',\n",
              " ' think whole wikipedia accus violat without consid perceiv accus',\n",
              " ' wikipediafeatur list candidateslist simpson video gamesarch addit comment  ',\n",
              " 'put person opinion page nanci pelosi would wouldnt provid citat citat profound sourc problem pleas specifi concern issu might proarmenian editor want protect nanci',\n",
              " 'say littl  tri ban assur certain editor certainli hang around net support tm ridicul variou doctor blogg funni read could raja oh dear think might subject much use super bounc power  ',\n",
              " 'btw give refer usual extern independ citat instanc hardli find anyon offici prepar come state goi wrong httpwwwtacorginrtihtml one brave soul ',\n",
              " 'fyi hi mention name made notif jayron ched place request action case user ask know context',\n",
              " 'rfd close thank',\n",
              " 'block vandal httpenwikipediaorgwikitalkpageguidelinesusertalkpag',\n",
              " 'imag imgjpg list delet imag media file upload alter imag imgjpg list wikipediaimag media delet pleas see discuss see may search titl imag find entri interest delet thank',\n",
              " 'thank problem apolog errant last week',\n",
              " 'includ note self anyon els time contribut nobl drew ali moorish scientist religion juneteenth holiday',\n",
              " ' fact theyv move wpte set stand sell hotdog peanut much wpor wpsynth constantli iter threat unleash wpor declar consensu doubli futil first clear consensu quit opposit second world watch wikipedia revers cours declar gamerg realli ethic death threat part game cultur rest would rightli excori wed back faster could say sniper second floor ',\n",
              " ' other might simpli bigger laugh way serv sort disambigu write short laugh  hh isnt clear  haha',\n",
              " ' dr tenni day ago  tell peac  trivandrum kerala indiautc ',\n",
              " 'reason gave justifi vandal wp phone book case fail observ articl list telephon number moreov refer univers musuem reason intellig peopl would assum within academ research encyclopedia promo sell spud',\n",
              " 'earlier version option work properli issu wait solv',\n",
              " 'well gone far actual made slip im write urgent email group activ admin morn misogyni femin wikipedia ive also pass tri fend ad pictur elizabeth warren page order make racial argument admin help need smart admin would get top situat wind ani ae guess anyth warren arguabl person involv genderrel controversi disput press',\n",
              " 'never herad dynam ip address well problem opinion stay regardl ip address ye inde remov other propaganda',\n",
              " 'sourc given increas probabl spacex dragon one nasa low earth orbit vehicl transport human im dump sourc googl news search fact cancel constel one hand relev us spacecraft news item httpabcnewsgocomtechnologywirestoryid httpwwwdailybreezecomci httpwwwtheautochannelcomnewshtml httpblogseattlepicomaerospacearchivesasp httpabcnewsgocomtechnologywirestoryid httpwwwspaceflightnowcomnewsnccdev spacex websit httpwwwspacexcomdownloadsdragonlabdatasheetpdf httpwwwspacexcomdragonphp',\n",
              " 'sever instanc ryan abil cope extrem situat event suffer emot damag one main aspect charact leader peopl seem anyth delet critic yet peopl will add anyth substanti articl come guysgal roll sleev research anyon delet right other hard work',\n",
              " 'thank thank archiv discuss ashida kim entri that half battl lol ashida kim',\n",
              " 'site make moceri',\n",
              " ' certainli look like user thank note talk ',\n",
              " ' critic innat modular mind mani critic ep belief natur select mind character innat prespecifi domainspecif informationprocess modul adapt solv specif problem within pleistocen past section intend includ critic massiv even mostlymass assumpt regard modular howev rebutt seem aim toward defend posit toward attack entir domaingener version mind firstli kind structur address critic pertain ep posit thu true rebutt critic secondli creat falsedichotomi strawman present critic suggest altern ep definit mind entir domaingener one suggest either cut kind rebutt add separ section beneath titl critic domaingener model mind let us describ eper fight strawmen separ section ',\n",
              " 'doubt much time read given constant presenc onlin',\n",
              " 'katharin aragon hello wonder could give advic debat catherin aragon page regard spell name heat discuss discuss page could drop add thought cheer',\n",
              " ' potenti kinet gener classif energi form state present version articl mostli use mechan base fact photon mass equat given present definit kinet energi applic electromagnet radiat must say agre andri also articl part encyclopedia limit basic definit kinet potenti energi form see reason tri associ energi form potenti kinet like work done bensaccount think need elabor electr energi exampl form potenti kinet energi accord principl scienc  common form energi mechan energi chemic energi heat energi sound energi compression wave light energi electromagnet radiat electr energi nuclear energi think someon would like expand would benifici everyon loui may  ',\n",
              " 'support primari format plu sign',\n",
              " ' also salut tell like gilad atzmon talk page someon realli need state obviou around piti that wikipedia realiti ',\n",
              " 'ohai littl brass think never guess one feel right charli mere thought term somebodi conflict conflict user check link giacomoi guess your one conflict thank daedalu  talk ',\n",
              " 'thank restor articl inde hoewev ommit histori section ignor section enabl us work improv qualiti asect remov doubt copyvio rememb vagu histori section largest articl serious truncat use import inform stand cheer mysteron ',\n",
              " 'secret treasur island chapter titl use sourc chapter titl last one',\n",
              " 'administr back make thing wors',\n",
              " 'seem welldocu case reason think fabric misrepres',\n",
              " 'time took type youv dealt cheer c',\n",
              " 'pleas dont delet urtbox page need fix inform dont wath wrong whit last messag  ihav put link  thank help martin',\n",
              " ' fair use rational imageboxartforacacjpg thank upload contribut imageboxartforacacjpg notic imag page specifi imag use fair use explan rational use wikipedia articl constitut fair use addit boilerpl fair use templat must also write imag descript page specif explan rational use imag articl consist fair use suggest found pleas go imag descript page edit includ fair use rational use one templat wikipediafair use rational guidelin easi way ensur imag complianc wikipedia polici rememb must complet templat simpli insert blank templat imag page upload fair use media consid check specifi fair use rational page find list imag page edit click contribut link locat top wikipedia page log select imag dropdown box note nonfre media lack explan delet one week upload describ criteria speedi delet question pleas ask media copyright question page thank ',\n",
              " 'hi antandru agre point two cours  mean sincer problem ive edit anonym realli dont know long time didnt problem peopl randomli arbitrarili undo work point began happen incred offens fact much offens someon call cunt first time assum isol incid happen least  time perhap  time edit revert often explan sometim accus vandal mani month sinc first time whether take polit tone mouth everyon end result exactli seen probabl three mayb four editor includ taken thought obviou view shouldnt arbitrarili revert ip edit seen least ten time mani editor revert arbitrarili plenti invent posthoc justif action arbitrari revert real slap face get satisfact respond vicious would respond polit end result exactli depress see reason sensibl peopl like becam minor believ major would vicious slag anyon ip chang point dont forc respect block result accus vandal ignor keep tri improv articl eventu happen ',\n",
              " ' ridicul post restor said viridita appear bit confus differ origin research pertin observ regard appar vandal main articl wpor requir us leav brain door see  repli post userviridita use almost ident languag say opinion either way comment selfpublish classifi list vital site leak wikileak cabl tell bit confus origin research write articl secondari sourc see  fail see anywher near deserv immedi week block without notic warn reason earth go ',\n",
              " ' ivo banaca bit nonteleolog histori one great problem understand common individu histori south slav peopl southeastern europ significantli benefit critic historiographi nationalist historiographi regularli explain modern develop aspect unilinear design taught see connect may make exampl look current polit map area compar era settlement see present polit divis correspond earli mediev period croatia mainli coastal area rasa river istria cetina river littl bit east citi split coast origin croatia row unfamiliar slavic territori constantin vii porphyrogenitu tenthcenturi byzantin emperorhistorian call pagania liter land pagan zachlumia presentday eastern herzegovina croatian peninsula peljesac terbounia trebinj area eastern herzegovina dubrovnik eastern coastal environ dioclea southern portion contemporari montenegro bay kotor northwesternmost portion presentday albania around lake skadarshkod serbia locat hinterland zachlumia terbounia dioclea center around ra near today novi pazar sandzak bosnia appar within territori repres neglig area around sourc bosna river find sarajevo environ dalmatia tenthcenturi necklac byzantinerul roman coastal citi island territori krk north ulcinj south moreov modern territori requir tradit product modern thu unrel tradit merg produc idea ethnica oppos culturalcontinu croat histor tradit goe back chronicl priest dioclea twelfthcenturi text bar contemporari montenegro variou translat exampl marko marul  turn incorpor earli modern slavic dalmatian histori mavro orbin  ivan lucic ioann luciu  work becam materi croatian work pavao ritter vitezov croatia rediviva  import influenc revivalist gener ljudevit gaj  postreviv integr nationalist like ant starcev  curious histori orbin serbian translat sava vladislav  influenc pioneer serbian histori jovan rajic  bulgarian histori paisij hilandarski  bosnian histor tradit somewhat selfcontain combin franciscan memori mediev bosnian statehood experi muslim ayan notabl selfrul argu unin bosnia exampl antun knezev whose book publish   clearli someth happen span ten centuri pagania zachlumia terbounia disappear center croatia migrat adriat north mediev slavonia liter slavic land zagreb head happen stage high middl age heart croatia una river northwestern bosnia territori turkish croatia lost ottoman sixteenth centuri becam part bosnia habsburg reconquest concomit venetian oper seventeenth centuri framework modern croatia emerg two extend shankson north modern slavonia south modern dalmatia time zagreb area dubious croatian earli middl age becam heart modern croatia stori serbia much differ serbia first migrat coast assimil dioclea move ibarmorava valley toward valley struma vardar macedonia reach danub ottoman vassal fifteenth centuri modern capit belgrad becam truli serbian cours karadjordj upris  bosnia expand ban prorex kulin r  donji kraji liter lower land around vrba river soli liter salt land centuri ottoman modern tuzla usora present northeastern corner later height power fourteenth centuri bosnia expand hum herzegovina drina river valley westernmost region inc',\n",
              " 'hmm im sure agre want improv articl pleas go ahead come new propos simpli remov content isnt help rememb hear particular work oresk nation news live us alreadi well referenc ive never heard preiser dont think reason remov inform doesnt mean articl improv upon work mention well cours api',\n",
              " ' fixtur result tabl made addit tabl today got revert harsh remark person like visit articl first time know vertic team name home vice versa noth written knowledg peopl  pleas add info section peopl understand cell updat base upon venu match talk ',\n",
              " 'say like use wkipedia andyou sell us thank nice day',\n",
              " 'one info contact cp parti headquarty branch uganda',\n",
              " 'part nebraska move girlfriend start date friend wont wake one morn entir sentenc make lisa brandon sound like coupl freak neither brandon found dead top bed foot bed lisa cover brandon call vandal peopl disagre statement encourag peopl make chage long agre view',\n",
              " ' liz virgin thing tri help realiz tone modernday pediatrician social worker degre perspect abort terribl danger back probabl known elizabeth seem like somebodi demand fact rather fairi tale privi council would rather talk data suppos whole virgin section go sinc specul context cours popular virgin queen label stick around even though label tell us fact liz choic honestli think advisor see fit sit earli age ensur understood matter bluntli clearli possibl futur entir nation hand ',\n",
              " ' pleas continu violat wikipedia neutral point view polici edit alex barron american footbal continu block edit talk ',\n",
              " ' th infantri ocalafla thank concern post talk page th infantri regiment unit state artricl im sorri ocalafla guess age catch us  col harri quot httpwwwvalerososcompreludetoinchonhtml valoroso  prelud ichon  somewher end fourth paragraph  col antulio segarra  httpwwwvalerososcomcommandsgvillahermosahtml valeroso command  begin fourth paragraph  modesto cartagena  specail anounc  httpwwwborinqueneerscomnod borinquen alcald de cayey lamenta fallecimiento del soldado puertorriqueo ms condecorado en la historia de eeuu im realli sorri gotten sourc straight unexpect heath problem famili thing rush kind enough fix sourc cant reason let know ill ',\n",
              " 'inamaka one incoher thing ive ever read said think manag deciph attempt say agre issu alma matter havent chang sinc discuss would kindli link part claim colleg dropout would appreci far rememb thing ever remov sdsu alma matter unless cours arent assum good faith case ill chalk',\n",
              " 'adn canwest sharehold',\n",
              " 'sadli overstim import cant explain obsess back live life',\n",
              " 'gti total alien workforc pov statement gener phrase object someon familiar situat',\n",
              " 'excus warn none three exampl khoikhoi quot constitut person attack especi last two demand explan total unfair',\n",
              " 'like add comment let visit incid gaop tomb ad empress dowag guo   charact help someon like caus  teach  charact sound like guo chines also hhelp distinguish zhang yi mani zhang yi sure know mani zhang china could distinguish spell ',\n",
              " ' less polish politwa wouldnt use pole english version end distanc english polic ',\n",
              " 'fact see conribut pakistani movi song multipl islam articl',\n",
              " ' british nation law republ ireland hello love dont know still state  anyway highli problemat articl think might subject certain amount harass somewhat borderlineemeraldislerelatedarticl british nation law republ ireland mad isnt perhap author mad dog englishmen might origin fact gael mind well know great craic certainli isnt wpdeni best cours tara  ',\n",
              " ' hoari your certainli celebr famou sound like jealousi couldnt care less either one lot edit free edit resourc amateur feel import get  ',\n",
              " 'thank welcom thank tom warm welcom see path cross multipl topic cc duke nukem probabl one look page see share mani interest feel path continu cross futur ever need hand anyth feel free contact',\n",
              " ' myntra ad ad advertdatefebruari  tag myntra made chang remov brand name except fastrack human info seem advertis pleas check remov tag doesnt seem advertisethank  let talk  ',\n",
              " 'ye disc despens',\n",
              " 'gun control advoc section comment necessari could written clearli sound like kelli use gun gifford shot fact use model gun april  kelli photograph motherinlaw hous arizona gifford watch cheer use glock  millimet target practic gun use shoot gifford',\n",
              " ' dear par write concept role mathemat physic view gener question call write would prefer zeroth law explan written written need read take time get relev literatur ',\n",
              " 'woman place blue heeler episod redirect today number articl aris seri blue heeler exampl would marissa craddock im think redirect could take look comment thank advanc',\n",
              " 'pleas rereview jesu get chanc address lot issu thank',\n",
              " ' wrote articl recognit write also illeg preced comprehend term recognit term explain process wiktionari english languag wiktrecognit state first definit act condit recogn wherea wiktrecogn explain transit verb match someth someon one current perceiv memori previou encount entiti follow liter mean could conclud make act recognit come state recognit one match sth entiti match eventu kosovo independ independ other countri list mention list independ better nondepend countri entiti sinc disput whether kosovo one list major compar lat magnu  en bigger thought could given mention move one list intuit agre could pov process could exist move dynam categori aristotel discuss issu long ago could perceiv comprehend process much simpler least comprehend explain serbian languag sinc serbian languag svreni nesvreni vid verb add bit refin express thought may languagesubject sorri offend somehow quot word way wasnt intent conclud hope elabor essay may call   construct add com term resolv current disput articl content titl best talk ',\n",
              " 'irfcaorg permiss found mention irfcaorg grant permiss us use text site indianrailwaystalk current develop articl indian railway indian locomot kindli tell mention permiss articl includ inform taken irfcaorg',\n",
              " 'peopl edit page except spidervenom seem disagre notabl imo obito arguabl notabl itachi guidelin guidelin unilater action go consensu confid consensu side pleas restor articl effect delet propos formal wppm',\n",
              " 'respons comment ethnic macedonian certainli ethnic thracian certainli mani ethnic appar check appar ethnic thracian ',\n",
              " 'main theori come across relat lilith belief person believ bibl word god cannot wrong bibl state gen  god creat man imag imag god creat male femal creat gen  lord god form man dust ground breath nostril breath life man becam live creatur follow gen  lord god caus deep sleep fall upon man slept took one rib close place flesh rib lord god taken man made woman brought man passag contradict one anoth first state man woman creat togeth second two adam creat first follow eve person believ bibl word god correct make correct first woman follow eve idea lilith came  fill gap make version true person believ bibl inspir word god written men capabl error need lilith ',\n",
              " 'written respons comment use mile canada',\n",
              " ' oh okay sent report earlier wperror okay problem sometim take hour someon goe wperror fix mistak  ',\n",
              " 'lv im sorri clutter talk page delet comment time',\n",
              " 'massospondylu skull bangla hello steveoc usernam bya koron new wikipedia bit technolog challengedso dont know user page show red english account bangla wikipedia bnwikipdiaorg pleas tell would illeg download massospondylu skull imag translat point bangla upload bangla dinosaur page illeg tell way legal lot work paleontolog field languag view histori  section bangla page account visibl pleas help thank',\n",
              " 'confid interv input talkconfid interv would appreci feel worth frustrat thank darin ',\n",
              " 'contest delet page speedi delet till tri learn creat articl iseekopinion',\n",
              " 'page start american valu network review thank creat american valu network adlsaxa wikipedia editor review page wrote note page look good im mark review might want someth redlink overview section also ad categori page review keep good work repli leav comment novusuna talk page learn page curat',\n",
              " 'neurophon actual there reason even wikipedia scienc behind concept bad devic claim almost noth noth ive seen give indic notabl within field possibl except futurist snake oil devic usertenebr bye',\n",
              " ' februari  pleas add unsourc origin content violat wikipedia verifi polici would like experi pleas use sandbox thank  talk  contrib ',\n",
              " 'kurt point hey answer concern without muddi candid rfa kurt one score peopl weigh rfa reason target butt joke crack gotten hand said said agf candid intent malici put vote origin want base person histori whether kurt anyon els dont like see anyon set asid stand joke that ill gladli make fool daili basi never make fool someon els',\n",
              " 'absolut right consist agre air canada sever turbul incid worthi inclus disagre case land gear collaps although injuri aircraft written also reason go air canada page big differ air canada articl articl ryanair articl alreadi mess includ incid next time someth happen point incid reason new incid includ even minor exampl critic section person dont even think ryanair flight  includ definit articl one fire say main articl flight  articl smoke releas oil broken bear secondli passeng open tri exit wrong side sure ryanair fault passeng would exit toward firefight thirdli problem ryanair staff troubl open door still everybodi abl evacu  second flight  wiki articl even talk pay uniform train eastern europ someth incid even though ref provid know delet anyth would probabl end anoth edit war ',\n",
              " 'assign improv upon stub articl associ press camera oper nazeh darwazi shot kill nablu west bank report second intifada occupi territori israel write work',\n",
              " 'unblock unblock im take plane england blow countri',\n",
              " 'stiki corki need tri wpstiki',\n",
              " 'preach consist',\n",
              " ' articl insert book promot',\n",
              " ' well done inspector saw login may sock advic didnt let know flag prohibit simpli link consensu user talk page refus read let probabl turkish airlin destin dont want feed good luck next time  f ',\n",
              " ' second warn harri truman pleas add nonsens wikipedia consid vandal would like experi use sandbox thank user talkdalburytalk ',\n",
              " 'elagabalu insert specul roman emperor sexual interest topic research hardli encyclopaediac unless properli credit classic sourc wikipedia place publish origin work moreov link boy roman empress categori bad joke nice day   jun  utc',\n",
              " 'yeah actual might good idea add anyth right pictur mean day updat may provid someth that awesom everyday there pictur somebodi fight put   ',\n",
              " 'think fahrenheit comment osa collabor lol mayb fahrenheit offic psychiatr affair collabor task disrupt wikipedia harass editor disagre kook line guess good',\n",
              " 'welcom get ban state truth iamcharli',\n",
              " 'msg georgian presid cant work peac wont leav alon',\n",
              " 'got messag tenni expert know he well capabl purg talk page anyth neg without help gender assum',\n",
              " 'there alreadi link panspermia origin bit relat fred hoyl write earli panspermiasci fiction note concept goe back old sf short stori toy idea alien creator id context excus inspir ',\n",
              " 'also tell jao could one account could alreadi vote delet anoth account delet discussionvot windsorfloorhockeyleagu wikipedia wont stop   account id guess that exactli happen wiki hour learn also didnt fall turnip truck recent jao play dumb attract qualiti give one person action lack stand commun',\n",
              " 'okay problem  day two help thing cool also want apolog useranthoni bradburi admin gave true second chanc dont want let sock way edit use valid sourc apolog person attack know perman block hope never come length affect abil continu talk page discuss work articl',\n",
              " ' gay game vii hi kile forgiv but want add outsid perspect marc discuss issu tough deal context encyclopedia  context open encyclopedia anyon edit director open ceremoni among role probabl best sourc inform subject hand your one person your verifi  mean inform head isnt possibl anyon els look corrobor someon could ask your one person see difficulti  coupl refer want point might help clarifi situat first wikipedia polici autobiographi  similar area best sourc inform individu point wikipedia recogn issu topmost level second speech wikimania  made jimmi wale founder wikimedia foundat outsid comment  hope continu part wikipedia hope youll take look wikisourc  put speech mention site would great asset thank talk  contrib ',\n",
              " ' im sorri find word like agit prejudici seem ration still debat whether worth time open account point wikipedia poor job regul coordin subvers polit group like proisrael group sinc part group would difficult combat bia alon wikipedia procedur also notic focus form rather content messag noth relev contribut pleas withhold discuss  ',\n",
              " 'someon pleas look page wikitictionari mw littl remind',\n",
              " 'hoboken citi websit believ link citi hoboken websit broken correct im wrong',\n",
              " ' need editor assign per subject current situat allow administr make decis subject whether know mention bodi discuss improv would interest get connect',\n",
              " ' discuss regard wikiproject kansa start discuss make wikiproject kansa standalon project separ wikiproject unit state pleas join discuss wikiproject kansa talk page receiv notic categorywikiproject kansa member thank tc ',\n",
              " 'good point sadli ban forev wikipedia argu kind thing perhap could tri continu good work import stuff deal lot pov warrior good luck',\n",
              " 'user box wouldm someon mind creat user box da use one anc could find da one dont know user box visit profil id love put da box',\n",
              " ' obrien argentina hi rescu articl danger delet hoax first bit fine could back sourc ad mistak put faceti bit pork scratch frustratingli sober mind jokey tone isnt right seriou encyclopedia b made wp term that origin research verifi made look like hoax dont discourag look guid write wpyfayour first articl regard ',\n",
              " 'pic day  hi barfooz let know photo imageiciclesjpg due make reappear pictur day th februari ive reus caption last time make chang wikipediapictur dayfebruari  ',\n",
              " ' apolog thought mention relat jewish giant iron refer diann arbu sinc jg relat point still hold someon least partial jewish ancestri aid anti semit world edit total fail answer substanc point point identifi noam chomski jewish lend legitimaci anti jewish stanc descript stand pov refer indic may jewish ancestri identifi jewishli way look forward non iron answer ',\n",
              " 'feel free back unfound claim realworld happen httpwwwencognitivecomfilestopjapanesesurgeonusesgersontherapypublishesresearchpdf even mildli educ number documentari investig number clinic implement gerson therapi ie documentari die known close mind even acknowledg thousand testimoni exist httpswwwyoutubecomwatchvzxyejaeon what answer doctor implement therapi patient claim  success rate actual go tell ineffect peopl didnt actual cancer cure your closedmind bias bigot prove wrong',\n",
              " 'plan avila  honest discuss  coup need includ coverag plan avila page wikipedia plan rather spars subject repeat remov mention chavez past basic plan avila plan militari maintain order caraca issu  led possibl thousand death chavez order avila respons protest militari command refus carri spark coup ',\n",
              " 'kevin malici hacker  term hacker ther term adopt media gener hacker entir familliar mit use term work mit unfortun cracker appropri term success attempt redefin term stage futil want refin term point kevin frequent vindict malici also pretti unrepent still whine length prison term got dont think enough kevin still hussler latest scam secur consult least legal even difficult see client could trust',\n",
              " 'talk reformul articl nice unless citat anoth self appoint member languag polic edit articl pleas look past variat articl notic languag polic alway return articl',\n",
              " 'alway saw wiki man big man magic power dude ruin way go man hope feel better gonna cuss sinc she inoffici im gonna chill',\n",
              " 'ganser rs insan claim ganser book fail wpr join club two year publish book publish endors eth zurich isnt reliabl sourc go delet gener rel publish',\n",
              " 'america armi budget alon bigger next  world countri whole budget world cover us base moment attack host countryif america want could attack countri without mainland know anyth far iraq america welllast time rememb russia coulndt even invad afghanistan ',\n",
              " 'meter what deal go around arbitrarili decid whether someth allow talk page kind wiki dictat delet someth dont like wiki rule violat question whether diem homosexu dictat ',\n",
              " ' dont strong prefer seem loc phrase least western perspect would regard type adverbi phrase correspond adverb locat also posit chines sentenc describ main adverb section ',\n",
              " 'tell angela im sorri feel sooo sooo bad promis wont',\n",
              " '  ill make sure vandal stop rememb id quit intimid werent  year old male wikipedia edtior madonnaladi gaga fan bet your terrifi irl henc clip succinct sentenc imper grammar aw im josh good faith take friendli joke pop song play type line pokerfac ill roflcopt ',\n",
              " 'ive ad sentenc minu last four word death section sourc',\n",
              " 'gie hey care join discuss talkgovern exil need editor show panblu pov',\n",
              " ' messag  care dc articl reason care articl care wikipedia care impact articl might live peopl care wikipedia present encycloped articl becom mouthpiec fring idea self serv promot dont red pen doom ',\n",
              " 'free imag httpwwwflickrcomphotosbigkurt free imag half shaft someon will upload link dont time much still miss wysiwi ux',\n",
              " 'becom preposit grammar internet mandarax love enjoy liter becom preposit side note hadnt seen chocol lab photo see photo insati desir ask marri',\n",
              " 'point page discuss achiev consensu go counterpoint articl answer gener question counterpoint think weve stray much far afield nevertheless ye contrapunt duet singl violin singl cello remain contrapunt violin part assign violin section cello part assign cello section within section cours counterpointunless someon flub part call random counterpoint think voic computergener sound attempt simul music instrument specif waveform sound envelop otherwis vari greatli beyond particular rang amplitud frequenc second second minut minut song dumbeddown abus term promulg commerci electron keyboard manufactur order maxim sale case sound actual comput gener way rather theyr sampl digit record although may electron tweak dumbeddown analog synthesi equival patch bewar also electron keyboard manufacturerss abus term polyphoni ',\n",
              " 'agre  note  ptsd sderot citi didnt find amount differ citi also add migrat  sderot see sapir resarch  popul migrat negev k usd cost anti  rocket add  million cost area',\n",
              " ' wikipedianeutralpointofview demand stori side side mean terror terror stori actual happen also mean need continu debat terror much import get whole secondari explan page wikipediacitesourc materi challeng sourc provid may remov editor dont need poll need remov lot thing page need rewritten publish version scientif one warmong stori refer   conspiraci theori wont go away make clear  mainstream view display side side attribut much hardcod quotat possibl  dont believ  hijack other cave afghanistan pull act alon say jone challeng offici conspiraci theori god go get bottom  around  top professor lead scientist believ attack puppet war monger white hous justifi invas occup oilrich arab countri unless anyon good reason add page mention document inform william rodrguez rico lawsuit octob  rodrguez file civil rico lawsuit direct georg w bush richard b cheney donald h rumsfeld other includ total  defend togeth ellen mariani lawyer phil berg govern file motion dismiss least transfer case ground nation secur worthi paragraph osama mean muslim fbi say reason  mention usama bin laden want page fbi hard evid connect bin laden  thu word muslim may quot best use word terrorist similar reichstag fire septemb  attack strike reichstag fire decre patriot act need use word terrorist explain event think separ paragraph dedic media call muslim terrorist attack would appropri wikipediaavoidpeacockterm let fact speak wikipediano origin research long peer review journal kerosen cant melt reinforc steel structur failur welldesign system local failur caus immedi even progress collaps entir structur make pseudosci septemberattackstheattack three build world trade center complex collaps due structur failur day attack structur failur well design system work like previou histor event standard wikipedia go far beyond mainstream media build blown wikipediaavoid weasel word avoid phrase peopl say without sourc hide evid incrimin bush administr evid anyth weasel word hijack fire explos demolit perfectli good describ stori  ',\n",
              " 'nair armi well serviceswho use cook nambuthiri rich nair householdso work soldiersservantsstewardsadminstr onmani agricultr also farm handsmani contradict articlenair bunt came tulu nadubunt classifi backward cast karnataka knew wouldnt tell originwhat fun reject sudra tagyou hate ware time prostitut consid deginif profess keralathi reflect work unnai warriar venmoni mahanwho prostitutescarri prostitut shoulder man consid honur timestim chang',\n",
              " 'speedi delet templateus philippin navi tag place templateus philippin navi request speedili delet wikipedia done section criteria speedi delet deprec orphan templat seven day still unus speedi delet tag remov templat delet templat intend substitut pleas feel free remov speedi delet tag pleas consid put note templat page indic substitut avoid futur mistak transclusionless thank',\n",
              " 'hahaha dont know much',\n",
              " ' updat wonder could updat new evid present talk  contrib  email ',\n",
              " 'pov tag tag cleanup tag year old current discuss relat great deal edit done sinc tag place remov judgement content caus retag cours may done necessari post discuss improv could made effort clean old tag permit updat current issu warrant',\n",
              " 'im sure ive read either directli book rowl quot appear chang due horcrux reptilian appear probabl due use live creatur snake horcrux',\n",
              " 'test test     give first new dinosaur barnstar sheepi edit subject  thought id test new barnstar sango creat us idea hope like  put firsfron caus isnt pretti  first ever given fun',\n",
              " ' start bullshit fetzer pov express neutral clearli unit state marin corp color opinion expos motiv censorship none relev idea articl group other think group contributor found adequ definit group includ act silli like dont agre group messag think ok redefin group anyon look inform group dont like kkk edit wiki articl make black friendli neg would even cite founder definit sourc object thing semper fi common sens ',\n",
              " 'new organ reason believ otherwis',\n",
              " 'train tofrom allahabad could editor help creat section train start  termin allahabad',\n",
              " 'telectroscop well done  went see yesterday unsur cat put grandfath  alexand stanhop st georg real name ',\n",
              " 'youv answer anoth tacitli admit secondhand ive watch move laugh whole time keep',\n",
              " ' thank other ill fix last one talk  contrib ',\n",
              " ' instruct right next link creat protect version replac first line substpotd row save   chat ',\n",
              " 'linux articl linux unix esenti thing use command applic cross compat etc mach bsd also like linux therefor u say mac os base linux mac mini home one comput seen linux command line use websit tell mac os x base linux linux free version unix',\n",
              " 'wikipediafacebook hi zilla thought ad imag wikipediafacebook talk',\n",
              " 'disagre call chad refer real name chad bryant thu violat rule state rather call chad suspect evad  hour ban place ',\n",
              " 'construct action feedback find  smart intellig passion  rude destruct counterproduct narrow heavili bias mindset sourc etc lack vision bigger pictur ',\n",
              " ' prefer chazaq uvarukh pleas dont say koyekh around memi present sinu infect make head hurt bad enough  talk  mar   utc',\n",
              " ' well saw two differ point use japanes hindu music consid mani theoret experiment mode howev doesnt japanes music use mainli pentaton scale  ',\n",
              " ' pleas dont chang genr suit pov result block question pleas hesit contact call pat ',\n",
              " 'articl move optim classif current undergo edit purpos updat reform refer ad inlin link citat invit help ad link look refer make comment discuss page call attent work articl feel need done thank appreci articl assist offer toward perfect goal correct anyth might wrong thank',\n",
              " 'dinner ye thank rush yooo said drug use gfet away ittttttttt stop aaaaaaahhhhhhhhhhhhhhhhhhhhhhhh ',\n",
              " 'doesnt sourc trivial make fail wpr seem want keep caus like reason keep articl guitarist',\n",
              " 'saw page list delet ad littl found legitim refer prove claim prove true',\n",
              " 'fact your lose argument tell hindi hindu hindustan appear classic age hindu literatur come muslim develop later islamicinspir indian languag cuisin cultur etc even hide behind muslim name game set match user moarrikh  may ',\n",
              " ' ad dear jim henderson wikipedia articl titl racism countri articl includ  refer  februari  date user mattbuck clean racism usa divis articl httpenwikipediaorgwindexphptitleracismbycountrydiffoldid clean racism unit kingdom divis articl httpenwikipediaorgwindexphptitleracismbycountrydiffoldid clean divis articl httpenwikipediaorgwindexphptitleracismbycountrydiffoldid articl seem delet sinc  racist countri happi free listen listen song clean   juli  fightingsagaintli edit sinanoglu articl like free understand underst thank sir sincer ',\n",
              " 'declineclearli user religi convict  though sympath pleas ask unblock main account  talkedit',\n",
              " ' classstart  importancehigh',\n",
              " 'final report tsb releas final report accid',\n",
              " 'pov earth  peopl  war ',\n",
              " 'give idea dont like organ anyth ive said factual incorrect given organ rel obscur player debat abort would pare current subsect third ill suggest new word elimin pad',\n",
              " 'comment warmli welcom comment testimoni auction auto bidder',\n",
              " 'previou propos close  februari today  februari repeat said let close hat revisit year',\n",
              " ' im delet link refer tabl sinc die rip waytocar  offens meant ',\n",
              " 'didnt order onlin',\n",
              " 'im gener look want full facesqu review would spif',\n",
              " ' let take good paus pleas let keep disput tag version articl thing stand keep link even page let call paus wast time better thing mine think work content need work method discuss thing us come agreement least accomod accept disgreement showcas need think would better instead fight two version revert endlessli agre fact pointbypoint basi discuss verifi reliabl sourc demand wikipedia polici anyhow content must base verifi reliabl sourc would perhap main suggest request everyon pleas make comment could make work content process process would suggest would find accept procedur regard csssclll ',\n",
              " ' also im think recent poke around unincorpor commun ive creat havent ive notic settlement type field infobox pretti inconsist  town unincorpor town unincorpor commun thing think standard ',\n",
              " 'borough councilit definitli dosent go manchest councilth burywiganrochdal oldham boltonburywiganrochdal oldham individu council council tax goe council borough live innot manchest',\n",
              " 'user vandal report instead post would block prevent vandal articl sinc long time',\n",
              " 'ferroin sulfat although start articl regret assign full formula real salt vs ion sinc sulfat common salt ferroin suggest either  move articl ironii trisphenanthrolin sulfat seem cumbersom  tweak current articl focu mainli sulfat ca way discuss solubl structur prep acknowledg properti soln independ anion',\n",
              " ' anonym mr zero even ye british elector like sheep agre what said seem get upset anyon disagre book moment call bloodi foreign cant rememb author id get copi iof ',\n",
              " 'iraqi  elect hi exactli your look pdf document final result elect',\n",
              " ' critic recept anyon point wish make go expand critic recept section wide rang sourc hidden section header ad sourc think would go creat section howev someth good scot ',\n",
              " 'merg articl person think mega drive genesi articl need consolid see function identicl one anoth there reason need seper page could joint titl sega genesissega megadr could simpli explain thet sega japan chose call system mega drive european counterpart chose stick mega drive name simpl would prevent peopl navig two seper page long voic opinion subject  think nesfamicom super nessup famicom page merg well',\n",
              " ' youll notic never made assert suggest topic never even suggest specif verbiag put articl doubl tripl word seem ludicr isnt articl suppos mix fring legitim scienc ',\n",
              " 'redirect wikipedia talkmerchandis giveaway',\n",
              " 'fulli agre go overboard comment apolog im extrem asham action assur happen',\n",
              " 'realli want read wprr block offens make  revert singl articl  hour revert version back editor chang restor previous delet materi count standard look like six revert report appropri noticeboard clearli edit war disrupt',\n",
              " 'accord dazversn salvador  one man one battl world wide pub co new york asin beuli pp   number place web eg old photograph web show father felip mirab batista baptism ceremoni el jigu ',\n",
              " 'thank repli scott got back wee bit post apologis tri say major peopl edit wikipedia without know wr cheer',\n",
              " ' goeth truli wise thought thought alreadi thousand time make truli must think honestli till take root person experi  johann wolfgang von goeth dont think refer etern return ',\n",
              " ' think confus ld project tag mean doesnt mean impli directli connect church offici relationship anyth sort doesnt even show anyth articl page simpli mark topic someth relat mormon therefor interest editor work ldsrelat articl consid one promin alleg west ridg mormon gulag certainli appear like ld wikiproject might interest page reiter chang noth articl page dont see concern ',\n",
              " ' mattisse  hi think move detail regard technic ye case still discuss intern dont think chang made ok cours accept intern decis regard issu addit spi clerk apologis creat move target sinc clerk wikipediasockpuppetinvestigationsvikraantkakajun come across two regist user may connect origin case ad spi sinc yet close may want take look apologis wast time someth fishi go work problemat  templatenewdrnsubmiss hi steve let know left messag wpdrn talk templat made new featur doc finish    abort titl mediat ill tell right dont see significantli respons idea regardless merit isnt go anywher way must found increas particip there way forc someon particip mediat voluntari might good idea send anoth round notif time word encourag add opinion eg propos made renam two abort articl complet new name idea locat link current open opinion thought matter would appreci someth like anyway hope kick discuss gear clock tick think give addit exposur discuss good idea person think matter like settl havent made point unless big chang opinion  day move articl new titl issu mention abortionright talk page notifi involv parti list mediat talk page might wise move take clock tick soon list made sure might wise post remind like one recommend clock tick fair enough well eraserhead think safe say everi singl editor touch either two page past year notifi well see happen well input certainli increas significantli good luck sort opinion rush though think wait least month decid anyth inde input increas think let discuss car',\n",
              " ' seem problem confront somewhat radic view around nitrit popper mistaken mani respect includ mr allabout  suggest stop childish behavior instead confin post tri dissemen accur inform least allow other knowledg lack would better serv gener public tri harrass deni access peopl actual accur knowledg subject nitrit popper instead let fair opportun set record straight vandal post use wikiexpertis trick deni access block ban etc simpli unfair innapropri behavior ',\n",
              " 'cannot meant privat inform sinc openli access public unprotect internet link long time inform made freeli avail anybodi care find sourc prove famili connect indisput  whether sharlto acknowledg somewher els issu',\n",
              " 'ship ye whoever ad line rule correct ship place ive gone long time dont see sign cjk',\n",
              " 'ali dinah maria mulock craik anyth cathol',\n",
              " 'post past factual statement fact made delet promptli appear wealthi buy way clean reput',\n",
              " 'possibl imag remov huge mate ad articl opinion although believ ad good faith userkrw inappropri articl gener product servic featur promin advertis imag one singl product within class exampl look includ soft drink main pictur show varieti brand supermarket shelf photo diet pepsi product line much lower potato chip two three pictur chip without packag third noncurr ad fast food food shown unwrap big mac clearli identifi plu nondescript interior photo photo sever adjac restaur chocol bar unwrap chocol bar shown bring quandri use imag best idea make mockup hypothet date site front page ad use instead real imag suggest',\n",
              " 'whole dip feather stori least  year old origin word cocktail mysteri long cocktail look literatur prior th centuri even well th centuri suggest cocktail full breed race hors period say ',\n",
              " 'insan black kite cant tell restat oppos editor nomin ask peopl freeli vote yet tell danielkueh think express reason way vote that reason leav alon way danielkueh thank courag speak mindi may ban soon spoke mind wikipedia revolv around censorship copi black kite',\n",
              " ' decemb  utc aw endur harass lowlif terribl deprav individu tri target other hope everyth turn alright way thank defend stumblin blox articl realiz probabl pick band yield term info sourc fell love song alright work green crystal tie seri notic allmus profil mayb jolt enthusiasm got carri away hope might abl find info band want byt green crystal tie cd fact want eventu get whole set thank turn great seri  ',\n",
              " ' except said bottom two america doesnt get much clearer  talk ',\n",
              " 'sorri dont believ hierarchypediasqueakboxdavid squeakbox sockpuppet far concern',\n",
              " 'sorri apologis vandalis userpag order draw attent would interest know didnt report alleg sockpuppeteri',\n",
              " 'thank submit inform soon wikipedia unblock account tell withdraw threat help school thank',\n",
              " 'enough state user page belong commun result leeway exceed bound mani peopl consid good tast alreadi ask one admin stop pleas thank ',\n",
              " ' what miss evid critic consist view gener public agre notabl teleprompt critic agre use teleprompt much common critic among american public shown ',\n",
              " ' would consid hard survey data name use gener popul big differ intent brand campaign accept gener public think merit keep articl consist ad ny infobox use full offici name lead sentenc everybodi call ive high locker line hallway better stick offici name rather school call popular cultur ',\n",
              " ' imprison para   entir sure guess seckler imprison need chang parson imprison',\n",
              " 'templatedid know nominationssieg chester hi dyk nomin templatedid know nominationssieg chester minor problem solv',\n",
              " 'let keep chang polit correct spark argument word feminist object',\n",
              " 'compar happen program oi wpsynth assumpt hwat write press releas wpor',\n",
              " 'busi plan massiv amount write eva articl start within next  hour equal previou work combin bad time',\n",
              " 'well gener consensu use alto adigesouth tyrol bolzanobozen etc think servic anyon tri eras one term well wrong pleas ',\n",
              " 'categoryjohann vermeer paint notic categori creat unpopul empti word wikipedia page belong remain unpopul four day may delet without discuss accord wikipediacriteria speedi deletionc im notifi case wish repopul ad categoryjohann vermeer paint articlescategori belong blank categori page caus categori delet serv document page histori categori empti time blank also alert watcher categori jeopardi welcom revert blank wish howev prevent delet categori remain empti creat categori error longer need speed delet process tag  best regard',\n",
              " 'dust bowl never happen',\n",
              " 'wow thought experi gotten fire seem  case troutonnobl experi interact involv electromagnet interact theoretician grant physic electromagnet lorentz transform appli thing taken cours lorentz assum planet move lorentzian ether flatten direct motion everyth els modif forc graviti transmit coulomb forc coupl electr charg graviti coupl forc graviti coupl rest mass total mass graviti coupl rest mass ether theori stand chanc reproduc predict einstein interpret rest mass invari lorentz transform far know gravit involv total mass illustr fact relativist physic gravit burst confin special rel someth give theme similar think theme john norton paper nordstrm lorentz invari scalar theori gravit gravit burst special rel successor special rel need provid einstein poincar  palermo paper facsimil reproduct nondigit  mb file consider section gravit im sure dont think poincar demand gravitationalinerti mass equival constraint theori think poincar anticip light deflect gravit would written think well  recognit came light carri momentum also carri inerti mass light propag emitt receiv transmit momentum also transmit inerti mass inerti mass emitt decreas emiss light inerti mass receiv increas absorpt cours light zero rest mass sinc light zero rest mass natur assumpt light affect graviti possibl consider natur made poincar cautiou toward attribut inerti mass energi  gttingen lectur poincar went far attribut increas inertia fastmov electron increas energi ether surround electron respons high veloc electron still work muon tauon understand electron muon ident far electr charg spin concern differ rest mass electron muon becom alik higher veloc knowledg veloc energi muon muon rest mass multipli relativist factor inde curiou lorentz dealt issu indic historian scienc describ lorentz retain prefer use lorentzian interpret lectur lorentz gave tie seen lorentz full mathemat masteri special gener rel  talk',\n",
              " ' repli question talk page repli question talk page glad hear hardli form person allegi someon ive never met contribut usual least imnsho sensibl case ad whatev say matter  experienc edit conflict previou edit appar agreement put matter mediat ad tuppenc anyway allegi caus caus rule appli never  cheerio ',\n",
              " 'sorri inconvenienceuserharri weasley   june ',\n",
              " 'sorri hear wish fast recoveri',\n",
              " 'last time use account late septemb vandal cant use anymor im chang password',\n",
              " 'edit dalek feel valid reason want remov section itd good idea address issu talkdalek stand appear well sourc fairli relev articl cheer',\n",
              " ' thank start blue hair thank start blue hair articl wonder would interest least stub green hair  repli ',\n",
              " ' consid easi configur agre tag sinc program hasnt gui configur except luci remain tricki configur easi use besid ultim configur must edit file via termin even middleus  preced unsign comment ad talk  contrib ',\n",
              " ' bird task templat unlink articl link work corcoracida move could find articl link everi singl talk page templat shown link page talk ',\n",
              " 'welcom hello  welcom wikipedia thank contribut hope like place decid stay page might find help introduct five pillar wikipedia edit page help page write great articl manual style hope enjoy edit wikipedian pleas sign name talk page use four tild  automat produc name date need help check wikipediaquest ask  place helpm talk page ask question welcom recent edit sarah jezebel deva remov sourc content without explan addit ad content without give sourc content ad subject assess eg approach promot eg join onlin unfortun mean edit came conflict sever wikipedia guidelin revert strongli recommend look guidelin reliabl sourc neutral point view wikipedia edit articl also pleas feel welcom take offer contact talk page want help ',\n",
              " 'know your good ',\n",
              " 'yeah sorri misread histori page somebodi blank content except extern link see edit wasnt bad',\n",
              " 'also remark inde critic behavior relat dreamhost talkpag inde npov admin perhap instead interpret person attack read critic take step improv conduct',\n",
              " 'neutral  articl lay blame ranger fan seen noth attack upon ranger fan  articl offer counter point evil sick twist polic blame incid entir neutral articl question fact   polic state order jumbo screen switch   flashpoint riot   polic send thousand offic toward ranger fan baton drawn attack   beyond evil support abhorr action tag stay till bia remov neutrailti articl good stand ',\n",
              " ' speedi delet hokerti tag place hokerti request speedili delet wikipedia done section g criteria speedi delet page appear meaning content histori text unsalvag incoher page creat test pleas use sandbox experi would like feel free leav messag talk page question think notic place error may contest delet ad top articl exist speedi delet db tag coupl ad note articl talk page explain posit awar tag speedi delet articl meet criterion may delet without delay pleas remov speedi delet tag dont hesit add inform articl would would render conform wikipedia polici guidelin talkcontrib  ',\n",
              " 'odth current titl lede restrict nation anthem un member state given happi current lede follow list chang confirm descript lede ie add nation anthem satisfi lede definit cant see conform list lede titl provid use reliabl sourc ensur assess weight would mean would loos featur list statu fact would argu failur list conform lede mean fail talk ',\n",
              " 'put thing back way set pend discuss pleas read note dont accept becau templet code hd articl automat describ histor district articl text need show histor district doubt singl structur exampl refer show histor district suspect templat content copi articl articl without check fact case thank',\n",
              " ' realli want dig kubo statement movi order prove oh wait forgot tite kubo exist reliabl sourc whatev drop statement concern hell chapter movi made nonexistantnon reliabl sourc man movi feel bleach seri new movi feel bleach bleach feel get sourc realli want somehow doubt say anyth publish viz reliabl pray ',\n",
              " 'techno music page qwyrxian what question mayb help find one editor gang techno music page tri silenc inform public read ie request citat check view histori week articl channel wikipedia report incid higher up editor overrid power incid techno page ive ad request tag inlin citat guy keep revert request statement citat per previou discuss think request citat allow stand  month give editor time get sourc dont think anyth wrong ask sourc keep revert request also european ad inform guy keep delet outsid detroit let know channel rais case thank help clean tranc page way',\n",
              " ' admin suggest check diff consid unblock dlu contrib ',\n",
              " 'sockpuppet hi would pleas confirm sockpuppet use wikitool dispos close account httpenwikipediaorgwikiwikipediasockpuppetinvestigationsyomangani thank',\n",
              " 'includ finalist',\n",
              " 'la shawn barber hey mike heard wrongli punish polit antagonist editor wikipedia current rickk attempt set preced liber cabal delet articl dislik polit pleas join fight rickk cabal voic opinion wikipediavot deletionla shawn barber sooner end cabal reign terror sooner put end politicallymotiv oppress   feb  utc',\n",
              " ' welcom hello  welcom wikipedia thank contribut hope like place decid stay page might find help five pillar wikipedia edit page help page tutori write great articl manual style hope enjoy edit wikipedian pleas sign name talk page use four tild  automat produc name date need help check wikipediaquest ask talk page place helpm talk page someon show shortli answer question welcom tc joy nois band tag place joy nois band request speedili delet wikipedia done articl seem person group peopl band club compani web content indic subject notabl see guidelin notabl indic subject articl notabl may contest tag pleas write top page leav note articl talk page explain posit pleas remov speedi delet tag pleas read criteria speedi delet specif articl  gener biographi criteria feel free leav note talk page question tc ',\n",
              " 'dont know your  keep nose',\n",
              " 'youv got backward close enough issu g refus comprehend format work refus follow said keep ignor couldnt even begin imagin  c',\n",
              " 'batiushka love russian orthodox church',\n",
              " 'wow that alot casualti wwuserp busi',\n",
              " 'rollback far tell roughli look contrib ive made somewher around  edit possibl less last  month sinc last block except revert vandal dont believ revert editor  hour period although might except may miss fact believ one incid revert editor twice three block first revert editor three time  hour period second erron block revert scibabi vandal sight three time third make three revert articl origin block word three instanc block violat rr even though madman claim edit summari never retract edit summari retract talk page anoth administr came forward critic blocksertalkviriditasarchiveblock two block made three except chang insur block includ perman leav articl primari contributor abstain edit alongsid editor involv edit war leav particular wikiproject altogeth avoid run editor accid sinc time eight month pass littl problem report time continu revert vandal hawaiirel articl believ histori disrupt edit howev problem particular editor particular articl work particular project elimin problem ignor editor remov articl unsubscrib project allevi concern',\n",
              " 'one us one us one us one us',\n",
              " 'standard mile',\n",
              " 'thegreyanomali peopl south asian origin like practis polyandri tibetan cultur mani dad buddi tibetan cultur like peopl cultur fairli uniqu south asian peopl dont practis polyandri dont allow womenfolk one husband time least respect south asian dont share similar cultur tibetan folk dont tell us tibetan cultur close south asian cultur isnt',\n",
              " 'fifth dokdo still significantli higher number usag doesnt  one test statist signific web whole statement doesnt mention tok variat includ disput fact come   refus draw obviou conclus tie good friend basic agre result conclus faulti kindli shown fals posit said day ago good get confirm unfortun simpli shown draw',\n",
              " ' request unblock grant follow reason reason request handl  unblock administr pleas check activ autoblock user accept unblock request',\n",
              " 'talk zoe thank kind repli cant help wonder answer point howev sinc question use articl refer cite talk page moreov seem discuss comment dreamguy cite use comment wica see edit summari might add effect hurrican katrina new orlean exampl suggest use comment may appropri articl katrina articl edit frequent mani distinct editor dont think comment would retain without support use wonder might will repli queri regard comment word cap use propos previou messag may say dont agre revers dreamguy delet comment prefer resolv matter discuss dialogu best wish talk  two editor want one far mean two editor win guidelin use use elsewher reason remov copi editori summari dreamguy talk gestur good faith im go put word propos articl place origin word think origin might consid shout use cap zoe dreamguy pleas show restraint dont revert word weve agre final version one us edit articl suit zoe editor whose judgement trust might will take look disput comment thank talk fiction music consensu consensu pain reach fiction music section contain short repres list notabl instanc chimera fiction music see articl edit histori arbitr articl discuss page section includ everi instanc sinc list would becom long littl valu would give impress use import mythic scientif use wikipedea mere collect intern link see put disambigu page well consequ ad section pleas take follow step sure articl link mention chimera send reader look inform chimera articl mention term verifi addit least notabl exampl alreadi list chimera play major tangenti role work consid replac exist lessnot entri justifi edit page final disagre opinion consensu leav comment pleas dont edit articl make point talk page move request move page classic latin spell chimaera cours classic creatur  concept noth us recent us variant spell  think reason argument hand major modern usag chimera spell think googl find  chimera v  chimaera googl indic use frequenc among internet user major reader search chimera weak argument redirect rel cheap think talk gee use recent us spell well there wikipediaus english polici wikipedianam convent polici say use common version conspicu lack polici say wikipediaus archaic latin spell way spell real world littl thing call wikipediaus common sens newlin',\n",
              " ' like know stand someon make fals accus  dick laurent dead ',\n",
              " 'peopl see dollar sign know wikipedia fan microsoft evil method make money cheat other inferior softwar destroy competitor one peopl actual write wikipedia suggest add inform microsoft articl cheat peopl know mani peopl edit revert quickli im go bother spend lot time edit revert quickli method fast effeci  take minut hit  page time someon revert everyth therel pass reader see work see microsoft cheat peopl im go check singnet whether offer share ip  ill sign account friend use aol would interest help perhap  isp use dynam ip ip share thousand peopl keep anonym edit complet prohibit edit construct account know everyth that go wrong wikipedia  includ allow anonym edit help wikipedian open eye problem stop sign cousin poster villag pump misc didnt believ',\n",
              " 'nobodi care enough go ps exclus game extra section ad articl except youusersoccerguy',\n",
              " ' im sorri alter anoth editor text best bad wikiquett worst vandal revert rollback edit summari rvv mislead assum good faith didnt realiz chang text discuss archiv bad thing despit text immedi say modifi admin roll edit back advic consid whether may better grasp wikipedia consid vandal hipocrit told situat resolv say agre unprotect page ',\n",
              " ' centr expuls analyst write ',\n",
              " 'pleas sign agre formal mediat fill request formal mediat mattiss reject blueboar attempt link request  parti case palaceguard mattiss requir sign near end form fill gener issu dont need inund mediat issu alreadi discuss talk page request must first accept ',\n",
              " 'detail explan theori',\n",
              " 'vote ino choji sai articl charact play vital role point seri without charact mission accomplish would even success also believ ten ten hinata deserv well primari concern least ino choji sai mcelit',\n",
              " ' r e r e watchlist clear retir',\n",
              " 'im one complain instead im block im sure els respond user without condemn stuff hed said get peopl take look comment',\n",
              " 'pleas forgiv hi sandstein may pleas ask forgiv everyth done thank forgiv need focu pictur deal complic topic matur neutral reason way that got troubl fundamentalist extremist alway lead conflict wake day feel red blue black white jew arab lefti righti realiz wrong side right side time neutral learn point thing right regardless topic wrong also regardless topic respect',\n",
              " ' novemb  tripl ',\n",
              " 'hi darren pleas go ahead help get articl approv much appreci',\n",
              " ' flown alberta therefor incorrect mayb one time certainli deem wrong right leav alon gloriou wrong httpwwwculturealbertacaaboutemblemsdocsemblemsbookletpdf httpcorporateidentityalbertacadownloadsgoacimbrandpdf start  show correct current alberta shield ',\n",
              " 'homag mussorgski epithalamium wikipedian premir pleas share thought happen father pianist agent that hwi wasnt sure think piec  prefer lyapunov transcendent studi malcolm binn also play nightvox ',\n",
              " 'issu wrt internet rumor given attent hasnt rumor internet',\n",
              " 'cant also origin research fail meet reliabl sourc criteria regardless put hasnt gone publish peer review origin research',\n",
              " 'rev margolin quit correct lavey origin term satanist yet yet demonstr lavey wife comrad invent religion satan obvious focu interest mani moon selfid irrelev one criteria sociolog categor other pleas explain appreci attempt summari histori satan arriv th centuri time origin roman catholic propaganda use term o select late leav least  year histori unmap base dashwood taxil hoax materi absent defin satan beyond propaganda dont see priest caught experi magic accus witch commit variou heresi necessarili repres backfir maintain magic practic andor practic witchcraftheresi indic propagandist satan roman cathol church may identifi run list identifi first part satan histori tool religi propaganda dont follow refer richard ramirez kind exampl backfir religi propaganda use propaganda fearinspir commun media regard revers christian invers christian dont think kind belief began call satan system sens th centuri selfappli know differ pleas point instanc would interest learn linguist histori regard articl extend satanismdisambigu page whose talk page post mani time thu without disambigu could well becom anyth associ term content ought state previouslyment talk page also get disambigu remov els clearli indic want sinc present page say satan catchal term refer sever religi movement bold pleas make mind least forg agreement  consid kind satan oliv branch part suggest disambigu page list variou categori refer term add idea  propaganda  protoreligion invers interior christian de facto status  popmedia circu lavey like  seriou religi extent start beyond church satan earlier document delin spearhead matter either disambigu page like map truli arent mani good portion territori map disambigu page right possibl need slight tweak pleas advis prefer interest seem major contributor durat appear draw near consensu  ',\n",
              " 'dougla main attack articl  vandal pleas stop continu vandal page block edit wikipedia  dlohcierekim',\n",
              " 'your ban hey tim far im concern your ban mean get phd back track ive know your say wont tri convinc come back know anyway  come back term get thing straighten schoolwork stuff youd like well kick irc hour day  someon would ban    jan  utc',\n",
              " 'unaccept therefor refer directli',\n",
              " 'link polici doesnt appli anyth ive done sentenc two long sprawl list stat game get sentenc get signific steelerpack game last year broke ton record lead big gwd stat tell happen sport import team individu dont think your look enough season recap qb realli compar altern would base your say would deem page long sprawl list stat well gave articl style ad structur way could go back past season everyth would consist right old season larg unsourc write bulki time get short descript happen everyth fine concis point',\n",
              " '  june  utc ive seen articl lot bloat doesnt realli look like split kind consensu request comment name disput section well see ',\n",
              " 'true ive offtop insist logic protestor perceiv china dictatorship equlival repres antidictatori protestor ive never even heard thing  sound like polit frame would protest perceiv dictatorship saudi arabia go protest china rare antidictatori singl classif  even classif opinion would suggest lengthi word  eg support call individu freedom china',\n",
              " 'pleas sod ',\n",
              " ' seem unbalanc whatev said mathsci said far extrem unpleas thing mention other much greater frequenc im happi reign that youd like ruth told tri get mathsci pay attent stop uncivil would expect issu request mathsci intent unbalanc whatev reason pleas let know voluntarili close account move thing like wikipedia lot contribut way point contribut project editor administr leav aggress rude im good editor dont realli deserv peopl ride ass everi time tri certain thing ill happili leav hand dramapron that think best ludwig ',\n",
              " 'fruiti pebbl fan club wont let add info fruiti pebbl fan club pebbl cereal page',\n",
              " '  februari  utc second boo ',\n",
              " 'shri gautama buddha consid buddhist separ leader howev even buddhist studi buddha realiz tri encourag truth interpret veda arya dharam buddhist scholar rahula vipola wrote buddha tri shed true mean veda buddha said knower veda vedaja vedanta vedntaja samyutta  sutta nipta  inquiri pleas read version buddha avatar vishnu',\n",
              " 'howev though im oppos merg two articl long make clear game remak add on releas later also star ocean second stori articl delet long make clear two differ thing exampl dont think neccesari replac valkyri profil valkyri profil lenneth remak made doesnt make origin obsolet',\n",
              " ' talkback  say ',\n",
              " 'link time correct link record  track time minut second rather minut second differ mean intend thank',\n",
              " 'wow great comment wikipediarequest adminshipstwalkerst wholeheartedli agre think wprfa fundament broken reason dont better idea fix thank comment',\n",
              " 'allud fool said dont understand plain english mock talk page get block indisput involv editor ask take action shouldv disqualifi give immedi block saddest part disregard issu hand  insert inappropri content  final acknowleg ani probabl correct bad probabl right content issu said first place could product pursu resolut issu need say editor make inappropri edit  ',\n",
              " 'exactli  thank input discuss cheer',\n",
              " 'alt text whole alttext thing new seem becom standard glad could help happi edit',\n",
              " ' utc refer frame discuss german biblic argument   apr',\n",
              " 'interest isnt wonder written first place',\n",
              " ' top ryde citi thank previou advic attempt add  receiv call top ryde shop centr run debt six month open includ refer told npov fact emot term',\n",
              " 'ny new york unit state',\n",
              " ' dont call ungrammat wont return kind grammat im friendli discuss talkth blue flower ive start one think phrase unnecessarili harsh prickli explicit permiss rephras word long dont chang mean recommend mention permiss talk edit summari ',\n",
              " 'im see indic role account edit talk',\n",
              " '    spend lot time onlin long correspond john hoop harvard yaletrain anthropologist special central america teach univers kansa hoop research origin  meme call fruit exchang  know great deal calendar stuff mani peopl present expert hoop say he academ he scientist he expert ancient maya he profession astrologerwhich like say qualifi fortunetel nevertheless mayk expertis typic  blogger area claim truli understand',\n",
              " 'welcom wikipedia welcom help creat new content recent addit retart hors power consid nonsens pleas refrain creat nonsens articl want test thing edit sandbox instead take look welcom page would like learn contribut encyclopedia',\n",
              " 'next croydon aerodrom busi trip',\n",
              " 'let say warehous full microsoft product sudden selfcombust emit dark omin cloud smoke carcinogen  mile area think microsoft editor would mention',\n",
              " 'mariahyulia receiv email thank',\n",
              " 'ok yep reedit last bit st centuri section see wouldnt appropri',\n",
              " 'ive better idea delet entir section theoret state swing state',\n",
              " 'damag articl wikipedia contributor drmi extraordinarili destruct herhi contribut delet articl  particularli origin wellreferenc entri inform edit taught anthropologist john shea introduct archaeolog cours stoni brook univers keep tradit illiter contribut abound wikipedia semiknowledg contributor primarili driven emot take preced knowledg contribut articl essenti destroy one wikipedia frequent obvious minim inform contributor anyth articl ought cite vivid illustr real encyclopaedia alway need produc societi continu liter popul',\n",
              " 'wayward like teeth crust',\n",
              " 'propos shut wp geograph coordin  ban coordin wikipedia articl mean talk',\n",
              " 'pleas dont delet itll interest topic research',\n",
              " 'welcom hello welcom wikipedia appreci encycloped contribut recent edit conform polici inform see wikipedia polici vandal limit accept addit youd like experi wiki syntax pleas sandbox rather articl still question new contributor help page write helpm messag along question someon along answer shortli may also find follow page use gener introduct wikipedia five pillar wikipedia help page tutori hope enjoy edit wikipedian pleas sign name talk page use four tild  automat produc name date feel free write note bottom user talkdougwellermi talk page want get touch welcom ',\n",
              " ' aint woman arnt woman numer account said word aint use rather arnt also evid fiction speech evid back claim ',\n",
              " ' make first  sentenc bias theyr bias enough mean long hear mention love bill gate sourc ',\n",
              " 'wpno origin research page clearli show secondari sourc necessari sinc mere descript statement requir expert interpret matter relev entir separ issu howev conspiraci theori clearli reaction increas awar danger propecia shut finasterid websit within month updat warn label includ inform finasterid caus irrevers side effect howev state websit shut replac link fda medwatch contain editori opinion simpli fact turn wikipedia member addit opinion sinc jfdwolff unreason disagre experi past singl opinion suffici remov edit reason add sentenc describ fact propecia websit remov internet replac warn follow fda issu arriv',\n",
              " ' pleas stop continu use wikipedia advertis wayn rooney block edit ballsstrik ',\n",
              " 'remov lie remov lie insert selfidentifi palestinian arab articl',\n",
              " ' funni lethal jew lethal funni drmi talk ',\n",
              " 'ioc beliv boa name team exactli never mind fact ioc page doesnt say ask mere refer name common short form infact use name great britain list noc british noc call boa usabl noth ni sourc brand alon theyr irrelev',\n",
              " 'note reader talk page see neodarwin',\n",
              " 'renam request english wikipedia hello wjbscribei apologis late answer busi work howev thank notif renam request german talk page sinc need account urgent due bug  longer want account get renamedthank effort help concern request appreci  nice weekend best regard',\n",
              " 'could pleas cite sourc refer inform might might qualifi sure perhap anoth user give detail thank lot',\n",
              " ' problem block problem block user megvi seem delet import chang topic deva chat help member deva chat understand next footbal soccer american git match',\n",
              " 'detail footnot section',\n",
              " 'valley moch hi accedi nice talk thank messag talk page articl valley moch thank tag articl page curat tool editor come along help prose ok ill search englishlanguag refer add articl best regard',\n",
              " ' much english languag concept logic believethinkknow im wrong wouldnt talk thought wrong yeah right would pretti dumb puhleeas would supposedli encycloped wrong use phrase like us citizen that accept term use would editor want revert back also would guy encyclopedia admin prefer cater wide wrong major peopl lazili appli wrong logic word rather stand first what actual logic correct bend popular vote happen peopl wrongli think right way say someth arent encyclopedia show peopl real truth well simpl terminolog ask canadian mexican brazilian whatev american said despit think correct belief mani canadiansmexicansbrazilian errantli believ show popular muddyup fact shed wrong canadian etc american could possibl belong contin call america',\n",
              " 'suggest wikiproject unit state support wikiproject montana recent suggest wikiproject montana might inact semiact might benefici includ list project support wikiproject unit state start discuss project talk page solicit opinion member project project would interest support wikiproject unit state pleas feel free comment opinion suggest',\n",
              " 'agre move dont see move made',\n",
              " 'could point estim damag articl revert edit damag articl anxiou find ',\n",
              " ' id realli prefer noth',\n",
              " ' sens mention ff aog connect nonsens youv lost plot phanat ',\n",
              " ' peopl hope beg wish previlag respect titl earn go deserv build us spanish empir fail come cross border boat stop fool first spanird came america alreadi black blood asian blood darker paint colombua period yelolow hue dark hair curli hair full lip yeah isabella red spaniard never one type european begin top moor got defeat actual kick spain altogeth european came mix reintroduc white mulatto peopl still remain today especi portug franc itali spaniard came mix let loos unlik rule usa see us oper white white puriti concept guy oper greedi grab land know mix nativ african clear fact clear see us establish word power broke spain empir come franc peopl start tri think white increas immigr us broke heart found white land ghetto sad mix peopl dont get  america settl mix cri white notic us histori societi gener spain portug hardli ever mention context europ ask averag american portug cant tell may heard peopl usual black call portugues idea portug spain less white associ spain even europ hardli associ spain bs guy pure american white  bs peopl know hispan dont  cant fool anyon look like question ask white person understand pain sinc mani greek italian regard exactli accept white even though clear noneuropeanafrican trait visibl guess would ask white good question peopl doubt mix recent italian greek may direct black parent look see african beneath surfac african surfac white sadli white dream lump togeth rest latino brother thing go well n much land resourc countri want come us get free ride white work easili may work other one come europ builtn percept white base europ alon two mix need review histori us th centuri alon see need appli white absolut whitest die hair blond red fool anyon inform need appli cant come countri get free ride latin america instead make someth want come tri white still cannot believ mani puertorican dominican chilean argentin truli believ white met feml think white keep tell world anyon els spain europ despit popular thought european white best lie moor lie african saveri latin america lie even racemix go chang histori biolgi also alreadi well awar hispan trick call white peopl anglo mean type white oppos type white dont care seen white seen hispan along italian black mix europeansquick tri racistrenegad mulatto like black think pleas white somehow make feel white mind white mean racist white american usa thing european never thought beinga part white peopl',\n",
              " ' gladli expect feedback sometim even also ambiti undertak drop line note bot ',\n",
              " ' import editor report sourc actual say twist pov quot paraphras context editor note provid context reader tri tell reader think talkorigin twist author meant serv agenda keep context reader wp use talkorigin promulg lie purpos encyclopedia report peopl group say believ without commentari whether good bad indiffer articl wp relat creation editori wazoo word topic wp ceas encyclopedia becom propaganda machin ',\n",
              " ' etymolog sidiou insidi  adj  proceed progress inconspicu harm insidi diseas  treacher crafti insidi adv insidi n latin insidiosu cun insidia ambush seder sit perhap mention morphem prefix word insidi peripher meaning sidiou element root latin insidia ambush word ambush relev etymolog discuss  captainsurrey',\n",
              " 'subtitl hi im ad subtitl inform band like slik rich kid',\n",
              " 'sinc bring site harrass sam moser post sam moser facebook page keep fring view ',\n",
              " ' bloodless battl ohio michigan wasnt truli bloodless teenag stab deputi leg penknif ran away unregist ',\n",
              " 'inconsist articl sister articl barbara claim one born midland dalla true sourc',\n",
              " 'actual dialog telekom renam dialog axiata line parent compani axiata group berhad',\n",
              " ' page discuss demonstr lack consensu think your major dont hear anyon els arent listen anyth look around propos remov detail journalist integr lead would let say concern misogyni instead ye total misogyni thing that object truth accus progamerg bia deep head buri could remov consist stanc gamerg express lead articl youd think bias didnt call misogynist get away openli express attitud get congratul patienc disgust honestli ',\n",
              " ' good lord mention clusterfuck bureaucraci anticip adher delet post regard vandal tri repost one editor remov inform trial bot im sure edit war refer addit page state top welcom immedi remov edit suspici seem pretti authorit edit marmaduk subscript list dont understand think act like child childish behavior use bad languag call child suppos call person name refer thought hierarchi wikipedia clusterfuck bureaucraci call edit ego trip increasingli seem want talk like child even call childish seem didnt even consid sever link includ last post inculd npr tri tell made reason edit page one made last sever month notic gone tonight assert will bet one show sympathi proof process ego trip user equal would prefer left alon edit inflammatori includ link websit need includ link provid page enough valid claim marmaduk explain rel popular blog user equal design write nonnot brand vandal attempt repost content pleas explain thank yournumbertwofan',\n",
              " 'thanatosimii read latest messag regard hurrian urartu page',\n",
              " 'number wrong citiat gave mizrahi popul israel number herehttpwwwaccessmylibrarycomcomssummaryitm last demographoc staticti publish even demographi israel articl show number around  million  million includ sepharadi jewish popul also franc morocco ethnic ideneti jewish popul wether mizrahi sepharadi uncertain caus moroccan jew sepharadi mizrahi ari davidoff   august  utc',\n",
              " 'recent vandal page charg vandal fighter fix one crafti littl ad  word sort vandal let say deepli disturb by imag retir wikipedia quickli decid revrt vandal co didnt want histori',\n",
              " 'found better sourc  think mayb leav new energi time cite scienc insid detail interest reader want know taleyarkhan repli',\n",
              " 'rr pleas refrain undo peopl edit repeatedli continu may block edit wikipedia threerevert rule state nobodi may revert articl previou version three time  hour note also mean edit page reinsert old edit effect action revert back qualifi revert done multipl page consid vandal pleas use talk page thank',\n",
              " ' your wast time hillbilli eric got form sort thing  get head your wrongun amount evid explan youv never act cross word actual even like make differ although possibl aggrav well renown poor memori name editor interact saw correct claim alway start ani thread ignor instead up ant refer obviou campaign harass clear person attack ever one he done reform account mani time alreadi sock roommat account plain old malleu btard iron behaviour sort bulli often accus admin hint ironi accus tri demean patronis even though that basic treat anyon wikipedia doesnt agre still see nobodi care due fact get special protect like drmi let real good think poor old eric might put shit everi come peopl think time acolyt accept truth eric get harass your unreconstruct cword hypocrit hypocrit gradea special protect perfect exampl vest editor phenomenon undermin everi aspect wikipedia amount qualiti write extens knowledg ferret bother ever make',\n",
              " ' your way past due   talk  ',\n",
              " 'rfc controversi multipag move  summari  issu recur one propon want ireland  ireland island variat republ ireland  ireland state variat ireland disambigu  ireland variat sever differ poll open simultan old page name ireland ireland disambigu ireland disambigu task forc relat poll run exactli one month earlier old page name republ ireland one month also old page name republ ireland archiv particip ireland page widest consensu move particip two recent poll republ ireland page also wide particip fell heavili move close particip disambigu task forc page limit consensu poll came weakli favour move occas close admin initi tariqabjotu perform move request error  seen request task forc page brought attent post respons talk page decis maintain move consensu consensu arriv illog conclus link wikipediapol substitut discuss later would comment read discuss there much stuff wade issu believ play forum shop vote stack consensu poll substitut discuss issu play discuss disambigu primari topic name convet controversi name  object kind summari propen want section select nonfork ireland option open wpidtf taskforc ie ireland either state island part dual state situat republ ireland ip ignor mani main issu problem got us let particular ip propos archiv section clearli disrupt made disrupt discuss progress made spam wikpedia ive move content discuss sidelin bottom page page unlock soon import ignor stop refactor page isnt help make fing confus thing flit around page clearli distast manner move matt cant sweep away archiv dislik method appli question  talk  simpli move ongo mainpag discuss int',\n",
              " 'well also add mention archeolog nag hammadi biblic archaeolog articl mayb bc wasnt archeolog find rather serendipit discov relev exactli talk',\n",
              " ' make pay busi distinct phrase use barber plagiaris tri rise embitt feel see rest  admit  see good faith accus bia without provid evid whatsoev make claim demonstr fals youv apologis three time open substanti claim entir fail howev look make scurril alleg without shred evid think youv apoligs youv mere repeat alleg action sociopath howev assur distinct casual uncar plagiar talk ',\n",
              " '  februari  utc oh look like scare sens humor take deep breath inhal repeat  time asala bad asala bad asala sweet dream ',\n",
              " 'articl need tell untrain reader orthographi mean  may   utc',\n",
              " 'respons  first public nativ american public thu among nativ american inde notabl public kind gee associ press written time make notabl dont know  mainstream public mean discount voic heard fair anoth exampl minor silenc media',\n",
              " 'origin pictur couldnt think reason pictur vote one wpilik aesthet reason',\n",
              " 'stub may short articl describ physiolog process adequetli provid link wp articl explain biolog mechan articl therefor stub ',\n",
              " 'march  utc definit feel wont happen near distant futur salvag one wouldnt hurt think make tail shorter incred easi fix first pass mostli made narrow lower ill take look neck  ',\n",
              " 'one part thought im realli sure troublesom michaelbeckham enjoy priveleg write protect user page light behaviour fulli understand suscept user page vandal retain write protect attribut user page give tacit function approv behav malevol manner demonstr think incid shown caus configur choic review',\n",
              " 'page plain could make page add defin ',\n",
              " 'support per iio nom ',\n",
              " 'advic refer quot question wikipedia disput resolut team also notic usertalk page seem develop page subpag might serv purpos better comment user becom confus develop articl',\n",
              " 'result takeshima slightli ahead  alway claim statist tie never advoc move takeshima discuss perhap misread someth cheer',\n",
              " 'thank experi page imageworld cup  logopng wikipedia test work revert remov pleas use sandbox test want take look welcom page would like learn contribut encyclopedia contact ',\n",
              " 'sympathis frustrat reliabl sourc use properli extrem import still think normal resolv either admin action commun action dont know context might success know involv get one editor commun ban misus sourc major part reason other support ban agre dr wont often work',\n",
              " 'dont see flashspr page httpenwikipediaorgwikiflashspr logic way thing curiou',\n",
              " ' welcom  hello  welcom wikipedia thank contribut hope like place decid stay glad commun good link newcom havent alreadi drop new user log tell other bit alway sign post talk page way other know left comment five pillar wikipedia simplifi ruleset edit page edit polici conduct structur tutori pictur tutori write great articl name convent manual style wikipedia glossari hope enjoy edit wikipedian though make goofi mistak wikipedia question concern dont hesit see help page add question villag pump commun portal also use happi edit  talk ps feel free leav messag talk page need help anyth simpli wish say hello ',\n",
              " 'still wait input other',\n",
              " 'rutger univers princeton univers remov referenc valid inform regard rank two aforement articl without legitim reason replac valid referenc inform wrong term wikipedia polici guidelin plain disingenu bad form result revert edit articl look see youv done elsewher shall also revert ',\n",
              " 'vandal warn  httpenwikipediaorgwindexphptitlectenophoracuridactionhistori edit toctenophora vandal  stop block',\n",
              " 'use put someth get done guess procrastin win',\n",
              " 'sock puppet pleas explain bad sock puppet account keep get account block',\n",
              " 'note zork talk page moment ago im afraid youv mix ifictionorg infocomiforg dont though reread origin comment certainli see poor word would lead misunderstand sorri sinc suggest still good one appli ifictionorg point activis permiss mention infocom page moment refer credit page',\n",
              " ' speedi delet hi notic red page would thought elig sinc creat    c ',\n",
              " 'thank much best wish also',\n",
              " 'blatent hoax knowledg british doctor brian cox work protein ask revers decis delet',\n",
              " 'ok far abl find coupl sourc made addit articl slight correct also reformat inform base format manchest articl recent given wpfa statu let know work compli better polici thank',\n",
              " ' first thank close second give lookse ani thread mostus templat archiv discuss put wptv thread remov hat hab templat made look weird updat wish thank  talk  ',\n",
              " 'nation everi comedian writer walesscotland list welshscottish ricki consid british english',\n",
              " 'found page recent edit complet agre crap sidenot strongli recommend get wikipedia account great insight feel like could talk poker stat hour',\n",
              " ' intellig design know attract use blp climat skeptic coatrack associ sort fring view without clear evid spencer somehow notabl view intellig design place lede remark half decad ago link kook creationist site enough support claim sort talk ',\n",
              " 'thanx lnk unicodeutf',\n",
              " ' team great britain must beg come argument opinion still think inform color car includ word british race green also want remind wikipediathreerevert rule discuss continu talkpag articl post sure get messag ',\n",
              " 'hi ye ill sent email hit send saw messag ill look substanc disput repli talk page probabl wikiwoo talk page well might take bit dig detail mayb later tonight tomorrow im pretti busi today famili busi read glad offer opinion help much btball',\n",
              " 'type liquor molass use',\n",
              " ' let refresh memori pjacobi delet  one person theori way contact academ reserach pjacobi respons care mani peopl wrote whether contact academ reserach want read thing contact academ reserach subscrib academ journal wikipedia appendag academia ctmu nowher reli contact academ reserach make point pleas let keep eye ball asmodeu pleas read care  theori written one person other free util work later line choos other yet chosen need reflect theori applic import issu particularli given polar associ central focu scholast journal ctmu publish necessarili reflect theori like pertin philosoph assumpt other work  inasmuch talk philosophi  may ultim lead nowher inde may mere mean scholar unfamiliar theori pay attent narrow profession close set sourc improperli recommend articl delet ground wrong wikipedia editor lead us  make differ whether theori notabl academ research whether case patient explain academ one make particular theori notabl notabl cover highli reput sourc popular media remark structur theori possess cite superfici appar inattent academia ground delet irrespons wikipedia editor vote delet inform wellverifi articl notabl topic irrelev nebul ground verif let wikipedia readership pleas respons edit activ futur ',\n",
              " ' content requir sourc note editor ad restor content requir provid appropri reliabl publish sourc claim trpod aka red pen doom ',\n",
              " ' arab philosoph okay delet mention arab philosoph although mani work arab also wore turban understand work arab judeoarab first written hebrew script arab script second none ever heard mention arab arab jew though understood mani arab jew call arab jew maimonid one encyclopedia ever call maimonid arab sourc say arab pacificwarrior',\n",
              " 'great idea ive use rjh idea nomin articl histori scienc collabor month',\n",
              " ' notic also timelin ye peopl fan band previo year popular hard rock band put modern section think mean hard rock popular',\n",
              " ' minnesota entertain section section articl gener start attract wish mention favorit group music festiv seem artist truli nation statur whose work stood test time mention andrew sister dylan probabl princ other would lose recent addit mayb other especi given subsidiari articl music minnesota seem tune sorri music scene mayb could look new addit decid stay go thank ',\n",
              " 'way collectonian  im make differ point',\n",
              " 'remov eveyrth ',\n",
              " 'put templat away lionel dear isnt there abort clinic picket',\n",
              " 'hi mail compani sell sailor star subtitl said small studion copyright season  box set  dvd actual dont believ im gonna ask anyon know could truth copyright stuff',\n",
              " 'governor appoint zaman shah zaman shah appoint ahmad khan shananchi governor punjab ranjit singh httpbooksgooglecoinbooksidkxtefaqqrcpgpadqranjitsinghsansiasbrreicgzszwginolqtkeraqcdvonepageqranjitsinghsansif book written nonsikh clearli state book page  mani verifi sourc avail',\n",
              " 'georg w bush ndsecond nomin come vote noth one big long leftist diatrib remov cover scratch npov stylewikipediaarticl deletiongeorg w bush ndsecond nomin vote may give us fresh start need root deep seed liber pov articl allow us start scratch thank vote',\n",
              " 'would prefer could bother spell ',\n",
              " 'dominion canada selfgovern  nova scotia  see quot articl heard canadian independ grant titl taken parliamentari action certainli case  that nz nf want known dominion noth name countri  though',\n",
              " ' pleas vandal page edit derbi counti fc continu block edit ',\n",
              " ' list miss topic music hello im wonder im misunderstand articl say miss alreadi cover use correct name ie encyclopedia would call subject topic question im wonder your suggest need redirect dont add friendli question ',\n",
              " ' support willing imparti even remov common myth statement opinion statement place user jweiss mention specif statement short edit noth fact even gave websit provid line prior',\n",
              " 'say verifi sourc use encyclopedia make sens im wikipedia author guess would good idea read wikipedia guidelin thoroughli   sorri anyway ill stick person opinion yfg issu im go chang line articl anymor',\n",
              " 'realli cant ultim definit fact otherwis realli ought label liber democrat parti russia liber name indic describ conserv unionist parti unionist correspond infobox social democrat parti portug social democrat etc btw labour polici elector manifesto contain notion social fact well',\n",
              " 'pleas replac wikipedia page blank content blank page harm wikipedia tendenc confus reader duplic articl pleas redirect appropri exist page page vandalis pleas revert last legitim version feel content page inappropri pleas edit page replac appropri content believ hope page pleas see delet polici proceed  talk ',\n",
              " 'list fnl award nom hi joey thank close merger propos discuss  look back answer jmajeremi made laugh date back last year time know much wikipedia repli express feel without good argument wrote capit letter wich know inappropri use wpotherstuff lol mad jmajeremi spent hour find sourc etc anyway im glad discuss close even argument solid ',\n",
              " ' pyroxenerich rock result contact metamorph impur limeston describ pyroxen hornfels calcsil hornfels statement sound inaccur sinc pyroxen hornfel byproduct metabasit metapelit metamorph limeston silic larg mafic compon would longer limeston shale',\n",
              " ' consid admin complaint  sign mean someth know ',\n",
              " 'see im right  stop harass',\n",
              " 'way repli challeng hope conduct civil dialogu expect descend seljuk wild beast rampag whole byzantin asia minor still proud',\n",
              " ' seem like clear violat promis  follow wikipedia behaviour polici promis whatev prevent disrupt ',\n",
              " 'lydia chukovski ive think nomin articl wpdyk day cant think worthwhil nomin perhap find interest fact  talk',\n",
              " '  stylebackgroundcolorffffa pad cellpad styleborderpx solid  backgroundcolorffffa verticalaligntop color hello  welcom wikipedia thank contribut free encyclopedia decid need help check get help ask  place talk page ask question pleas rememb sign name talk page click use four tild  automat produc usernam date final pleas best alway fill edit summari field use link facilit involv happi edit  width stylebackgroundcolorffffa stylewidth  borderpx solid ffffff backgroundcolorffffa verticalaligntop get start tutori  five pillar  get mentor edit page  upload use imag get help frequent ask question  tip ask question make comment request administr attent polici guidelin neutral point view  origin research verifi  reliabl sourc  cite sourc wikipedia  biographi live person manual style  threerevert rule  sock puppetri copyright  polici nonfre content  imag use polici extern link  spam  vandal delet polici  conflict interest  notabl classmainpagebg stylewidth  borderpx solid ffffff backgroundcolorffffa verticalaligntop  width cellpad cellspac styleverticalaligntop backgroundcolorffffa  commun  stylecolor build consensu  resolv disput assum good faith  civil  etiquett person attack  legal threat wikip',\n",
              " ' communist want noth critic man even fact  well find reliabl sourc prove say stalin insert articl instead complain talk page also difficult say mani kill figur rang  million',\n",
              " 'refer fals retract texa state board pharmaci send copi thank lift block add inform regard histori compani apothcur investig  follow complaint compound testosteron growth hormon may illeg dispens patient includ pregnant woman pharmaci board offici found insuffici evid disciplin compani issu letter warn  death howev may sever violat commit includ apothcur unlicens sell drug oregon',\n",
              " ' harland hand memori garden prod templat ad articl harland hand memori garden suggest delet accord propos delet process contribut appreci articl may satisfi wikipedia criteria inclus delet notic explain see also wikipedia wikipedia delet polici may contest propos delet remov date prod notic pleas explain disagre propos delet edit summari talk page also pleas consid improv articl address issu rais even though remov delet notic prevent delet propos delet process articl may still delet match speedi delet criteria sent articl delet may delet consensu delet reach endors delet articl person made substanti edit page pleas tag   talk ',\n",
              " ' im flexibl titl object call articl person name object afd chang suffici mayb worth anoth tri predent form titl go use think mayb someth specif victim right use home defens dont good answer  ',\n",
              " 'alway pleasur help new peopl catchup experienc one  thank organis talk',\n",
              " 'agre   apr  utc',\n",
              " 'welcom leav messag may repli immedi',\n",
              " 'champion leagu hey thank help creat fixtur group ',\n",
              " 'ie state flag   respect',\n",
              " 'wow realli piec work arent pal everi time proven wrong delet remark act though power realli dont get pleas gootersmooch shit stink know ok ok',\n",
              " 'block reason ive block dont know',\n",
              " 'butterfli see say howev analog would say brand appl appl brand thu shouldnt articl appl ipod product thu articl touch nano classic seem like differ model product',\n",
              " ' imag ljpg thank upload imag ljpg notic imag page specifi imag use fair use use wikipedia articl fail first fair use criterion illustr subject freeli licens imag could reason found creat provid substanti inform believ imag replac pleas go imag descript page edit add replac fair use disput without delet origin replac fair use templat imag discuss page write reason imag replac altern also choos replac fair use imag find freeli licens imag subject request copyright holder releas similar imag free licens take pictur upload fair use media consid check specifi imag fulli satisfi fair use criteria find list imag page edit click  link note fair use imag replac freelicens altern delet one week upload describ criteria speedi delet question pleas ask media copyright question page thank ',\n",
              " 'sure compromis someth ',\n",
              " ' imagesdkycoakarijpg tag imagesdkycoakarijpg  provid fair use rational believ imag accept fair use accord wikipedia polici pleas provid rational explain much accord fair use rational guidelin imag descript page pleas also consid use one tag list wikipediaimag copyright tagsfairus thank tex ',\n",
              " ' pri racheal android im afraid go quit useless comment moment dont book front quot howev came wikipedia articl origin see could help decid whether pri rosen fact android model articl make mention whatsoev someth realli puzzl think racheal pri might one  pri origin introduc racheal rosen meet jr isidor chang mind call pri pri simpli use name cover know  deckard say racheal pri eye fact differ note cloth  hear racheal pri kill im assum kill goat went conapt build  pri run toward deckard die last word along line meant sure dont know pri deckard never met someon els  pri also run toward outsid conapt oppos insid  ie follow deckard racheal hole rest andi  racheal realli distraught hotel room find pri last android would make much sens fear rather android model offer kill calm would  claim kill ie bluff pri death possibl commit suicid admittedli there coupl snag racheal work rosen corpor hide runaway unless ran away corpor deckard origin test anyway id like add someth articl  obvious noth conclus acknowledg possibl anyon would like blow huge smoke hole theori havent thought wont would stop put time tri figur one would handi ',\n",
              " 'say remov sentenc here think idea may novel ye said hate muslim howev need look context heat demonstr regard certain limit issu shout hate muslim evid hate muslim gener mani mani muslim world cannot put littl box repres involv demonstr put shout demonstr rel limit lead paragraph without proper contextu implic made hate muslim involv demonstr would violat variou wiki polici ',\n",
              " 'mislead inappropri citat use',\n",
              " 'st john colleg univers sydney hi inform add st john colleg univers sydney page cheer',\n",
              " 'twa glitch go review silicon carbid start anoth user talk  contrib',\n",
              " 'marmot block jarlaxleartemisfor one week repeat violat arbcom order also due person attack   septemb   utc',\n",
              " ' your welcom thought mj asid topic alreadi got much traffic liza minnelli said today autopsi come hell go break looseap ',\n",
              " ' unit state hey cal write let know unit state edit thank revert inappropri rubbish comrad sarcasm intend tri find someth els posit suggest talk ',\n",
              " 'sad see unit arab republ collaps arrog egyptian offic much would achiev unit arab republ still arab person dream see arab countri unit one flag',\n",
              " ' also usersatellit geometri state although usual form explicitli receiv process conceptu time differ arriv tdoa defin measur geometri part receiv process dont confus peopl mention ',\n",
              " 'id like unblock make edit current erin burnett page take disput resolut notic board sinc obvious fact side im outnumb one two thank',\n",
              " 'third warn stop ad pirat warez site wikipedia',\n",
              " 'would much like know think appoint page knowledg meru officilli place watch talk page mediat nichola turnbul talk process enter arbit comiti intervent outplac talk nichola turnbul tonight disagre action appoint make decis head member arbitr comiti kind step asid anihil previou playground know motiv act nobodi ever seen seem go reveng reason would worth mention elect admi first thing block ban fox site dont know awar  hour ago dont go overstep wiki rule previous made decis talkpag act unbalanc provoc chao wasnt fact wasnt far th septemb isnt role make thing work anoth veru import thing walk articl settlement propos recommend read care dont answer recent edit therefor place ever articl part moov articl follow suit children fight leav grow right thing articl one writng fact insert meru talk page made intranc situat degener much attempt calm temper creat new tangibl goal better opportun solv dilema revert war banish war stop insert articl constant edit articl peopl fight time perform changement articl save end late hade arriv talk like csar ban person wihtout valuabl argu explain without warn taken role assign meru n turnbul day ago time arriv save articl burri hachet head alreadi roll thank knowledg midnight saturday even kind action requir presenc user agreement opinion presenc igor talkpag none busi busi arbitr comiti decis patient leav right decid know chain command wiki appoint chain event ban take place speciali definitiv ban guy begin revert phase togeth isnt guilti well personn friend discuss forum case prefer right wrong shouldnt make intervent well stay neutral judgement sound arbitrari point even collegu meru didnt understood disagre make troubl tell alon person support action rjb exact person known insult peopl often revert time start revert war complet iognor previou concensu made contain biographi talk page destroy work peopl taken sever week obtain didnt bane socket puppet  hour ago came someon warn trigger hush come first time late would much like know pleas move disput differ blow one anoth differ place take bad saturday night mood swing somewher els talkpag unless satisfactori explain happen cant ban igor holger beck nielsen go make intervent talk page hope know person notic  person made revert war insist ybm rjb close contact fact quiet sure rjb socket puppet ybm way',\n",
              " 'never mind seem misread rule  thought disregard result th place team determin second place team rank sorri',\n",
              " 'revert revert narr warren south page',\n",
              " '',\n",
              " ' basic grammar style error lead embarrass lose conscious offic turn garner side  offic fact lose conscious numer violat mo need correct problem cours knowledg exist content mo rare  ',\n",
              " 'next rfa jahiegel ever agre run amala well rfa bat averag far  hope stay way kafziel done  crztalk',\n",
              " 'anoth flc thank comment support wikipediafeatur list candidateslist schedul monument taunton deanearch flc director given permiss open anoth flc use format etc wikipediafeatur list candidateslist schedul monument south somersetarch wonder would kind enough take look one let comment talk',\n",
              " 'point want rewrit entir plot detail dramat descript manner could trim afterward use precis structur result concis summari contain notabl detail requir make good plot way would great plot movi sinc video game thought would best start power work way make concis plot seen arkham citi current plot mean final plot there still trim wikilink reword copi edit think reader perspect two point youv made captur attent still work im sure great result end ',\n",
              " 'provid exampl ',\n",
              " ' second wave done protodrak ive comment inlin warrant n ',\n",
              " 'carri discuss relev page',\n",
              " ' well first go address basic stuff help ion futur whenev want add new topic someon talk page either click  top page fill header add  header  click edit page type want header creat header see help keep convo organ rd th header page automat tabl content help organ secondli importantli whenev add info talk page alway sign statement either type  click littl signatur button edit toolbar gener signatur timestamp link user page address concern info articl main thing wikipedia cannot origin research mean inform cannot ad unless respect sourc back websit news articl etc someon read somewher saw tv doesnt mean ad encyclopedia also wikipedia tri clean trivia section part type inform notabl enough tend random trivia section also tend list random inform wikipedia would recommend let go like time hope sooner later trivia inform remov ad articl hope keep edit though tri make sure stay away trivia alway sourc edit thank talk  contrib ',\n",
              " 'casa sea page speedi delet page unwarr said pov problem exampl crimin orginaz wealth info crime littl info defens mean fairli treat there page crime self dont deserv place histori dont enough info defend that case dont understand could nazi page',\n",
              " 'look admin edit histori filthi',\n",
              " 'first paragraph lead see wplead',\n",
              " 'solomon ad fuel fire good great articl april th shenanigan go topic link httpnetworknationalpostcomnpblogsfpcommentarchivetherealclimatemartianssolomonaspx',\n",
              " 'america  speaker everi languag planet cutoff french',\n",
              " 'agha sumair khan babar talk  contrib',\n",
              " 'articl turn antiarab tirad way repres truth',\n",
              " 'thank adivd jame apolog probabl tell new read sent work tonight hope come relev reason east craig unit afc inclus wikipedia talk',\n",
              " ' copyright issu wordimagesoundplay hello concern contribut wordimagesoundplay cannot accept copyright text imag borrow either web site print materi articl imag appear direct copi httpwwwncsxshopcomcgibinshopslpmhtml copyright violat wordimagesoundplay appear qualifi delet speedi delet criteria wordimagesoundplay tag delet may delet time see messag text materi pleas consid rewrit content cite sourc provid credibl believ articl imag copyright violat permiss copyright holder releas content freeli gnu free document licens gfdl one follow permiss author leav messag explain detail talkwordimagesoundplay send email messag permissionsen wikimedia dot org see wikipediarequest copyright permiss instruct note origin websit state reus permit gfdl releas public domain leav note talkwordimagesoundplay link find note copyright materi send email address associ origin public permissionsenatwikimediadotorg postal messag wikimedia foundat permit reus gfdl note done talkwordimagesoundplay howev text content may want consid rewrit content word thank pleas feel free continu contribut wikipedia  ',\n",
              " ' abl understand first part',\n",
              " 'hmmnot avail laptop sorri tripl ',\n",
              " ' welcom discuss page pleas leav messag use plu tab top page send messag pleas review guidelin list right wikipedia talk page form commun two differ user talk page meant discuss thing relat wikipedia featur articl nomin administr nomin miscellan inform regard articl add new messag press plu tab top ad messag manner recommend unless topic last list talk page alway sign messag four tild  let know sent messag use wikipedia discuss place thing wikipedia relat topic see wpwhat wikipedia pleas properli indent post either ad asterisk  make bullet point colon  indent text add colon consecut accordingli toc ',\n",
              " 'edit ta page elliott wave long time editor known background whether prota antita never saw conflict edit okay elliott wave pseudosci categor although believ work way prove ew sadli fit pseudosci descript even confid isnt ta gener work there enough posit academ evid make categor question best',\n",
              " 'wpnopreempt gener advis protect persist problem probabl right like happen other drivebi know noth event liabl caus drama blind principl ill keep eye feel free go wprpp',\n",
              " 'word thank id like thank help categori section  wasnt awar parent categori tag thank inform',\n",
              " ' music academ propos delet templat ad articl music academ suggest delet accord propos delet process contribut appreci articl may satisfi wikipedia criteria inclus delet notic explain see also wikipedia wikipedia delet polici may prevent propos delet remov notic pleas explain disagre propos delet edit summari talk page also pleas consid improv articl address issu rais even though remov delet notic prevent delet propos delet process articl may still delet match speedi delet criteria sent articl delet may delet consensu delet reach agre delet articl person made substanti edit page pleas add top music academ gwsimul  talk ',\n",
              " ' dead link extern link entitl curtain wall thcenturi architectur longer link intend destin site move  ',\n",
              " 'process question arbitr remedi pure curios apolog advanc end one stream peopl knock door today im genuin wonder notic remedi date delink case updat base revis pass recent im wonder there usual way case page updat someth like appear overwrot new remedi top old one origin date vote total remain place  result without check histori look though origin remedi differ remedi revis earlier new remedi enter current date vote total origin remedi place collaps box probabl simpl differ clerk differ approach guess littl surpris there defin process someth like regard',\n",
              " 'histori dominion pakistan plan write histori dominion pakistan articl',\n",
              " ' dont nonparti editor doesnt work bank remov anonym articl well otherwis ill ask pleas keep sarcasm alleg synthes happi ',\n",
              " ' masondixon pleas add commentari person analysi wikipedia articl multipl revert refer sail philadelphia masondixon articl violat wikipedia neutral point view polici breach formal tone expect encyclopedia thank  ',\n",
              " ' far know isnt thing dont think much librari rather hard cash time fascin project though wonder book mw read access would way go godwin would cours fruit im current delhi india  overwhelm amaz ',\n",
              " 'kmarinass note first edit english wikipedia articl nayah translat french wikipedia articl httpfrwikipediaorgwikinayah ip person respons copyright violat  ip pari franc geobytescom thank bless dayexpert section wikipedia    karma    talk ',\n",
              " 'yeah take silenc say im right your afraid admit',\n",
              " 'latest cidesco articl delet blatant copi vio realli want write articl pleas write find reliabl extern sourc use',\n",
              " 'thank would use ping thank includ sentiment appreci time took add much appreci talk',\n",
              " ' glanc contest time talk page that init remov prod realli right put back articl take afd process ',\n",
              " 'wowthank let us share amaz insight also hope cantones languag continu prestigi domin preval amongst cantonesespeak peopl didnt realis  that one billion cant count chines peopl speak cantones eager join cantones languag class understand hong kong pop music film authent origin languag obvious read subtitl watch dub film listen putonghua version hong kong pop music would tiresom also suppos school across china introduc cantones languag class parent make sure children go fluent cantones sake futur cours',\n",
              " ' good skater actual appreci high qualiti talk page stalk cheer talk ',\n",
              " 'wikinut thank experi wikipedia test work page creat soon delet pleas use sandbox test want take look welcom page would like learn contribut encyclopedia aeropagitica',\n",
              " 'buy one anyon know buy pocketst besid ebay sinc account block basic cant anyth live australia way dont know help ive search web havent realli found place sell place talk anyon help would greatli appreci main reason want one play chocobo world ffviii ive wait year play  preced comment made grevenko sereth   octob  utc',\n",
              " 'unblock sorri recent disrupt edit say make edit u would becom confid think make edit u fear u blo ck unblock give chanc',\n",
              " 'karl von plettenberg might like check recent chang karl von plettenberg believ link order griffon sword order white eagl correct',\n",
              " 'inform trivandrum intl airport  best airport  aarem weasel unreal statement pleas remov seem reach consensu obvious unreal statement remov suggest pleas  distanc airport termin  anyon trivandrum know km distanc airport fyi km mention even new termin still built ride hospit termin build km would mean km citi centr thampanoor pleas sort thank  mountainwhiskey',\n",
              " '  juli  utc apolog made move told help desk move per discuss articl compani acd telecommun compani ',\n",
              " 'day object page move',\n",
              " 'repli delet  par cours wikipedia',\n",
              " ' page protect keilana pleas explain semi protect page huma abedin  state vandal clearli case pleas see biographi live personsnoticeboard matter dealt  explain action  understand new one first piec inform cont wikipedia decis made understand action  rule vandal explain believ abus power contib clearli dosent fit term  ask reaccess action decis made wikipediarequestsforpageprotectionhumaabedineditctalkchistoryclinkscwatchclog common practic edit disput uninvolv admin keilana semiprotect page reduc intens disput case tone wikipediabiographiesoflivingpersonsnoticeboardgossipmagazinesasreliablesourc seem semiprotect right call stabliz articl discuss continu talk page reliabl sourc mbisanz talk would question uninolv actal give messg left talk page dont worri youll abl edit page  day enjoy bol wait five day wait youll abl edit semid page dont worri give keilana time she offlin right bol retriev httpenwikipediaorgwikiusertalkfreehuman intend ask someon examin action clearli statd vandal reason protect would made contibut talk page sort concensu action also ask explain relastionship sort remov inform  would also like know chang id  thank ad inform talk page els find help  also note add fact matter list protect page talk page articl  creat name page regard gossip mag tittl read info would understand hillari clinton interview articl request unprotect pleas go wikipediarequestsforpageprotectioncurrentrequestsforunprotect ask keilana examin id wait respond satisfi wikipediaadministr noticeboard leav person inquiri keilana answer desir mbisanz talk respond editor talk thank mb keilanaparlez ici would like know articl brought attent would also advis post inform talk page articl thank dear mbisanz thank much respond concern talk page ive post person talk want admin action look alway seek input god forbid recal youv great help recent your readi rfa id realli like nomin youv got space  best keilanaparlez ici retriev httpenwikipediaorgwikiusertalkmbisanz atual post hello sorri couldnt attend concern earlier semiprotect page reason state elect season unit state articl promin polit figur mr clinton particularli vulner henc protect disput reliabl sourc protect articl cool disput protect isnt endors current version ulterior motiv see protect policyinform gener admin doesnt need consensu protect page disput ongo problem administr action thank express concern feel free ask talk page question need someth best keilanaparlez ici retriev httpenwikipediaorgwikiusertalkfreehuman inform ad keep record complaint add peopl read page understand copi protect bought inform protect board  fact brought board ad talk page peopl could provid inform',\n",
              " 'continu chang otherwis left shallow husk idea',\n",
              " ' definit although andersen definit film gri often cite charl higham joel greenberg john tuska use term well differ sens work articl jame naremor book noir give good overview subject  ',\n",
              " 'sinhales naga much found fact sinhales unif hela group sinha also much famou fact  hela group island origin hela race hela combin raksha yaksha deva naga raksha extreamli power histori may lost power due battl time start write histori raksha deva wasnt power naga power author time kingdom evid rule two kingdom kelaniya jaffna other live small group  kuveni stori rajarata area rule yaksha vijaya  gener pandukabhaya king tend suffix tissa naga name tissa name come sinha tribe reason ad naga name repres naga tribe say later naga royal famili one  kingdom  probabl nagadeepa made connect royal famili rajarata naga came anuradhapura join sinha yaksha actual abl domin other kingdom nagadeepa lost histori rajarata tri gain nagasinha ident yaksha rule kelaniya rule maya rata also much evid naga domin tribe with core kingdom protect king day without clear power king cant surviv yaksha clear control rajarata period pandukabhaya later naga influenc kingdom start growth due connect royal famili sinc conflict tribe hasnt end nagasinha king wasnt fool rule middl yaksha day also see clear discrimin yaksha introduc superior naga defin solosmasthana also yaksha leav rajarata come area ritig jayasena one naga domin rajarata maya rata still other may control malaya rata ruhuna sl unifi tribe basi sl convert buddhism wasnt requir unifi tribe base religion sinc ruhuna also accept buddhism due fear asoka rajarata king could made brother  mahanaga king ruhuna without consider resist much evid sinhales mainli consist naga',\n",
              " ' bia critic segment fail mention part naacp racist articl fail point fail introduc clich segment bash bush cant blame someon want speak obvious racist venu ',\n",
              " 'make one',\n",
              " 'thank news remov told truth ',\n",
              " ' think preced maintain also dont chang brendon chanc return return vote clearli chanc return vote someth evict descriptor need clearli depict vote happen honestli spit week  clearli indic happen vote didnt happen doesnt mean note tabl manner chang appli similar nomin tabl big brother articl well keith cassi domin enter hous short period time seen housem put guest wrong need discuss perman result ucard  ',\n",
              " 'advic would suggest read wikipediath last word give help tip continu campaign im make actual contribut',\n",
              " ' ceremoni earli year section way back home conquest khwarizmian empir genghi khan perform ceremoni grandson mongk kublai first hunt  near ili river ceremoni could expert th centuri mongolian cultur mayb drop name say manhood ceremoni someth ',\n",
              " 'homer simpson sorri dont time right perhap time end septemb',\n",
              " 'declinethi convinc wont disrupt wikipedia ',\n",
              " 'pleas provid your opinion afd debat articl ive creat httpenwikipediaorgwikiwikipediaarticlesfordeletionkhitaiconan',\n",
              " ' that fine nonsens ego trip realli absurd realli think time wptea vorlath dont im will accept order howev alpaugh ',\n",
              " 'call demiurg creator god rememb',\n",
              " 'model deriv field  meter round measur usual height temperaturemoistur measur near ground level  meter think temperatur rel humid see report news model still dont good handl  meter temperatur mo model output statist still exist  meter standard height wind measur hear news wind south  mph  meter  foot level sorri delay respons',\n",
              " 'odd edit alan came across edit accorrd adam aircraft site englewood found edit cours air method address site diffr vandal turf war kind ',\n",
              " 'interest rule appli  edit one editor rule work one editor team  unfair way  editor team one editor clearli rule fair good case  editor versu one reason case bailey win give good argument simpl logic statement made go base wisdom claim blank sure mistak sorri glad came back clarifi baley',\n",
              " 'ceas vandal ill polit request immedi ceas vandal remov sourc devil may cri  page dont involv administr',\n",
              " ' tfa nomin hello may  tfa nomin initi go nomin heinrich bar posit see youv taken slot possibl move date may revolut earlier one understand occur throughout week may   talk',\n",
              " 'breein  im glad love record remind us ignor',\n",
              " 'hello would like rais concern two vandal usernoclador  usermrmacman edit articl albanian militari non correct block two occas reason tri talk reason listen even chang word put discuss seem like attack would get ban would realli appreci take action user provid one sourc edit  year old even match figur inform given sourc state albania oper  tank usernoclador wrote tank inventori  match sourc everi time fix inform match sourc revert also ad pvo banner peopl agre sourc keep remov citi edit reason keep chang older inform way wikipedia disput articl give let wari let use sourc least quot sourc correctli make number top head',\n",
              " 'valid content page pleas perform manual merg talk',\n",
              " ' interest ill wait see someth third parti sourc though btw know use mean forc world call istanbul also u would suspici read encyclopedia sinc doesnt say word anyth happen  ciao ',\n",
              " 'im sure fred may impact cape verd depress anyon confirm disprov',\n",
              " ' comment actual think that soft drink singular may chinotto drink one trademark chinotto that one say notabl enough articl ',\n",
              " 'guy check land content problem date releas exampl farmbrough   octob  utc',\n",
              " 'last bullet point third bullet point even though part rule nation within british empir tendenc mani scot perceiv victim english coloni cultur imperi within british institut perceiv marginalis coverag scottish affair bbc seem manifest scottish cring understand cring essenti sens inferior embarrass thing scottish felt scot someon manifest scottish cring would therefor unlik feel hard done marginalis coverag scottish affair bbc would like acknowledg marginalis see natur proper',\n",
              " ' hello thank much ye unfortun someon decid go ahead delet page anybodi could mediat  day discuss still much activ warn given delet consider fact request mediat resolv seriou question pertain bia badfaith also delet review shown doubt close admin even read afd argument properli probabl wasnt even awar mediat request admin say clear consensu fact claerli shown afd advoc delet could motiv statement instead chose default anyway delet endors told onu proof lie yet address everi singl critic repeatedli wherea could submit proof statement also mani support present argument keep probabl outweigh number want delet argument never address guy delet review tell contribut zero weight peopl want keep firsttim user delet review also prove unhelp opinion also bias nobodi serious consid argument rais realli prepar read afd discuss properli idea next fact anyth done extrem disillus process obviou prejudg lot wikispeak employ prove unsuit rather argument actual object consid anyway thank willing help even though appear late ',\n",
              " 'bleaney need mention free school academi irrelev academi new anyway utc state school autonomi leav alon stop edit war',\n",
              " 'know place vandalis page block ',\n",
              " 'lisa randal jewish woman queen whose father chang last name help navig world employ without jewish tag attend steven institut technolog hoboken new jersey sourc httpglobalpioneeringcomwplisarandallisafoolsgeniu pictur nose httpwwwkitpucsbeduothereventsrandallimagesfriendrandalljpg',\n",
              " 'question notic ad name entri  sorri forget thank ad question  stand quest true neutral edit',\n",
              " 'welcom hello  welcom wikipedia thank contribut hope like place decid stay page might find help five pillar wikipedia edit page help page tutori write great articl manual style hope enjoy edit wikipedian pleas sign name talk page use four tild  automat produc name date need help check wikipediaquest ask ask  ask question place helpm question talk page welcom',\n",
              " 'revert text  hi wonder revert addit made sydney church england grammar school one peopl continu edit artic made vandal ad stuff futur school current student tell vandalsim made school boy speak headmast ',\n",
              " 'moment dont feel comfort comment afd ive start submit articl ive submit  say articl isnt worthi perman delet dont know right word mayb solemn grave seriou task wikipedia anoth reason job one hardest',\n",
              " 'quick  cent thank gregkay comment proven record well inform contribut quick comment thread your first one done pot kettl hill yet black still least admit least evid chang comment editor',\n",
              " 'south yakutia hydroelectr complex set propos hydropow plant south yakutia river like uchurtimpton aldan olyokma overview complex includ  plant total capac  mw averag annual product  billion kwh  prioriti consid miduchurskaya uchurskaya idzhekskaya lower timptonskaya hpp total capac  mw annual output  billion kwh',\n",
              " 'hand god game pertain  game fals game cite redskin fan popular media origin hand god pertain  world cup soccer match england argentina therefor entir phrase delet',\n",
              " ' templat talkdid know read rule nomin best wish  ',\n",
              " 'iono play perform broadway help preicat',\n",
              " 'bartlett famou quotat p entri eleanor roosevelt state better light one candl curs dark motto christoph societi',\n",
              " 'probabl good idea ill take look best copiou free time',\n",
              " 'tabl perhap format make relationship clear',\n",
              " 'remov warn pleas read discuss press button assum admin right pleas kind review care ackoz',\n",
              " 'user vandal page fault other share ip caus troubl whoever maintain websit pleas stop send warn messag happen view page',\n",
              " 'suppos want clean act vow never swear matter idiot situat ever cant account creation block  dont believ chang fortun give peac chanc',\n",
              " 'yeah agre page remov poor anyway',\n",
              " 'david speak',\n",
              " 'talk death leelah alcorn neiln believ issu warn error toward pleas retract section contribut truth benefici continu send messag warn content report spam bot frankli behaviour exhibit characterist final comment restor section contribut page mention subject report state previous',\n",
              " 'languag simplif embed represent worldview map territori within simpl view find bud complex platitud littl new increasingli novel way look old thing key whether necessari posit outlook help one recogn serendip solv problem that meant sagaci state mind neg outlook help wikipedia good reason avoid posit outlook discourag sagac here relev encycloped platitud big use use wikipedia use futur treat user use',\n",
              " ' republ rc seabe hi niteshift thank interest republ rc seabe section aircraft fiction interest idea suggest other may sorri didnt realiz anyon want discuss work first submit seabe piec recent im new type edit discuss sinc tri made signific chang origin piec find best footnot could find write wikipedia page challeng interest check page weekend look forward hear thank archivist robert ',\n",
              " ' attn whoever keep revert totalitarian part widespread critic castro regim part embargo rational wherea castro label anyon oppos fascist imperialist read quot czechoslovakia stop tri push perspect guis npov   mar  utc',\n",
              " 'rewritten econom section thrown lot pessimist unsubstanti garbag  bella juli ',\n",
              " 'well other ',\n",
              " 'httpenwikipediaorgwindexphptitleusertalkmichaellaudahnredirectno appar learn warn im twenti year older probabl seen bit life cf httpworldimprovernetenenhtml  think someon like teach look selfdescipt case youv forgotten obviou reaction grave exagger therebi show bia mention kind automat reestablish statu quo ant mechan guy upon edit attempt appar total brainless procedur worthi hotlin robot suggest tri find bia owe kid apart dont care someon like choos',\n",
              " 'thank bedford great holiday take care take time reflect season realli import appreci wikipedia',\n",
              " 'unfortun lot misinform kodachrom film must sent sinc one remain lab world frequent contributor film process forum photonet see time unfortun wikipedia websit constantli push top googl confus photograph often land',\n",
              " ' certainli httpwwwdavidstrathairncommediafilmhtml sever wmv file taken hbo special belong copyright hbo see use permiss see note say copyright infring intend doesnt say copyright infring  becau ethey say didnt mean doesnt mean didnt happen page also copi featurett commerci avail dvd copyright one httpwwwdavidstrathairncommediatvhtml whole scene taken hbo show soprano  copyright hbo dont see use permiss anywher httpwwwdavidstrathairncommediaradiohtml sort excerpt radio show own respect station see permiss given either doubt clip copyright origin owner evid post owner permiss therefor reason conclus copyright violat bar evid contrari  talk ',\n",
              " ' thank  agre chang wrt incom declin exampl mayb previou sentenc would comprehens chines reader ',\n",
              " 'sonata notabl day day sens word articl reubk sonata im assum refer establish notabl includ signific sourc subject case issu music time well public juliu reubk  note kevin bowyer record th psalm need find publish work discuss sonata articl publish wikipedia see golden rule talk',\n",
              " 'martyr crdoba hi arab page martyr crdoba   move page      christian cordoba execut justifi neutral true accord name convent use common name accord sourc besid  person werent execut tortur death doubt call execut want opinion thank happi new year',\n",
              " ' cannot say intent assum bad faith tri say someth wasnt even heat comment made took wrong way futur wont use cancer peopl take offens understand problem certain extent usag case meant overt person attack cheeki respons georg also dont forget block nableezi call other cunt ',\n",
              " ' dab repli dab everybodi forget whether consid theist atheist time edit articl realli shouldnt matter job research opinion report predilect convict realli noth oh realli tell dab atheist answer question say realli shouldnt matter matter theist tri say someth neg atheism tri collect useless critic atheism proreligi websit look theist dont understand atheism properli littl knowledg scienc understand mean reason scienc becom atheist theist cannot make distinct intellig design evolut fail understand intellig design pseudosci evolut valid scienc opinion tri jame buchanan minist recent c lewi lewi atheist becam convinc theism later becam christian particular doubt lewi intellig man publish view theism person fail convinc reason certainli worth hear plain silli dismiss illegitim view dont seem neutral point view recommend studi c lewi neutral cs lewi christian apologet think view silli c lewi angri god exist atheist angri god exist know god exist angri someth even exist strongli believ religion illus man must set free illus grow matur ',\n",
              " 'calgari climat datacalgari climat data',\n",
              " 'welcom hello  welcom wikipedia thank contribut hope like place decid stay good link newcom five pillar wikipedia edit page help page tutori write great articl manual style hope enjoy edit wikipedian pleas sign name talk page use four tild  automat produc name date need help check wikipediawher ask question ask talk page place helpm talk page someon show shortli answer question welcom  materi wish other edit otherwis inappropri wikipedia place person web site mani free lowcost web host email weblog servic wide avail good altern content unrel wikipedia might also want consid wikic wikistyl commun collabor thank experi wikipedia test work revert remov pleas use sandbox test want take look welcom page would like learn contribut encyclopedia thank',\n",
              " ' ill tri talk  hope satisfact  talk ',\n",
              " ' team requir fix team need fix hi someon pleas chang team list round  bye cant figur mani thank  ',\n",
              " ' thf perus wikipedia late saw cooler sane head seemingli prevail includ thf first aei director misfortun encount saw edit didnt like came vengeanc lobbi ban wikipedia defam talk site ye awar mean word sinc also attorney defam  libel exact  remov time threaten suit know wiki doesnt like  reap sow thf threaten husband frivol litig outsid wikipedia call never heard time wiki cliqu would could listen say occur idea ban dont care point kafkaesqu experi never want edit said grate appear other abl expos  even took differ issu entir particular interest michael moor debat aei one power polit influenc republican parti thf quit eyeopen rare ever seen anyon ruthlessli disparag other fals inform guess profession thf public figur attempt hide wikipedia claim hobbi laughabl astonish anyon fell mani good call mayb hope wikipedia im hold breath',\n",
              " ' photo gray beak whale see cover current issu current biolog use comparison realli stupid idea hindsight creat lot confus appear numer articl spadetooth whale your welcom ',\n",
              " ' rfc lead includ owner descript  without give undu weight reliabl sourc per rfc  peopl oppos entir includ owner descript    support idea includ make sentenc neutral give undu weight sourc say make new rfc make bold edit mannjess suggest met definit revert point chang lead stormfront white nationalist supremacist neonazi internet forum internet first major hate site maunu suggest version stormfront white nationalist supremacist neonazi internet forum internet first major hate site black websit founder state site purpos promot white supremaci rather white pride white nation six vote oppos previou rfc still vote ',\n",
              " 'presid obama fail make consensu congress juli  presid obama enough consensu congress congressman john boehner broke talk regard issu debt ceil',\n",
              " 'septemb  utc apologis languag pleas understand frustrat tri explain wplegal andreclo fli complet head frustrat irrat stubborn behaviour context situaton would unreason ask controversi paragraph read citat requir tag afford reason opportun produc one origin deni believ point turn shitstorm editingwar thank refresh final abl speak someon ration  ',\n",
              " 'speech benefit benefit tongu twister clinic studi ',\n",
              " 'hello jamesgreat post first messagei ask nepalichoro help creat topic one mall kathmandu',\n",
              " 'detail hani trial belong complet separ wikipedia articl ',\n",
              " ' shorter liddel  scott ancient greek english say ancient greek  meant sort grain use fodder hors prob coars wheat spelt articl spelt say may emmer ',\n",
              " ' barnstar almost give heart attack barnstar almost give reedi heart attack barnstar may award anyon enhanc mediawiki work almost give reedi heart attack barnstar grate award platonid incred servic mediawiki everyday volunt time help mani editor technic question alway patient kind give editor oil keep wikipedia run thank much  c ',\n",
              " 'think arent bit interest improv wikipedia fact interest would also realiz wonder thing scientif report point wikipedia rule follow ok use work benefit other must prove report explan acceler plastic deform fals doesnt benefit anyon report delet refer pleas prove wrong im interest abil match mathemat model realiti',\n",
              " 'big deal  essenti read descript articl basic two descript word littl differ  feel ',\n",
              " 'welcom hello  welcom wikipedia thank contribut hope like place decid stay good link newcom five pillar wikipedia edit page help page tutori write great articl manual style hope enjoy edit wikipedian pleas sign name talk page use four tild  automat produc name date question check wikipediawher ask question ask talk page welcom call collect',\n",
              " 'unblock user block ip  week upon request thank take care mandat registr user whitelist edit use known ip cach start becom pretti high list prioriti wikipedia success long term best regard',\n",
              " 'read refresh follow ftcom full version year ago india scar worst sectarian violenc sinc partit  muslim kill pogrom western state gujarat ostens spark arson attack muslim train kill  hindu activist human right organis india us europ implic two organis wellorchestr attack vishwa hindu parishad vhp world hindu council youth offshoot bajrang dal devote monkeygod hanuman financi time investig establish group receiv extens fund indian abroad collect mainli taxfre chariti donat front organis us uk fundrais come increas scrutini  link group india rule bharatiya janata parti bjp behind vhp bajrang dal stand quasiparamilitari bodi rashtriya swayamsevak sangh rss associ nation volunt mother organis hindu revivalist bjp describ jawaharl nehru india first prime minist indian version fascism rss centr protean network front organis structur facilit armslength moneyrais also make easier rss deni incit agit muslim christiansth rss spend heavili welfar religi school islamist group muslim world  danger world woken ostens charit activ one reason group success also help pull donat peopl unawar money use uk formal investig two rss fundrais affili consid inquiri vhp us also start care scrutinis rss front organis probe go ahead unimped washington ambit develop strateg allianc india counterbal china weight asia also read financi time articl full articl ',\n",
              " ' hello tom thank repli correct laugh danni muse depress funni see cultlik mental action especi door mani public easili fool danni type fals reason care make person attack attck fals reason critic fals manipul argument deliber attempt deceit still stand interest see criticis call peopl idiot pig tom one rule blind spot other danni need realis make case ration wild neg propaganda slipperi fals reason regardless religion train way excus use manipul twist reason hope one perceiv veil deceit lie conclus incorrect point make time out seen apologis rude angri know mani suck religion member speciou often twist reason point still stand regard central post  juli ',\n",
              " 'alright consolid list main entri thank help',\n",
              " 'ibn yunu hi zerida regard ibn yunu actual born baghdad later move egypt still left egyptian categori sinc live probabl live life hope agre arab egyptian time  anoth famou arab egyptian astronom mashallah provid sourc mention egyptian get continusli remov persian pleas look cheer',\n",
              " ' bh indian nobl look pov statement untru indian head freakin ugli good catch misguid pov what doc ',\n",
              " 'current make unreferenc claim kent hovind sell book along fourth reich rich',\n",
              " 'well nice tri user go let neg inform claim ministeri licens fabric got licens upload sourc remov anyway also paragraph disjoint sentenc would difficult restor articl piecem version earlier today good version peopl want rewrit etc fine user slice dice anyth neg thank anyway though',\n",
              " ' ankakalari propos delet templat ad articl ankakalari suggest delet accord propos delet process contribut appreci articl may satisfi wikipedia criteria inclus delet notic explain see also wikipedia wikipedia delet polici may prevent propos delet remov notic pleas explain disagre propos delet edit summari talk page also pleas consid improv articl address issu rais even though remov delet notic prevent delet propos delet process articl may still delet match speedi delet criteria sent articl delet may delet consensu delet reach agre delet articl person made substanti edit page pleas add top ankakalari talk ',\n",
              " 'im sorri guy deserv got choic want play fire jackass statement resolv previous treasurytag made formal complaint situat dealt know watch everi move mistak like mani other figur paranoid id think perhap conspiraci afoot track monitor edit stalk feint heart though dig past alreadi dealt',\n",
              " 'nayef vs naif nayef naif use interchang throughout articl link saudi sourc use naif western media gener use nayef correct need pick one use consist aco',\n",
              " ' rr hey care wprr hangov part ii agre currenc convert sinc film american film rest currenc use articl us dollar might want take talk page admin take rr pretti serious issu  hour block  allen ',\n",
              " 'canvass dougwel claim user canvass doesnt make opinion taint defi common sens thought might deni fact johnbod haploidavey canvass thought would much easier strategi implicitli admit inde canvass tri justifi involv despit come let realist cours canvass user legitimaci cours abstain discuss suggest otherwis sheer folli  ',\n",
              " 'deriv pastich illog rubbish neav great piti disput fail draw right lesson neav quotat page passag teach us anyth rosenberg even teach us someth hitler hitler word privat offici rosenberg reflect attitud everi strongman everywher toward philosophi put use hitler would differ attitud toward rosenberg philosophi would noteworthi goe quip uboat crew tell us lot book noth rosenberg book ',\n",
              " 'simpli redirect noth save',\n",
              " ' dougwel okay see your go respect wish attack done samev whether your ever go admit mention claim italian unif gave itali king presid prove unif gave itali claim spain rule napl sicili sardinia columbuss time sent five wikipedia articl said would prove call ignor care look articl might chang deliber selfserv need instead went wikipedia italian renaiss articl found state middl age  napl sicili sadinia rule arab norman seem right track monday borrow book italian rennais local librari truth napl sicili sardinia govern mostli arab norman time spain invol norman norman king queen marri spanish king queen part itali futur ruler includ second third gener nobl born italian peninsula said spain bit part itali time gener accept lion share belong arab norman samev gross exagger spain rule area time sad remind peopl edit wikipedia alway use exact truth regard samev attack rais believ correct way major peopl agre call someon ignor offens insult dictionari often point unfortun exist minor peopl meanspirit intent call peopl name hide behind fals angel face wellmeant wisdom dont buy type mental samev say crime ignor well ignor came italian matter websit wonder long take becom rooki like samev wikipedia pertain vernacularim interest slang attempt verifi futur like mani peopl prefer go librari search good book topic happen interest websit mani cook spoil soup feel case articl accurr librarian spoke monday say oh wikipedia joke nuff said',\n",
              " 'know frustrat right stupid place limit someon brain cell two eventu show clean mess meanwhil hang',\n",
              " 'understand well think sysop respons action trust commun time believ criteria reflect',\n",
              " ' entri appear wikipedia main page know column  septemb  ',\n",
              " 'accept abus perpetu problem',\n",
              " 'hi tim shuba claim violat wptruth wpnpov wpreliabl sourc prof frank j tipler omega point theori peerreview publish number world lead physic journal even nasa peerreview omega point theori found correct accord known law physic see post   may  utc detail matter refut exist within peerreview scientif literatur anywher els matter come editorship wikipedia decid whether someth true violat wptruth',\n",
              " ' must think differ imag sourc provid piogif simpli state screenshot use templat cours tag  love ',\n",
              " 'gotta love wikipedia cross wire sinc youv got invit avail moot point',\n",
              " 'sir gawain green knight thank bring attent ive alert editor done develop articl past sever month person take thorough look time tc',\n",
              " 'edit war pov push listen advic despit inform agf know usual kind cuntish stuff disrupt project talk ',\n",
              " 'check vote wplotd winner list top tcwpchicagowplotd',\n",
              " ' waldo pleas stop destruct edit edit work wikipedia thank waldo',\n",
              " ...]"
            ]
          },
          "metadata": {
            "tags": []
          },
          "execution_count": 25
        }
      ]
    },
    {
      "cell_type": "code",
      "metadata": {
        "colab": {
          "base_uri": "https://localhost:8080/"
        },
        "id": "tCqsm587JNqX",
        "outputId": "cf9a46c5-ee24-4bdd-8ce2-4c2352344d8d"
      },
      "source": [
        "len(cleaned_dataset)"
      ],
      "execution_count": 26,
      "outputs": [
        {
          "output_type": "execute_result",
          "data": {
            "text/plain": [
              "66225"
            ]
          },
          "metadata": {
            "tags": []
          },
          "execution_count": 26
        }
      ]
    },
    {
      "cell_type": "code",
      "metadata": {
        "id": "3lI0qAEDJNqX"
      },
      "source": [
        "df_merge['cleaned_text']=cleaned_dataset"
      ],
      "execution_count": 27,
      "outputs": []
    },
    {
      "cell_type": "code",
      "metadata": {
        "colab": {
          "base_uri": "https://localhost:8080/",
          "height": 279
        },
        "id": "0Dr54SK4JNqX",
        "outputId": "a5eadc5c-8b01-4fb5-8eaa-c96cd01529cb"
      },
      "source": [
        "df_merge.head()"
      ],
      "execution_count": 28,
      "outputs": [
        {
          "output_type": "execute_result",
          "data": {
            "text/html": [
              "<div>\n",
              "<style scoped>\n",
              "    .dataframe tbody tr th:only-of-type {\n",
              "        vertical-align: middle;\n",
              "    }\n",
              "\n",
              "    .dataframe tbody tr th {\n",
              "        vertical-align: top;\n",
              "    }\n",
              "\n",
              "    .dataframe thead th {\n",
              "        text-align: right;\n",
              "    }\n",
              "</style>\n",
              "<table border=\"1\" class=\"dataframe\">\n",
              "  <thead>\n",
              "    <tr style=\"text-align: right;\">\n",
              "      <th></th>\n",
              "      <th>id</th>\n",
              "      <th>comment_text</th>\n",
              "      <th>malignant</th>\n",
              "      <th>highly_malignant</th>\n",
              "      <th>rude</th>\n",
              "      <th>threat</th>\n",
              "      <th>abuse</th>\n",
              "      <th>loathe</th>\n",
              "      <th>cleaned_text</th>\n",
              "    </tr>\n",
              "  </thead>\n",
              "  <tbody>\n",
              "    <tr>\n",
              "      <th>72799</th>\n",
              "      <td>c2c3e01c11aa9524</td>\n",
              "      <td>If you're interested in the Administration pos...</td>\n",
              "      <td>0</td>\n",
              "      <td>0</td>\n",
              "      <td>0</td>\n",
              "      <td>0</td>\n",
              "      <td>0</td>\n",
              "      <td>0</td>\n",
              "      <td>your interest administr posit respect here exc...</td>\n",
              "    </tr>\n",
              "    <tr>\n",
              "      <th>121304</th>\n",
              "      <td>890cf8a350ea2d92</td>\n",
              "      <td>\"\\n\\nConflation of the two \"\"brook\"\" homonyms\\...</td>\n",
              "      <td>0</td>\n",
              "      <td>0</td>\n",
              "      <td>0</td>\n",
              "      <td>0</td>\n",
              "      <td>0</td>\n",
              "      <td>0</td>\n",
              "      <td>conflat two brook homonym cross two bodi wate...</td>\n",
              "    </tr>\n",
              "    <tr>\n",
              "      <th>125123</th>\n",
              "      <td>9d3dd53844fb20dc</td>\n",
              "      <td>The more neutral, less subjective term used by...</td>\n",
              "      <td>0</td>\n",
              "      <td>0</td>\n",
              "      <td>0</td>\n",
              "      <td>0</td>\n",
              "      <td>0</td>\n",
              "      <td>0</td>\n",
              "      <td>neutral less subject term use nonprotest chris...</td>\n",
              "    </tr>\n",
              "    <tr>\n",
              "      <th>111106</th>\n",
              "      <td>525dab606c392339</td>\n",
              "      <td>\"\\n\\n WP:AWB \\n\\nYou already seem to be approv...</td>\n",
              "      <td>0</td>\n",
              "      <td>0</td>\n",
              "      <td>0</td>\n",
              "      <td>0</td>\n",
              "      <td>0</td>\n",
              "      <td>0</td>\n",
              "      <td>wpawb alreadi seem approv would done anyhow a...</td>\n",
              "    </tr>\n",
              "    <tr>\n",
              "      <th>128987</th>\n",
              "      <td>b1ca628a1aa1c94f</td>\n",
              "      <td>\"\\n\\n Hiatus? \\n\\nEminem is finally done with ...</td>\n",
              "      <td>0</td>\n",
              "      <td>0</td>\n",
              "      <td>0</td>\n",
              "      <td>0</td>\n",
              "      <td>0</td>\n",
              "      <td>0</td>\n",
              "      <td>hiatu eminem final done hiatu say releas albu...</td>\n",
              "    </tr>\n",
              "  </tbody>\n",
              "</table>\n",
              "</div>"
            ],
            "text/plain": [
              "                      id  ...                                       cleaned_text\n",
              "72799   c2c3e01c11aa9524  ...  your interest administr posit respect here exc...\n",
              "121304  890cf8a350ea2d92  ...   conflat two brook homonym cross two bodi wate...\n",
              "125123  9d3dd53844fb20dc  ...  neutral less subject term use nonprotest chris...\n",
              "111106  525dab606c392339  ...   wpawb alreadi seem approv would done anyhow a...\n",
              "128987  b1ca628a1aa1c94f  ...   hiatu eminem final done hiatu say releas albu...\n",
              "\n",
              "[5 rows x 9 columns]"
            ]
          },
          "metadata": {
            "tags": []
          },
          "execution_count": 28
        }
      ]
    },
    {
      "cell_type": "code",
      "metadata": {
        "colab": {
          "base_uri": "https://localhost:8080/",
          "height": 195
        },
        "id": "ZKLbljn2JNqX",
        "outputId": "6869ed8c-9e7a-418c-fef9-180a54c0dcfc"
      },
      "source": [
        "dfnew=df_merge.iloc[:,2:]\n",
        "dfnew.head()"
      ],
      "execution_count": 29,
      "outputs": [
        {
          "output_type": "execute_result",
          "data": {
            "text/html": [
              "<div>\n",
              "<style scoped>\n",
              "    .dataframe tbody tr th:only-of-type {\n",
              "        vertical-align: middle;\n",
              "    }\n",
              "\n",
              "    .dataframe tbody tr th {\n",
              "        vertical-align: top;\n",
              "    }\n",
              "\n",
              "    .dataframe thead th {\n",
              "        text-align: right;\n",
              "    }\n",
              "</style>\n",
              "<table border=\"1\" class=\"dataframe\">\n",
              "  <thead>\n",
              "    <tr style=\"text-align: right;\">\n",
              "      <th></th>\n",
              "      <th>malignant</th>\n",
              "      <th>highly_malignant</th>\n",
              "      <th>rude</th>\n",
              "      <th>threat</th>\n",
              "      <th>abuse</th>\n",
              "      <th>loathe</th>\n",
              "      <th>cleaned_text</th>\n",
              "    </tr>\n",
              "  </thead>\n",
              "  <tbody>\n",
              "    <tr>\n",
              "      <th>72799</th>\n",
              "      <td>0</td>\n",
              "      <td>0</td>\n",
              "      <td>0</td>\n",
              "      <td>0</td>\n",
              "      <td>0</td>\n",
              "      <td>0</td>\n",
              "      <td>your interest administr posit respect here exc...</td>\n",
              "    </tr>\n",
              "    <tr>\n",
              "      <th>121304</th>\n",
              "      <td>0</td>\n",
              "      <td>0</td>\n",
              "      <td>0</td>\n",
              "      <td>0</td>\n",
              "      <td>0</td>\n",
              "      <td>0</td>\n",
              "      <td>conflat two brook homonym cross two bodi wate...</td>\n",
              "    </tr>\n",
              "    <tr>\n",
              "      <th>125123</th>\n",
              "      <td>0</td>\n",
              "      <td>0</td>\n",
              "      <td>0</td>\n",
              "      <td>0</td>\n",
              "      <td>0</td>\n",
              "      <td>0</td>\n",
              "      <td>neutral less subject term use nonprotest chris...</td>\n",
              "    </tr>\n",
              "    <tr>\n",
              "      <th>111106</th>\n",
              "      <td>0</td>\n",
              "      <td>0</td>\n",
              "      <td>0</td>\n",
              "      <td>0</td>\n",
              "      <td>0</td>\n",
              "      <td>0</td>\n",
              "      <td>wpawb alreadi seem approv would done anyhow a...</td>\n",
              "    </tr>\n",
              "    <tr>\n",
              "      <th>128987</th>\n",
              "      <td>0</td>\n",
              "      <td>0</td>\n",
              "      <td>0</td>\n",
              "      <td>0</td>\n",
              "      <td>0</td>\n",
              "      <td>0</td>\n",
              "      <td>hiatu eminem final done hiatu say releas albu...</td>\n",
              "    </tr>\n",
              "  </tbody>\n",
              "</table>\n",
              "</div>"
            ],
            "text/plain": [
              "        malignant  ...                                       cleaned_text\n",
              "72799           0  ...  your interest administr posit respect here exc...\n",
              "121304          0  ...   conflat two brook homonym cross two bodi wate...\n",
              "125123          0  ...  neutral less subject term use nonprotest chris...\n",
              "111106          0  ...   wpawb alreadi seem approv would done anyhow a...\n",
              "128987          0  ...   hiatu eminem final done hiatu say releas albu...\n",
              "\n",
              "[5 rows x 7 columns]"
            ]
          },
          "metadata": {
            "tags": []
          },
          "execution_count": 29
        }
      ]
    },
    {
      "cell_type": "code",
      "metadata": {
        "id": "enb4x8uFwwrV"
      },
      "source": [
        "# Lets apply tfidf to the text data for converting it into number vectors\n",
        "from sklearn.feature_extraction.text import TfidfVectorizer\n",
        "vect=TfidfVectorizer()"
      ],
      "execution_count": 30,
      "outputs": []
    },
    {
      "cell_type": "code",
      "metadata": {
        "id": "wiRdCp8t5Mkj"
      },
      "source": [
        "X=vect.fit_transform(dfnew['cleaned_text'])"
      ],
      "execution_count": 31,
      "outputs": []
    },
    {
      "cell_type": "code",
      "metadata": {
        "colab": {
          "base_uri": "https://localhost:8080/",
          "height": 195
        },
        "id": "dn_Acpe8DJMP",
        "outputId": "150fc52d-aee2-4406-f1e5-072c3bb5dd37"
      },
      "source": [
        "Y=dfnew.iloc[:,0:6]\n",
        "Y.head()"
      ],
      "execution_count": 32,
      "outputs": [
        {
          "output_type": "execute_result",
          "data": {
            "text/html": [
              "<div>\n",
              "<style scoped>\n",
              "    .dataframe tbody tr th:only-of-type {\n",
              "        vertical-align: middle;\n",
              "    }\n",
              "\n",
              "    .dataframe tbody tr th {\n",
              "        vertical-align: top;\n",
              "    }\n",
              "\n",
              "    .dataframe thead th {\n",
              "        text-align: right;\n",
              "    }\n",
              "</style>\n",
              "<table border=\"1\" class=\"dataframe\">\n",
              "  <thead>\n",
              "    <tr style=\"text-align: right;\">\n",
              "      <th></th>\n",
              "      <th>malignant</th>\n",
              "      <th>highly_malignant</th>\n",
              "      <th>rude</th>\n",
              "      <th>threat</th>\n",
              "      <th>abuse</th>\n",
              "      <th>loathe</th>\n",
              "    </tr>\n",
              "  </thead>\n",
              "  <tbody>\n",
              "    <tr>\n",
              "      <th>72799</th>\n",
              "      <td>0</td>\n",
              "      <td>0</td>\n",
              "      <td>0</td>\n",
              "      <td>0</td>\n",
              "      <td>0</td>\n",
              "      <td>0</td>\n",
              "    </tr>\n",
              "    <tr>\n",
              "      <th>121304</th>\n",
              "      <td>0</td>\n",
              "      <td>0</td>\n",
              "      <td>0</td>\n",
              "      <td>0</td>\n",
              "      <td>0</td>\n",
              "      <td>0</td>\n",
              "    </tr>\n",
              "    <tr>\n",
              "      <th>125123</th>\n",
              "      <td>0</td>\n",
              "      <td>0</td>\n",
              "      <td>0</td>\n",
              "      <td>0</td>\n",
              "      <td>0</td>\n",
              "      <td>0</td>\n",
              "    </tr>\n",
              "    <tr>\n",
              "      <th>111106</th>\n",
              "      <td>0</td>\n",
              "      <td>0</td>\n",
              "      <td>0</td>\n",
              "      <td>0</td>\n",
              "      <td>0</td>\n",
              "      <td>0</td>\n",
              "    </tr>\n",
              "    <tr>\n",
              "      <th>128987</th>\n",
              "      <td>0</td>\n",
              "      <td>0</td>\n",
              "      <td>0</td>\n",
              "      <td>0</td>\n",
              "      <td>0</td>\n",
              "      <td>0</td>\n",
              "    </tr>\n",
              "  </tbody>\n",
              "</table>\n",
              "</div>"
            ],
            "text/plain": [
              "        malignant  highly_malignant  rude  threat  abuse  loathe\n",
              "72799           0                 0     0       0      0       0\n",
              "121304          0                 0     0       0      0       0\n",
              "125123          0                 0     0       0      0       0\n",
              "111106          0                 0     0       0      0       0\n",
              "128987          0                 0     0       0      0       0"
            ]
          },
          "metadata": {
            "tags": []
          },
          "execution_count": 32
        }
      ]
    },
    {
      "cell_type": "code",
      "metadata": {
        "id": "INJbKdQgCunT"
      },
      "source": [
        "from sklearn.model_selection import train_test_split\n",
        "train_x,test_x,train_y,test_y=train_test_split(X,Y,random_state=0,test_size=0.20)"
      ],
      "execution_count": 33,
      "outputs": []
    },
    {
      "cell_type": "code",
      "metadata": {
        "id": "PMsdRyHYInuF"
      },
      "source": [
        "from sklearn.ensemble import RandomForestClassifier\n",
        "from sklearn.multioutput import MultiOutputClassifier\n"
      ],
      "execution_count": 34,
      "outputs": []
    },
    {
      "cell_type": "code",
      "metadata": {
        "id": "iEEE-n3vJPvo"
      },
      "source": [
        "forest=RandomForestClassifier(random_state=1)\n",
        "multi_target_forest=MultiOutputClassifier(forest)"
      ],
      "execution_count": 35,
      "outputs": []
    },
    {
      "cell_type": "code",
      "metadata": {
        "id": "7L-1bBgzJa-E"
      },
      "source": [
        "multi_target_forest.fit(train_x,train_y)\n",
        "pred=multi_target_forest.predict(test_x)"
      ],
      "execution_count": 36,
      "outputs": []
    },
    {
      "cell_type": "code",
      "metadata": {
        "colab": {
          "base_uri": "https://localhost:8080/"
        },
        "id": "L31fGnGCJlEy",
        "outputId": "5d4be90f-f5b4-40f4-d9cd-643b01db613d"
      },
      "source": [
        "from sklearn.metrics import hamming_loss, accuracy_score\n",
        "print(\"Accuracy Score\", accuracy_score(pred,test_y))\n",
        "print(\"Hamming Loss\", hamming_loss(pred,test_y))"
      ],
      "execution_count": 37,
      "outputs": [
        {
          "output_type": "stream",
          "text": [
            "Accuracy Score 0.8057380143450359\n",
            "Hamming Loss 0.047024034226752234\n"
          ],
          "name": "stdout"
        }
      ]
    },
    {
      "cell_type": "code",
      "metadata": {
        "id": "cHQ94FG8OBge"
      },
      "source": [
        "from sklearn.multiclass import OneVsRestClassifier\n",
        "from sklearn.svm import LinearSVC\n",
        "pred=OneVsRestClassifier(LinearSVC(random_state=0)).fit(train_x,train_y).predict(test_x)"
      ],
      "execution_count": 38,
      "outputs": []
    },
    {
      "cell_type": "code",
      "metadata": {
        "colab": {
          "base_uri": "https://localhost:8080/"
        },
        "id": "OrCeeSepm_gB",
        "outputId": "7566c79a-0610-4070-b610-f6b64516ea99"
      },
      "source": [
        "print(\"Accuracy Score\", accuracy_score(pred,test_y))\n",
        "print(\"Hamming Loss\", hamming_loss(pred,test_y))"
      ],
      "execution_count": 39,
      "outputs": [
        {
          "output_type": "stream",
          "text": [
            "Accuracy Score 0.8187995469988675\n",
            "Hamming Loss 0.041084686045048446\n"
          ],
          "name": "stdout"
        }
      ]
    },
    {
      "cell_type": "code",
      "metadata": {
        "colab": {
          "base_uri": "https://localhost:8080/"
        },
        "id": "1sC9R4G4nEQF",
        "outputId": "d4466228-fe2a-42aa-e0f1-55207581f829"
      },
      "source": [
        "from sklearn.metrics import classification_report, confusion_matrix\n",
        "print(classification_report(pred,test_y))\n"
      ],
      "execution_count": 40,
      "outputs": [
        {
          "output_type": "stream",
          "text": [
            "              precision    recall  f1-score   support\n",
            "\n",
            "           0       0.77      0.88      0.82      2684\n",
            "           1       0.24      0.50      0.33       145\n",
            "           2       0.72      0.88      0.79      1404\n",
            "           3       0.22      0.69      0.34        29\n",
            "           4       0.58      0.76      0.66      1218\n",
            "           5       0.27      0.71      0.39       108\n",
            "\n",
            "   micro avg       0.66      0.84      0.74      5588\n",
            "   macro avg       0.47      0.74      0.55      5588\n",
            "weighted avg       0.69      0.84      0.75      5588\n",
            " samples avg       0.15      0.17      0.15      5588\n",
            "\n"
          ],
          "name": "stdout"
        },
        {
          "output_type": "stream",
          "text": [
            "/usr/local/lib/python3.6/dist-packages/sklearn/metrics/_classification.py:1272: UndefinedMetricWarning: Precision and F-score are ill-defined and being set to 0.0 in samples with no predicted labels. Use `zero_division` parameter to control this behavior.\n",
            "  _warn_prf(average, modifier, msg_start, len(result))\n",
            "/usr/local/lib/python3.6/dist-packages/sklearn/metrics/_classification.py:1272: UndefinedMetricWarning: Recall and F-score are ill-defined and being set to 0.0 in samples with no true labels. Use `zero_division` parameter to control this behavior.\n",
            "  _warn_prf(average, modifier, msg_start, len(result))\n"
          ],
          "name": "stderr"
        }
      ]
    },
    {
      "cell_type": "code",
      "metadata": {
        "id": "t14dxtvKrqyJ"
      },
      "source": [
        "# Downsampling has not improved the scores. Downsampling also takes away most of the data, hence not a good option. So let us try upsampling "
      ],
      "execution_count": 41,
      "outputs": []
    },
    {
      "cell_type": "markdown",
      "metadata": {
        "id": "QxQJiENigWTy"
      },
      "source": [
        "#### Upsampling"
      ]
    },
    {
      "cell_type": "code",
      "metadata": {
        "colab": {
          "base_uri": "https://localhost:8080/"
        },
        "id": "GGxbn_hursND",
        "outputId": "d7c7bf95-519b-4a44-e7f7-d4c511a708fe"
      },
      "source": [
        "from imblearn.over_sampling import SMOTE"
      ],
      "execution_count": 42,
      "outputs": [
        {
          "output_type": "stream",
          "text": [
            "/usr/local/lib/python3.6/dist-packages/sklearn/externals/six.py:31: FutureWarning: The module is deprecated in version 0.21 and will be removed in version 0.23 since we've dropped support for Python 2.7. Please rely on the official version of six (https://pypi.org/project/six/).\n",
            "  \"(https://pypi.org/project/six/).\", FutureWarning)\n",
            "/usr/local/lib/python3.6/dist-packages/sklearn/utils/deprecation.py:144: FutureWarning: The sklearn.neighbors.base module is  deprecated in version 0.22 and will be removed in version 0.24. The corresponding classes / functions should instead be imported from sklearn.neighbors. Anything that cannot be imported from sklearn.neighbors is now part of the private API.\n",
            "  warnings.warn(message, FutureWarning)\n"
          ],
          "name": "stderr"
        }
      ]
    },
    {
      "cell_type": "code",
      "metadata": {
        "colab": {
          "base_uri": "https://localhost:8080/",
          "height": 195
        },
        "id": "hI1UTRcHrsiv",
        "outputId": "cba3ca31-eaf6-4e04-cd4f-786cfca8c796"
      },
      "source": [
        "df.head()"
      ],
      "execution_count": 43,
      "outputs": [
        {
          "output_type": "execute_result",
          "data": {
            "text/html": [
              "<div>\n",
              "<style scoped>\n",
              "    .dataframe tbody tr th:only-of-type {\n",
              "        vertical-align: middle;\n",
              "    }\n",
              "\n",
              "    .dataframe tbody tr th {\n",
              "        vertical-align: top;\n",
              "    }\n",
              "\n",
              "    .dataframe thead th {\n",
              "        text-align: right;\n",
              "    }\n",
              "</style>\n",
              "<table border=\"1\" class=\"dataframe\">\n",
              "  <thead>\n",
              "    <tr style=\"text-align: right;\">\n",
              "      <th></th>\n",
              "      <th>id</th>\n",
              "      <th>comment_text</th>\n",
              "      <th>malignant</th>\n",
              "      <th>highly_malignant</th>\n",
              "      <th>rude</th>\n",
              "      <th>threat</th>\n",
              "      <th>abuse</th>\n",
              "      <th>loathe</th>\n",
              "    </tr>\n",
              "  </thead>\n",
              "  <tbody>\n",
              "    <tr>\n",
              "      <th>0</th>\n",
              "      <td>0000997932d777bf</td>\n",
              "      <td>Explanation\\nWhy the edits made under my usern...</td>\n",
              "      <td>0</td>\n",
              "      <td>0</td>\n",
              "      <td>0</td>\n",
              "      <td>0</td>\n",
              "      <td>0</td>\n",
              "      <td>0</td>\n",
              "    </tr>\n",
              "    <tr>\n",
              "      <th>1</th>\n",
              "      <td>000103f0d9cfb60f</td>\n",
              "      <td>D'aww! He matches this background colour I'm s...</td>\n",
              "      <td>0</td>\n",
              "      <td>0</td>\n",
              "      <td>0</td>\n",
              "      <td>0</td>\n",
              "      <td>0</td>\n",
              "      <td>0</td>\n",
              "    </tr>\n",
              "    <tr>\n",
              "      <th>2</th>\n",
              "      <td>000113f07ec002fd</td>\n",
              "      <td>Hey man, I'm really not trying to edit war. It...</td>\n",
              "      <td>0</td>\n",
              "      <td>0</td>\n",
              "      <td>0</td>\n",
              "      <td>0</td>\n",
              "      <td>0</td>\n",
              "      <td>0</td>\n",
              "    </tr>\n",
              "    <tr>\n",
              "      <th>3</th>\n",
              "      <td>0001b41b1c6bb37e</td>\n",
              "      <td>\"\\nMore\\nI can't make any real suggestions on ...</td>\n",
              "      <td>0</td>\n",
              "      <td>0</td>\n",
              "      <td>0</td>\n",
              "      <td>0</td>\n",
              "      <td>0</td>\n",
              "      <td>0</td>\n",
              "    </tr>\n",
              "    <tr>\n",
              "      <th>4</th>\n",
              "      <td>0001d958c54c6e35</td>\n",
              "      <td>You, sir, are my hero. Any chance you remember...</td>\n",
              "      <td>0</td>\n",
              "      <td>0</td>\n",
              "      <td>0</td>\n",
              "      <td>0</td>\n",
              "      <td>0</td>\n",
              "      <td>0</td>\n",
              "    </tr>\n",
              "  </tbody>\n",
              "</table>\n",
              "</div>"
            ],
            "text/plain": [
              "                 id  ... loathe\n",
              "0  0000997932d777bf  ...      0\n",
              "1  000103f0d9cfb60f  ...      0\n",
              "2  000113f07ec002fd  ...      0\n",
              "3  0001b41b1c6bb37e  ...      0\n",
              "4  0001d958c54c6e35  ...      0\n",
              "\n",
              "[5 rows x 8 columns]"
            ]
          },
          "metadata": {
            "tags": []
          },
          "execution_count": 43
        }
      ]
    },
    {
      "cell_type": "code",
      "metadata": {
        "id": "Pqtr5q4drsyX"
      },
      "source": [
        "cleaned_dataset=[]\n",
        "for i in df['comment_text']:\n",
        "    cleaned_text=i.split()\n",
        "    cleaned_text=[i.lower() for i in cleaned_text]\n",
        "    cleaned_text=[re.sub(r'[\\n]','',i)for i in cleaned_text]\n",
        "    cleaned_text=[re.sub(r'[^a-zA-Z]','',i)for i in cleaned_text]\n",
        "    cleaned_text=[j for j in cleaned_text if j not in stopwords.words('english')]\n",
        "    cleaned_text=[ps.stem(k) for k in cleaned_text]\n",
        "    cleaned_text=(' ').join(cleaned_text)\n",
        "    cleaned_dataset.append(cleaned_text)\n",
        "    \n",
        "    "
      ],
      "execution_count": 44,
      "outputs": []
    },
    {
      "cell_type": "code",
      "metadata": {
        "id": "2INk4N0Bw53I"
      },
      "source": [
        "df['cleaned_comment']=cleaned_dataset"
      ],
      "execution_count": 45,
      "outputs": []
    },
    {
      "cell_type": "code",
      "metadata": {
        "id": "4_J_TzbQz30m",
        "colab": {
          "base_uri": "https://localhost:8080/",
          "height": 279
        },
        "outputId": "7d25b753-9776-4b94-ea2c-10c85a291c30"
      },
      "source": [
        "df.head()"
      ],
      "execution_count": 46,
      "outputs": [
        {
          "output_type": "execute_result",
          "data": {
            "text/html": [
              "<div>\n",
              "<style scoped>\n",
              "    .dataframe tbody tr th:only-of-type {\n",
              "        vertical-align: middle;\n",
              "    }\n",
              "\n",
              "    .dataframe tbody tr th {\n",
              "        vertical-align: top;\n",
              "    }\n",
              "\n",
              "    .dataframe thead th {\n",
              "        text-align: right;\n",
              "    }\n",
              "</style>\n",
              "<table border=\"1\" class=\"dataframe\">\n",
              "  <thead>\n",
              "    <tr style=\"text-align: right;\">\n",
              "      <th></th>\n",
              "      <th>id</th>\n",
              "      <th>comment_text</th>\n",
              "      <th>malignant</th>\n",
              "      <th>highly_malignant</th>\n",
              "      <th>rude</th>\n",
              "      <th>threat</th>\n",
              "      <th>abuse</th>\n",
              "      <th>loathe</th>\n",
              "      <th>cleaned_comment</th>\n",
              "    </tr>\n",
              "  </thead>\n",
              "  <tbody>\n",
              "    <tr>\n",
              "      <th>0</th>\n",
              "      <td>0000997932d777bf</td>\n",
              "      <td>Explanation\\nWhy the edits made under my usern...</td>\n",
              "      <td>0</td>\n",
              "      <td>0</td>\n",
              "      <td>0</td>\n",
              "      <td>0</td>\n",
              "      <td>0</td>\n",
              "      <td>0</td>\n",
              "      <td>explan edit made usernam hardcor metallica fan...</td>\n",
              "    </tr>\n",
              "    <tr>\n",
              "      <th>1</th>\n",
              "      <td>000103f0d9cfb60f</td>\n",
              "      <td>D'aww! He matches this background colour I'm s...</td>\n",
              "      <td>0</td>\n",
              "      <td>0</td>\n",
              "      <td>0</td>\n",
              "      <td>0</td>\n",
              "      <td>0</td>\n",
              "      <td>0</td>\n",
              "      <td>daww match background colour im seemingli stuc...</td>\n",
              "    </tr>\n",
              "    <tr>\n",
              "      <th>2</th>\n",
              "      <td>000113f07ec002fd</td>\n",
              "      <td>Hey man, I'm really not trying to edit war. It...</td>\n",
              "      <td>0</td>\n",
              "      <td>0</td>\n",
              "      <td>0</td>\n",
              "      <td>0</td>\n",
              "      <td>0</td>\n",
              "      <td>0</td>\n",
              "      <td>hey man im realli tri edit war guy constantli ...</td>\n",
              "    </tr>\n",
              "    <tr>\n",
              "      <th>3</th>\n",
              "      <td>0001b41b1c6bb37e</td>\n",
              "      <td>\"\\nMore\\nI can't make any real suggestions on ...</td>\n",
              "      <td>0</td>\n",
              "      <td>0</td>\n",
              "      <td>0</td>\n",
              "      <td>0</td>\n",
              "      <td>0</td>\n",
              "      <td>0</td>\n",
              "      <td>cant make real suggest improv  wonder section...</td>\n",
              "    </tr>\n",
              "    <tr>\n",
              "      <th>4</th>\n",
              "      <td>0001d958c54c6e35</td>\n",
              "      <td>You, sir, are my hero. Any chance you remember...</td>\n",
              "      <td>0</td>\n",
              "      <td>0</td>\n",
              "      <td>0</td>\n",
              "      <td>0</td>\n",
              "      <td>0</td>\n",
              "      <td>0</td>\n",
              "      <td>sir hero chanc rememb page that</td>\n",
              "    </tr>\n",
              "  </tbody>\n",
              "</table>\n",
              "</div>"
            ],
            "text/plain": [
              "                 id  ...                                    cleaned_comment\n",
              "0  0000997932d777bf  ...  explan edit made usernam hardcor metallica fan...\n",
              "1  000103f0d9cfb60f  ...  daww match background colour im seemingli stuc...\n",
              "2  000113f07ec002fd  ...  hey man im realli tri edit war guy constantli ...\n",
              "3  0001b41b1c6bb37e  ...   cant make real suggest improv  wonder section...\n",
              "4  0001d958c54c6e35  ...                    sir hero chanc rememb page that\n",
              "\n",
              "[5 rows x 9 columns]"
            ]
          },
          "metadata": {
            "tags": []
          },
          "execution_count": 46
        }
      ]
    },
    {
      "cell_type": "code",
      "metadata": {
        "id": "lITLC5a62WU1"
      },
      "source": [
        "from sklearn.feature_extraction.text import TfidfVectorizer\n",
        "vect=TfidfVectorizer()"
      ],
      "execution_count": 47,
      "outputs": []
    },
    {
      "cell_type": "code",
      "metadata": {
        "id": "qNeFSmFj27uu"
      },
      "source": [
        "X=vect.fit_transform(df['cleaned_comment'])"
      ],
      "execution_count": 48,
      "outputs": []
    },
    {
      "cell_type": "code",
      "metadata": {
        "id": "koVvhfkzCAux",
        "colab": {
          "base_uri": "https://localhost:8080/"
        },
        "outputId": "4688312b-3dea-415b-8076-8972cdf206af"
      },
      "source": [
        "X.shape"
      ],
      "execution_count": 49,
      "outputs": [
        {
          "output_type": "execute_result",
          "data": {
            "text/plain": [
              "(159571, 181626)"
            ]
          },
          "metadata": {
            "tags": []
          },
          "execution_count": 49
        }
      ]
    },
    {
      "cell_type": "code",
      "metadata": {
        "id": "-kAsux883D0L",
        "colab": {
          "base_uri": "https://localhost:8080/",
          "height": 195
        },
        "outputId": "b09f476a-f5df-43bb-991d-b3aafe53aeab"
      },
      "source": [
        "Y=df.iloc[:,2:8]\n",
        "Y.head()"
      ],
      "execution_count": 50,
      "outputs": [
        {
          "output_type": "execute_result",
          "data": {
            "text/html": [
              "<div>\n",
              "<style scoped>\n",
              "    .dataframe tbody tr th:only-of-type {\n",
              "        vertical-align: middle;\n",
              "    }\n",
              "\n",
              "    .dataframe tbody tr th {\n",
              "        vertical-align: top;\n",
              "    }\n",
              "\n",
              "    .dataframe thead th {\n",
              "        text-align: right;\n",
              "    }\n",
              "</style>\n",
              "<table border=\"1\" class=\"dataframe\">\n",
              "  <thead>\n",
              "    <tr style=\"text-align: right;\">\n",
              "      <th></th>\n",
              "      <th>malignant</th>\n",
              "      <th>highly_malignant</th>\n",
              "      <th>rude</th>\n",
              "      <th>threat</th>\n",
              "      <th>abuse</th>\n",
              "      <th>loathe</th>\n",
              "    </tr>\n",
              "  </thead>\n",
              "  <tbody>\n",
              "    <tr>\n",
              "      <th>0</th>\n",
              "      <td>0</td>\n",
              "      <td>0</td>\n",
              "      <td>0</td>\n",
              "      <td>0</td>\n",
              "      <td>0</td>\n",
              "      <td>0</td>\n",
              "    </tr>\n",
              "    <tr>\n",
              "      <th>1</th>\n",
              "      <td>0</td>\n",
              "      <td>0</td>\n",
              "      <td>0</td>\n",
              "      <td>0</td>\n",
              "      <td>0</td>\n",
              "      <td>0</td>\n",
              "    </tr>\n",
              "    <tr>\n",
              "      <th>2</th>\n",
              "      <td>0</td>\n",
              "      <td>0</td>\n",
              "      <td>0</td>\n",
              "      <td>0</td>\n",
              "      <td>0</td>\n",
              "      <td>0</td>\n",
              "    </tr>\n",
              "    <tr>\n",
              "      <th>3</th>\n",
              "      <td>0</td>\n",
              "      <td>0</td>\n",
              "      <td>0</td>\n",
              "      <td>0</td>\n",
              "      <td>0</td>\n",
              "      <td>0</td>\n",
              "    </tr>\n",
              "    <tr>\n",
              "      <th>4</th>\n",
              "      <td>0</td>\n",
              "      <td>0</td>\n",
              "      <td>0</td>\n",
              "      <td>0</td>\n",
              "      <td>0</td>\n",
              "      <td>0</td>\n",
              "    </tr>\n",
              "  </tbody>\n",
              "</table>\n",
              "</div>"
            ],
            "text/plain": [
              "   malignant  highly_malignant  rude  threat  abuse  loathe\n",
              "0          0                 0     0       0      0       0\n",
              "1          0                 0     0       0      0       0\n",
              "2          0                 0     0       0      0       0\n",
              "3          0                 0     0       0      0       0\n",
              "4          0                 0     0       0      0       0"
            ]
          },
          "metadata": {
            "tags": []
          },
          "execution_count": 50
        }
      ]
    },
    {
      "cell_type": "code",
      "metadata": {
        "id": "raaaKSYd3ZWE"
      },
      "source": [
        "from imblearn.over_sampling import SMOTE\n",
        "oversample=SMOTE()"
      ],
      "execution_count": 51,
      "outputs": []
    },
    {
      "cell_type": "code",
      "metadata": {
        "id": "iSmwPLUd3yd2"
      },
      "source": [
        "# As the oversampling is not working for whole y data, we will need to stack Y and try"
      ],
      "execution_count": 52,
      "outputs": []
    },
    {
      "cell_type": "code",
      "metadata": {
        "colab": {
          "base_uri": "https://localhost:8080/"
        },
        "id": "vwAgKngn8okq",
        "outputId": "aee21b7f-dbd9-4367-9d2c-f5007f73420f"
      },
      "source": [
        "Y=np.column_stack((df['malignant'],df['highly_malignant'],df['rude'],df['threat'],df['abuse'],df['loathe']))\n",
        "Y"
      ],
      "execution_count": 53,
      "outputs": [
        {
          "output_type": "execute_result",
          "data": {
            "text/plain": [
              "array([[0, 0, 0, 0, 0, 0],\n",
              "       [0, 0, 0, 0, 0, 0],\n",
              "       [0, 0, 0, 0, 0, 0],\n",
              "       ...,\n",
              "       [0, 0, 0, 0, 0, 0],\n",
              "       [0, 0, 0, 0, 0, 0],\n",
              "       [0, 0, 0, 0, 0, 0]])"
            ]
          },
          "metadata": {
            "tags": []
          },
          "execution_count": 53
        }
      ]
    },
    {
      "cell_type": "code",
      "metadata": {
        "colab": {
          "base_uri": "https://localhost:8080/"
        },
        "id": "dqg_Y5DhBbpc",
        "outputId": "9fea3d5d-4bde-4c23-ac40-34706641b9f1"
      },
      "source": [
        "X1,Y1=oversample.fit_resample(X,Y)"
      ],
      "execution_count": 54,
      "outputs": [
        {
          "output_type": "stream",
          "text": [
            "/usr/local/lib/python3.6/dist-packages/sklearn/utils/deprecation.py:87: FutureWarning: Function safe_indexing is deprecated; safe_indexing is deprecated in version 0.22 and will be removed in version 0.24.\n",
            "  warnings.warn(msg, category=FutureWarning)\n"
          ],
          "name": "stderr"
        }
      ]
    },
    {
      "cell_type": "code",
      "metadata": {
        "id": "LoxlXGm4Bx7y",
        "colab": {
          "base_uri": "https://localhost:8080/"
        },
        "outputId": "dbb9b946-e0e2-44d9-c291-1f5a8ec9a662"
      },
      "source": [
        "Y.shape"
      ],
      "execution_count": 55,
      "outputs": [
        {
          "output_type": "execute_result",
          "data": {
            "text/plain": [
              "(159571, 6)"
            ]
          },
          "metadata": {
            "tags": []
          },
          "execution_count": 55
        }
      ]
    },
    {
      "cell_type": "code",
      "metadata": {
        "id": "6iT8gO9rCJ9C",
        "colab": {
          "base_uri": "https://localhost:8080/"
        },
        "outputId": "e4ba1aef-d45f-464e-be11-b9b656a73e18"
      },
      "source": [
        "Y1.shape"
      ],
      "execution_count": 56,
      "outputs": [
        {
          "output_type": "execute_result",
          "data": {
            "text/plain": [
              "(793200, 5)"
            ]
          },
          "metadata": {
            "tags": []
          },
          "execution_count": 56
        }
      ]
    },
    {
      "cell_type": "code",
      "metadata": {
        "id": "L7wciwDiCRCf",
        "colab": {
          "base_uri": "https://localhost:8080/"
        },
        "outputId": "21b3e795-d872-4a36-c295-8cc47a95aaba"
      },
      "source": [
        "X.shape"
      ],
      "execution_count": 57,
      "outputs": [
        {
          "output_type": "execute_result",
          "data": {
            "text/plain": [
              "(159571, 181626)"
            ]
          },
          "metadata": {
            "tags": []
          },
          "execution_count": 57
        }
      ]
    },
    {
      "cell_type": "code",
      "metadata": {
        "id": "0R0EKadIsc7S",
        "colab": {
          "base_uri": "https://localhost:8080/"
        },
        "outputId": "ed8f61e8-1c32-4be3-eccb-372fa5227dee"
      },
      "source": [
        "X1.shape"
      ],
      "execution_count": 58,
      "outputs": [
        {
          "output_type": "execute_result",
          "data": {
            "text/plain": [
              "(793200, 181626)"
            ]
          },
          "metadata": {
            "tags": []
          },
          "execution_count": 58
        }
      ]
    },
    {
      "cell_type": "code",
      "metadata": {
        "id": "U_TOCupgCVlk"
      },
      "source": [
        "from sklearn.ensemble import RandomForestClassifier\n",
        "from sklearn.multioutput import MultiOutputClassifier"
      ],
      "execution_count": 59,
      "outputs": []
    },
    {
      "cell_type": "code",
      "metadata": {
        "id": "DD7_f6e5PX7U"
      },
      "source": [
        "forest=RandomForestClassifier(random_state=1)\n",
        "multi_target_forest=MultiOutputClassifier(forest)"
      ],
      "execution_count": 60,
      "outputs": []
    },
    {
      "cell_type": "code",
      "metadata": {
        "id": "YNSUpVXjRFmo",
        "colab": {
          "base_uri": "https://localhost:8080/"
        },
        "outputId": "44025581-1d53-4c10-f2f6-0f2d5cbc7c5a"
      },
      "source": [
        "from sklearn.metrics import classification_report, confusion_matrix\n",
        "print(classification_report(pred,test_y))\n"
      ],
      "execution_count": 61,
      "outputs": [
        {
          "output_type": "stream",
          "text": [
            "              precision    recall  f1-score   support\n",
            "\n",
            "           0       0.77      0.88      0.82      2684\n",
            "           1       0.24      0.50      0.33       145\n",
            "           2       0.72      0.88      0.79      1404\n",
            "           3       0.22      0.69      0.34        29\n",
            "           4       0.58      0.76      0.66      1218\n",
            "           5       0.27      0.71      0.39       108\n",
            "\n",
            "   micro avg       0.66      0.84      0.74      5588\n",
            "   macro avg       0.47      0.74      0.55      5588\n",
            "weighted avg       0.69      0.84      0.75      5588\n",
            " samples avg       0.15      0.17      0.15      5588\n",
            "\n"
          ],
          "name": "stdout"
        },
        {
          "output_type": "stream",
          "text": [
            "/usr/local/lib/python3.6/dist-packages/sklearn/metrics/_classification.py:1272: UndefinedMetricWarning: Precision and F-score are ill-defined and being set to 0.0 in samples with no predicted labels. Use `zero_division` parameter to control this behavior.\n",
            "  _warn_prf(average, modifier, msg_start, len(result))\n",
            "/usr/local/lib/python3.6/dist-packages/sklearn/metrics/_classification.py:1272: UndefinedMetricWarning: Recall and F-score are ill-defined and being set to 0.0 in samples with no true labels. Use `zero_division` parameter to control this behavior.\n",
            "  _warn_prf(average, modifier, msg_start, len(result))\n"
          ],
          "name": "stderr"
        }
      ]
    },
    {
      "cell_type": "code",
      "metadata": {
        "id": "2rUpHB7jP1Wt"
      },
      "source": [
        "multi_target_forest.fit(train_x,train_y)\n",
        "pred=multi_target_forest.predict(test_x)\n",
        "pred=multi_target_forest.predict(test_x)"
      ],
      "execution_count": 63,
      "outputs": []
    },
    {
      "cell_type": "code",
      "metadata": {
        "id": "OZZR4pnSPbhX"
      },
      "source": [
        "from sklearn.multiclass import OneVsRestClassifier\n",
        "from sklearn.svm import LinearSVC\n",
        "classifier=OneVsRestClassifier(LinearSVC(random_state=0))\n",
        "classifier.fit(train_x,train_y)\n",
        "pred=classifier.predict(test_x)"
      ],
      "execution_count": 64,
      "outputs": []
    },
    {
      "cell_type": "code",
      "metadata": {
        "id": "j6WuqqkxPwVI",
        "colab": {
          "base_uri": "https://localhost:8080/"
        },
        "outputId": "fafbf0ba-9ae8-4480-e17b-26545d01ff69"
      },
      "source": [
        "print(\"Accuracy Score\", accuracy_score(pred,test_y))\n",
        "print(\"Hamming Loss\", hamming_loss(pred,test_y))"
      ],
      "execution_count": 65,
      "outputs": [
        {
          "output_type": "stream",
          "text": [
            "Accuracy Score 0.8187995469988675\n",
            "Hamming Loss 0.041084686045048446\n"
          ],
          "name": "stdout"
        }
      ]
    },
    {
      "cell_type": "code",
      "metadata": {
        "id": "y4EF-odIRFS2",
        "colab": {
          "base_uri": "https://localhost:8080/"
        },
        "outputId": "75d403a2-acd8-4774-8732-401308082bcd"
      },
      "source": [
        "from sklearn.metrics import classification_report, confusion_matrix\n",
        "print(classification_report(pred,test_y))\n"
      ],
      "execution_count": 66,
      "outputs": [
        {
          "output_type": "stream",
          "text": [
            "              precision    recall  f1-score   support\n",
            "\n",
            "           0       0.77      0.88      0.82      2684\n",
            "           1       0.24      0.50      0.33       145\n",
            "           2       0.72      0.88      0.79      1404\n",
            "           3       0.22      0.69      0.34        29\n",
            "           4       0.58      0.76      0.66      1218\n",
            "           5       0.27      0.71      0.39       108\n",
            "\n",
            "   micro avg       0.66      0.84      0.74      5588\n",
            "   macro avg       0.47      0.74      0.55      5588\n",
            "weighted avg       0.69      0.84      0.75      5588\n",
            " samples avg       0.15      0.17      0.15      5588\n",
            "\n"
          ],
          "name": "stdout"
        },
        {
          "output_type": "stream",
          "text": [
            "/usr/local/lib/python3.6/dist-packages/sklearn/metrics/_classification.py:1272: UndefinedMetricWarning: Precision and F-score are ill-defined and being set to 0.0 in samples with no predicted labels. Use `zero_division` parameter to control this behavior.\n",
            "  _warn_prf(average, modifier, msg_start, len(result))\n",
            "/usr/local/lib/python3.6/dist-packages/sklearn/metrics/_classification.py:1272: UndefinedMetricWarning: Recall and F-score are ill-defined and being set to 0.0 in samples with no true labels. Use `zero_division` parameter to control this behavior.\n",
            "  _warn_prf(average, modifier, msg_start, len(result))\n"
          ],
          "name": "stderr"
        }
      ]
    },
    {
      "cell_type": "code",
      "metadata": {
        "id": "M1-A2K55cUl8"
      },
      "source": [
        "# We can observe that after upsampling, the f1-scores and other scores are relatively better than before upsampling as we saw in the previous notebook. Hence, we can use the classifier (linearSVC on onevsrest classifier) to predict the test file"
      ],
      "execution_count": 67,
      "outputs": []
    },
    {
      "cell_type": "code",
      "metadata": {
        "id": "zNUyaovfcufJ",
        "colab": {
          "base_uri": "https://localhost:8080/",
          "height": 195
        },
        "outputId": "db5a8665-87ac-43a9-94fe-934448099b5f"
      },
      "source": [
        "dftest=pd.read_csv(\"test.csv\")\n",
        "dftest.head()"
      ],
      "execution_count": 68,
      "outputs": [
        {
          "output_type": "execute_result",
          "data": {
            "text/html": [
              "<div>\n",
              "<style scoped>\n",
              "    .dataframe tbody tr th:only-of-type {\n",
              "        vertical-align: middle;\n",
              "    }\n",
              "\n",
              "    .dataframe tbody tr th {\n",
              "        vertical-align: top;\n",
              "    }\n",
              "\n",
              "    .dataframe thead th {\n",
              "        text-align: right;\n",
              "    }\n",
              "</style>\n",
              "<table border=\"1\" class=\"dataframe\">\n",
              "  <thead>\n",
              "    <tr style=\"text-align: right;\">\n",
              "      <th></th>\n",
              "      <th>id</th>\n",
              "      <th>comment_text</th>\n",
              "    </tr>\n",
              "  </thead>\n",
              "  <tbody>\n",
              "    <tr>\n",
              "      <th>0</th>\n",
              "      <td>00001cee341fdb12</td>\n",
              "      <td>Yo bitch Ja Rule is more succesful then you'll...</td>\n",
              "    </tr>\n",
              "    <tr>\n",
              "      <th>1</th>\n",
              "      <td>0000247867823ef7</td>\n",
              "      <td>== From RfC == \\n\\n The title is fine as it is...</td>\n",
              "    </tr>\n",
              "    <tr>\n",
              "      <th>2</th>\n",
              "      <td>00013b17ad220c46</td>\n",
              "      <td>\" \\n\\n == Sources == \\n\\n * Zawe Ashton on Lap...</td>\n",
              "    </tr>\n",
              "    <tr>\n",
              "      <th>3</th>\n",
              "      <td>00017563c3f7919a</td>\n",
              "      <td>:If you have a look back at the source, the in...</td>\n",
              "    </tr>\n",
              "    <tr>\n",
              "      <th>4</th>\n",
              "      <td>00017695ad8997eb</td>\n",
              "      <td>I don't anonymously edit articles at all.</td>\n",
              "    </tr>\n",
              "  </tbody>\n",
              "</table>\n",
              "</div>"
            ],
            "text/plain": [
              "                 id                                       comment_text\n",
              "0  00001cee341fdb12  Yo bitch Ja Rule is more succesful then you'll...\n",
              "1  0000247867823ef7  == From RfC == \\n\\n The title is fine as it is...\n",
              "2  00013b17ad220c46  \" \\n\\n == Sources == \\n\\n * Zawe Ashton on Lap...\n",
              "3  00017563c3f7919a  :If you have a look back at the source, the in...\n",
              "4  00017695ad8997eb          I don't anonymously edit articles at all."
            ]
          },
          "metadata": {
            "tags": []
          },
          "execution_count": 68
        }
      ]
    },
    {
      "cell_type": "code",
      "metadata": {
        "id": "FkW4j-vMcvLG"
      },
      "source": [
        "# cleaning the text of test data comments\n",
        "cleaned_testdataset=[]\n",
        "for i in dftest['comment_text']:\n",
        "    cleaned_text=i.split()\n",
        "    cleaned_text=[i.lower() for i in cleaned_text]\n",
        "    cleaned_text=[re.sub(r'[\\n]','',i)for i in cleaned_text]\n",
        "    cleaned_text=[re.sub(r'[^a-zA-Z]','',i)for i in cleaned_text]\n",
        "    cleaned_text=[j for j in cleaned_text if j not in stopwords.words('english')]\n",
        "    cleaned_text=[ps.stem(k) for k in cleaned_text]\n",
        "    cleaned_text=(' ').join(cleaned_text)\n",
        "    cleaned_testdataset.append(cleaned_text)\n",
        "    \n",
        "    "
      ],
      "execution_count": 69,
      "outputs": []
    },
    {
      "cell_type": "code",
      "metadata": {
        "id": "qjjapBPycz-y"
      },
      "source": [
        "dftest['cleaned_comment']=cleaned_testdataset"
      ],
      "execution_count": 70,
      "outputs": []
    },
    {
      "cell_type": "code",
      "metadata": {
        "id": "S_y6s-FfoJVB",
        "colab": {
          "base_uri": "https://localhost:8080/",
          "height": 195
        },
        "outputId": "029590b7-b1a9-4ec8-80dc-ee6986158cb3"
      },
      "source": [
        "dftest.head()"
      ],
      "execution_count": 71,
      "outputs": [
        {
          "output_type": "execute_result",
          "data": {
            "text/html": [
              "<div>\n",
              "<style scoped>\n",
              "    .dataframe tbody tr th:only-of-type {\n",
              "        vertical-align: middle;\n",
              "    }\n",
              "\n",
              "    .dataframe tbody tr th {\n",
              "        vertical-align: top;\n",
              "    }\n",
              "\n",
              "    .dataframe thead th {\n",
              "        text-align: right;\n",
              "    }\n",
              "</style>\n",
              "<table border=\"1\" class=\"dataframe\">\n",
              "  <thead>\n",
              "    <tr style=\"text-align: right;\">\n",
              "      <th></th>\n",
              "      <th>id</th>\n",
              "      <th>comment_text</th>\n",
              "      <th>cleaned_comment</th>\n",
              "    </tr>\n",
              "  </thead>\n",
              "  <tbody>\n",
              "    <tr>\n",
              "      <th>0</th>\n",
              "      <td>00001cee341fdb12</td>\n",
              "      <td>Yo bitch Ja Rule is more succesful then you'll...</td>\n",
              "      <td>yo bitch ja rule succes youll ever what hate s...</td>\n",
              "    </tr>\n",
              "    <tr>\n",
              "      <th>1</th>\n",
              "      <td>0000247867823ef7</td>\n",
              "      <td>== From RfC == \\n\\n The title is fine as it is...</td>\n",
              "      <td>rfc  titl fine imo</td>\n",
              "    </tr>\n",
              "    <tr>\n",
              "      <th>2</th>\n",
              "      <td>00013b17ad220c46</td>\n",
              "      <td>\" \\n\\n == Sources == \\n\\n * Zawe Ashton on Lap...</td>\n",
              "      <td>sourc   zaw ashton lapland</td>\n",
              "    </tr>\n",
              "    <tr>\n",
              "      <th>3</th>\n",
              "      <td>00017563c3f7919a</td>\n",
              "      <td>:If you have a look back at the source, the in...</td>\n",
              "      <td>look back sourc inform updat correct form gues...</td>\n",
              "    </tr>\n",
              "    <tr>\n",
              "      <th>4</th>\n",
              "      <td>00017695ad8997eb</td>\n",
              "      <td>I don't anonymously edit articles at all.</td>\n",
              "      <td>dont anonym edit articl</td>\n",
              "    </tr>\n",
              "  </tbody>\n",
              "</table>\n",
              "</div>"
            ],
            "text/plain": [
              "                 id  ...                                    cleaned_comment\n",
              "0  00001cee341fdb12  ...  yo bitch ja rule succes youll ever what hate s...\n",
              "1  0000247867823ef7  ...                                 rfc  titl fine imo\n",
              "2  00013b17ad220c46  ...                      sourc   zaw ashton lapland   \n",
              "3  00017563c3f7919a  ...  look back sourc inform updat correct form gues...\n",
              "4  00017695ad8997eb  ...                            dont anonym edit articl\n",
              "\n",
              "[5 rows x 3 columns]"
            ]
          },
          "metadata": {
            "tags": []
          },
          "execution_count": 71
        }
      ]
    },
    {
      "cell_type": "code",
      "metadata": {
        "id": "rKpzl6joiT6A"
      },
      "source": [
        "X_test=vect.transform(dftest['cleaned_comment'])"
      ],
      "execution_count": 73,
      "outputs": []
    },
    {
      "cell_type": "code",
      "metadata": {
        "id": "Po4Mv9M3c5S5",
        "colab": {
          "base_uri": "https://localhost:8080/",
          "height": 337
        },
        "outputId": "9199fb23-e789-4a73-aad0-72d6a152f227"
      },
      "source": [
        "# Making predictions\n",
        "predictions=classifier.predict(X_test)\n",
        "pred_upsample_df=pd.DataFrame(predictions)\n"
      ],
      "execution_count": 74,
      "outputs": [
        {
          "output_type": "error",
          "ename": "ValueError",
          "evalue": "ignored",
          "traceback": [
            "\u001b[0;31m---------------------------------------------------------------------------\u001b[0m",
            "\u001b[0;31mValueError\u001b[0m                                Traceback (most recent call last)",
            "\u001b[0;32m<ipython-input-74-98f0fc652b79>\u001b[0m in \u001b[0;36m<module>\u001b[0;34m()\u001b[0m\n\u001b[1;32m      1\u001b[0m \u001b[0;31m# Making predictions\u001b[0m\u001b[0;34m\u001b[0m\u001b[0;34m\u001b[0m\u001b[0;34m\u001b[0m\u001b[0m\n\u001b[0;32m----> 2\u001b[0;31m \u001b[0mpredictions\u001b[0m\u001b[0;34m=\u001b[0m\u001b[0mclassifier\u001b[0m\u001b[0;34m.\u001b[0m\u001b[0mpredict\u001b[0m\u001b[0;34m(\u001b[0m\u001b[0mX_test\u001b[0m\u001b[0;34m)\u001b[0m\u001b[0;34m\u001b[0m\u001b[0;34m\u001b[0m\u001b[0m\n\u001b[0m\u001b[1;32m      3\u001b[0m \u001b[0mpred_upsample_df\u001b[0m\u001b[0;34m=\u001b[0m\u001b[0mpd\u001b[0m\u001b[0;34m.\u001b[0m\u001b[0mDataFrame\u001b[0m\u001b[0;34m(\u001b[0m\u001b[0mpredictions\u001b[0m\u001b[0;34m)\u001b[0m\u001b[0;34m\u001b[0m\u001b[0;34m\u001b[0m\u001b[0m\n",
            "\u001b[0;32m/usr/local/lib/python3.6/dist-packages/sklearn/multiclass.py\u001b[0m in \u001b[0;36mpredict\u001b[0;34m(self, X)\u001b[0m\n\u001b[1;32m    331\u001b[0m             \u001b[0mindptr\u001b[0m \u001b[0;34m=\u001b[0m \u001b[0marray\u001b[0m\u001b[0;34m.\u001b[0m\u001b[0marray\u001b[0m\u001b[0;34m(\u001b[0m\u001b[0;34m'i'\u001b[0m\u001b[0;34m,\u001b[0m \u001b[0;34m[\u001b[0m\u001b[0;36m0\u001b[0m\u001b[0;34m]\u001b[0m\u001b[0;34m)\u001b[0m\u001b[0;34m\u001b[0m\u001b[0;34m\u001b[0m\u001b[0m\n\u001b[1;32m    332\u001b[0m             \u001b[0;32mfor\u001b[0m \u001b[0me\u001b[0m \u001b[0;32min\u001b[0m \u001b[0mself\u001b[0m\u001b[0;34m.\u001b[0m\u001b[0mestimators_\u001b[0m\u001b[0;34m:\u001b[0m\u001b[0;34m\u001b[0m\u001b[0;34m\u001b[0m\u001b[0m\n\u001b[0;32m--> 333\u001b[0;31m                 \u001b[0mindices\u001b[0m\u001b[0;34m.\u001b[0m\u001b[0mextend\u001b[0m\u001b[0;34m(\u001b[0m\u001b[0mnp\u001b[0m\u001b[0;34m.\u001b[0m\u001b[0mwhere\u001b[0m\u001b[0;34m(\u001b[0m\u001b[0m_predict_binary\u001b[0m\u001b[0;34m(\u001b[0m\u001b[0me\u001b[0m\u001b[0;34m,\u001b[0m \u001b[0mX\u001b[0m\u001b[0;34m)\u001b[0m \u001b[0;34m>\u001b[0m \u001b[0mthresh\u001b[0m\u001b[0;34m)\u001b[0m\u001b[0;34m[\u001b[0m\u001b[0;36m0\u001b[0m\u001b[0;34m]\u001b[0m\u001b[0;34m)\u001b[0m\u001b[0;34m\u001b[0m\u001b[0;34m\u001b[0m\u001b[0m\n\u001b[0m\u001b[1;32m    334\u001b[0m                 \u001b[0mindptr\u001b[0m\u001b[0;34m.\u001b[0m\u001b[0mappend\u001b[0m\u001b[0;34m(\u001b[0m\u001b[0mlen\u001b[0m\u001b[0;34m(\u001b[0m\u001b[0mindices\u001b[0m\u001b[0;34m)\u001b[0m\u001b[0;34m)\u001b[0m\u001b[0;34m\u001b[0m\u001b[0;34m\u001b[0m\u001b[0m\n\u001b[1;32m    335\u001b[0m             \u001b[0mdata\u001b[0m \u001b[0;34m=\u001b[0m \u001b[0mnp\u001b[0m\u001b[0;34m.\u001b[0m\u001b[0mones\u001b[0m\u001b[0;34m(\u001b[0m\u001b[0mlen\u001b[0m\u001b[0;34m(\u001b[0m\u001b[0mindices\u001b[0m\u001b[0;34m)\u001b[0m\u001b[0;34m,\u001b[0m \u001b[0mdtype\u001b[0m\u001b[0;34m=\u001b[0m\u001b[0mint\u001b[0m\u001b[0;34m)\u001b[0m\u001b[0;34m\u001b[0m\u001b[0;34m\u001b[0m\u001b[0m\n",
            "\u001b[0;32m/usr/local/lib/python3.6/dist-packages/sklearn/multiclass.py\u001b[0m in \u001b[0;36m_predict_binary\u001b[0;34m(estimator, X)\u001b[0m\n\u001b[1;32m     92\u001b[0m         \u001b[0;32mreturn\u001b[0m \u001b[0mestimator\u001b[0m\u001b[0;34m.\u001b[0m\u001b[0mpredict\u001b[0m\u001b[0;34m(\u001b[0m\u001b[0mX\u001b[0m\u001b[0;34m)\u001b[0m\u001b[0;34m\u001b[0m\u001b[0;34m\u001b[0m\u001b[0m\n\u001b[1;32m     93\u001b[0m     \u001b[0;32mtry\u001b[0m\u001b[0;34m:\u001b[0m\u001b[0;34m\u001b[0m\u001b[0;34m\u001b[0m\u001b[0m\n\u001b[0;32m---> 94\u001b[0;31m         \u001b[0mscore\u001b[0m \u001b[0;34m=\u001b[0m \u001b[0mnp\u001b[0m\u001b[0;34m.\u001b[0m\u001b[0mravel\u001b[0m\u001b[0;34m(\u001b[0m\u001b[0mestimator\u001b[0m\u001b[0;34m.\u001b[0m\u001b[0mdecision_function\u001b[0m\u001b[0;34m(\u001b[0m\u001b[0mX\u001b[0m\u001b[0;34m)\u001b[0m\u001b[0;34m)\u001b[0m\u001b[0;34m\u001b[0m\u001b[0;34m\u001b[0m\u001b[0m\n\u001b[0m\u001b[1;32m     95\u001b[0m     \u001b[0;32mexcept\u001b[0m \u001b[0;34m(\u001b[0m\u001b[0mAttributeError\u001b[0m\u001b[0;34m,\u001b[0m \u001b[0mNotImplementedError\u001b[0m\u001b[0;34m)\u001b[0m\u001b[0;34m:\u001b[0m\u001b[0;34m\u001b[0m\u001b[0;34m\u001b[0m\u001b[0m\n\u001b[1;32m     96\u001b[0m         \u001b[0;31m# probabilities of the positive class\u001b[0m\u001b[0;34m\u001b[0m\u001b[0;34m\u001b[0m\u001b[0;34m\u001b[0m\u001b[0m\n",
            "\u001b[0;32m/usr/local/lib/python3.6/dist-packages/sklearn/linear_model/_base.py\u001b[0m in \u001b[0;36mdecision_function\u001b[0;34m(self, X)\u001b[0m\n\u001b[1;32m    271\u001b[0m         \u001b[0;32mif\u001b[0m \u001b[0mX\u001b[0m\u001b[0;34m.\u001b[0m\u001b[0mshape\u001b[0m\u001b[0;34m[\u001b[0m\u001b[0;36m1\u001b[0m\u001b[0;34m]\u001b[0m \u001b[0;34m!=\u001b[0m \u001b[0mn_features\u001b[0m\u001b[0;34m:\u001b[0m\u001b[0;34m\u001b[0m\u001b[0;34m\u001b[0m\u001b[0m\n\u001b[1;32m    272\u001b[0m             raise ValueError(\"X has %d features per sample; expecting %d\"\n\u001b[0;32m--> 273\u001b[0;31m                              % (X.shape[1], n_features))\n\u001b[0m\u001b[1;32m    274\u001b[0m \u001b[0;34m\u001b[0m\u001b[0m\n\u001b[1;32m    275\u001b[0m         scores = safe_sparse_dot(X, self.coef_.T,\n",
            "\u001b[0;31mValueError\u001b[0m: X has 181626 features per sample; expecting 95862"
          ]
        }
      ]
    },
    {
      "cell_type": "code",
      "metadata": {
        "id": "oYPcVi3cQ1yE"
      },
      "source": [
        "pred_upsample_df.to_csv(\"Malignant_Comments_predictions_upsample\")"
      ],
      "execution_count": null,
      "outputs": []
    },
    {
      "cell_type": "code",
      "metadata": {
        "id": "s9ftn--feiIq"
      },
      "source": [
        "# Saving the model \n",
        "from sklearn.externals import joblib\n",
        "joblib.dump(classifier,\"malignant_comments_upsample.pkl\")"
      ],
      "execution_count": null,
      "outputs": []
    },
    {
      "cell_type": "code",
      "metadata": {
        "id": "5ceU8a-XxcxV"
      },
      "source": [
        ""
      ],
      "execution_count": null,
      "outputs": []
    },
    {
      "cell_type": "code",
      "metadata": {
        "id": "8lOrcv7_qfEX"
      },
      "source": [
        "X.shape"
      ],
      "execution_count": null,
      "outputs": []
    },
    {
      "cell_type": "code",
      "metadata": {
        "id": "DCJu50flqf9B"
      },
      "source": [
        "Y.shape"
      ],
      "execution_count": null,
      "outputs": []
    },
    {
      "cell_type": "code",
      "metadata": {
        "id": "_E1ocDkIqk6K"
      },
      "source": [
        "X_test.shape"
      ],
      "execution_count": null,
      "outputs": []
    },
    {
      "cell_type": "code",
      "metadata": {
        "id": "fl321VBFqocH"
      },
      "source": [
        "204420-181626"
      ],
      "execution_count": null,
      "outputs": []
    },
    {
      "cell_type": "code",
      "metadata": {
        "id": "zC5yqxwerHKE"
      },
      "source": [
        ""
      ],
      "execution_count": null,
      "outputs": []
    }
  ]
}